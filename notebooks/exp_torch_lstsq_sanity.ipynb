{
 "cells": [
  {
   "cell_type": "code",
   "execution_count": 1,
   "id": "5cba784b-43b2-40e1-a02e-8b1d55bba940",
   "metadata": {},
   "outputs": [],
   "source": [
    "import torch\n",
    "import numpy as np\n",
    "import matplotlib.pyplot as plt"
   ]
  },
  {
   "cell_type": "code",
   "execution_count": 3,
   "id": "2f85efe1-cd0d-4926-a4c9-d6e4a09f0b3b",
   "metadata": {},
   "outputs": [
    {
     "name": "stdout",
     "output_type": "stream",
     "text": [
      "bases_vals.shape=(8, 255)\n",
      "bases.shape=torch.Size([8, 255])\n"
     ]
    },
    {
     "data": {
      "text/plain": [
       "<matplotlib.image.AxesImage at 0x7ff8f95a8590>"
      ]
     },
     "execution_count": 3,
     "metadata": {},
     "output_type": "execute_result"
    },
    {
     "data": {
      "image/png": "[encoded data removed]",
      "text/plain": [
       "<Figure size 2000x1000 with 1 Axes>"
      ]
     },
     "metadata": {},
     "output_type": "display_data"
    }
   ],
   "source": [
    "device = \"cpu\"\n",
    "\n",
    "\n",
    "bases_vals = np.array([\n",
    "    [c==\"1\" for c in f\"{i:08b}\"]\n",
    "    for i in range(1, 256)\n",
    "]).transpose()\n",
    "bases = torch.from_numpy(bases_vals).float().to(device)\n",
    "print(f\"{bases_vals.shape=}\")\n",
    "print(f\"{bases.shape=}\")\n",
    "\n",
    "plt.figure(figsize=(20, 10))\n",
    "plt.imshow(bases_vals)"
   ]
  },
  {
   "cell_type": "code",
   "execution_count": 11,
   "id": "ac90ce65-a038-4f2f-99da-eb494bfe151e",
   "metadata": {},
   "outputs": [
    {
     "name": "stdout",
     "output_type": "stream",
     "text": [
      "b.shape = torch.Size([1, 8, 1])\n"
     ]
    }
   ],
   "source": [
    "batch_size = 1\n",
    "\n",
    "\n",
    "b = torch.tensor([0, 0, 1, 1, 0, 1, 0, 1]).tile((batch_size, 1)).unsqueeze(-1).float()\n",
    "print(f\"{b.shape = }\")"
   ]
  },
  {
   "cell_type": "code",
   "execution_count": 12,
   "id": "1949f393-3290-476a-8163-d0a65caa6d59",
   "metadata": {},
   "outputs": [
    {
     "name": "stdout",
     "output_type": "stream",
     "text": [
      "a_mat.shape = torch.Size([1, 8, 255])\n"
     ]
    }
   ],
   "source": [
    "a_mat = bases.unsqueeze(0).float()\n",
    "print(f\"{a_mat.shape = }\")"
   ]
  },
  {
   "cell_type": "code",
   "execution_count": 14,
   "id": "c6296d53-a822-49b0-a5c2-2a25d60d45a2",
   "metadata": {},
   "outputs": [
    {
     "data": {
      "text/plain": [
       "torch.return_types.linalg_lstsq(\n",
       "solution=tensor([[[ 0.0104],\n",
       "         [-0.0052],\n",
       "         [ 0.0052],\n",
       "         [ 0.0000],\n",
       "         [ 0.0104],\n",
       "         [-0.0052],\n",
       "         [ 0.0052],\n",
       "         [ 0.0000],\n",
       "         [ 0.0104],\n",
       "         [-0.0052],\n",
       "         [ 0.0052],\n",
       "         [ 0.0000],\n",
       "         [ 0.0104],\n",
       "         [-0.0052],\n",
       "         [ 0.0052],\n",
       "         [ 0.0000],\n",
       "         [ 0.0104],\n",
       "         [-0.0052],\n",
       "         [ 0.0052],\n",
       "         [ 0.0000],\n",
       "         [ 0.0104],\n",
       "         [-0.0052],\n",
       "         [ 0.0052],\n",
       "         [ 0.0000],\n",
       "         [ 0.0104],\n",
       "         [-0.0052],\n",
       "         [ 0.0052],\n",
       "         [ 0.0000],\n",
       "         [ 0.0104],\n",
       "         [-0.0052],\n",
       "         [ 0.0052],\n",
       "         [ 0.0000],\n",
       "         [ 0.0104],\n",
       "         [-0.0052],\n",
       "         [ 0.0052],\n",
       "         [ 0.0000],\n",
       "         [ 0.0104],\n",
       "         [-0.0052],\n",
       "         [ 0.0052],\n",
       "         [ 0.0000],\n",
       "         [ 0.0104],\n",
       "         [-0.0052],\n",
       "         [ 0.0052],\n",
       "         [ 0.0000],\n",
       "         [ 0.0104],\n",
       "         [-0.0052],\n",
       "         [ 0.0052],\n",
       "         [ 0.0000],\n",
       "         [ 0.0104],\n",
       "         [-0.0052],\n",
       "         [ 0.0052],\n",
       "         [ 0.0000],\n",
       "         [ 0.0104],\n",
       "         [-0.0052],\n",
       "         [ 0.0052],\n",
       "         [ 0.0000],\n",
       "         [ 0.0104],\n",
       "         [-0.0052],\n",
       "         [ 0.0052],\n",
       "         [ 0.0000],\n",
       "         [ 0.0104],\n",
       "         [-0.0052],\n",
       "         [ 0.0052],\n",
       "         [ 0.0000],\n",
       "         [ 0.0104],\n",
       "         [-0.0052],\n",
       "         [ 0.0052],\n",
       "         [ 0.0000],\n",
       "         [ 0.0104],\n",
       "         [-0.0052],\n",
       "         [ 0.0052],\n",
       "         [ 0.0000],\n",
       "         [ 0.0104],\n",
       "         [-0.0052],\n",
       "         [ 0.0052],\n",
       "         [ 0.0000],\n",
       "         [ 0.0104],\n",
       "         [-0.0052],\n",
       "         [ 0.0052],\n",
       "         [ 0.0000],\n",
       "         [ 0.0104],\n",
       "         [-0.0052],\n",
       "         [ 0.0052],\n",
       "         [ 0.0000],\n",
       "         [ 0.0104],\n",
       "         [-0.0052],\n",
       "         [ 0.0052],\n",
       "         [ 0.0000],\n",
       "         [ 0.0104],\n",
       "         [-0.0052],\n",
       "         [ 0.0052],\n",
       "         [ 0.0000],\n",
       "         [ 0.0104],\n",
       "         [-0.0052],\n",
       "         [ 0.0052],\n",
       "         [ 0.0000],\n",
       "         [ 0.0104],\n",
       "         [-0.0052],\n",
       "         [ 0.0052],\n",
       "         [ 0.0000],\n",
       "         [ 0.0104],\n",
       "         [-0.0052],\n",
       "         [ 0.0052],\n",
       "         [ 0.0000],\n",
       "         [ 0.0104],\n",
       "         [-0.0052],\n",
       "         [ 0.0052],\n",
       "         [ 0.0000],\n",
       "         [ 0.0104],\n",
       "         [-0.0052],\n",
       "         [ 0.0052],\n",
       "         [ 0.0000],\n",
       "         [ 0.0104],\n",
       "         [-0.0052],\n",
       "         [ 0.0052],\n",
       "         [ 0.0000],\n",
       "         [ 0.0104],\n",
       "         [-0.0052],\n",
       "         [ 0.0052],\n",
       "         [ 0.0000],\n",
       "         [ 0.0104],\n",
       "         [-0.0052],\n",
       "         [ 0.0052],\n",
       "         [ 0.0000],\n",
       "         [ 0.0104],\n",
       "         [-0.0052],\n",
       "         [ 0.0052],\n",
       "         [ 0.0000],\n",
       "         [ 0.0104],\n",
       "         [-0.0052],\n",
       "         [ 0.0052],\n",
       "         [ 0.0000],\n",
       "         [ 0.0104],\n",
       "         [-0.0052],\n",
       "         [ 0.0052],\n",
       "         [ 0.0000],\n",
       "         [ 0.0104],\n",
       "         [-0.0052],\n",
       "         [ 0.0052],\n",
       "         [ 0.0000],\n",
       "         [ 0.0104],\n",
       "         [-0.0052],\n",
       "         [ 0.0052],\n",
       "         [ 0.0000],\n",
       "         [ 0.0104],\n",
       "         [-0.0052],\n",
       "         [ 0.0052],\n",
       "         [ 0.0000],\n",
       "         [ 0.0104],\n",
       "         [-0.0052],\n",
       "         [ 0.0052],\n",
       "         [ 0.0000],\n",
       "         [ 0.0104],\n",
       "         [-0.0052],\n",
       "         [ 0.0052],\n",
       "         [ 0.0000],\n",
       "         [ 0.0104],\n",
       "         [-0.0052],\n",
       "         [ 0.0052],\n",
       "         [ 0.0000],\n",
       "         [ 0.0104],\n",
       "         [-0.0052],\n",
       "         [ 0.0052],\n",
       "         [ 0.0000],\n",
       "         [ 0.0104],\n",
       "         [-0.0052],\n",
       "         [ 0.0052],\n",
       "         [ 0.0000],\n",
       "         [ 0.0104],\n",
       "         [-0.0052],\n",
       "         [ 0.0052],\n",
       "         [ 0.0000],\n",
       "         [ 0.0104],\n",
       "         [-0.0052],\n",
       "         [ 0.0052],\n",
       "         [ 0.0000],\n",
       "         [ 0.0104],\n",
       "         [-0.0052],\n",
       "         [ 0.0052],\n",
       "         [ 0.0000],\n",
       "         [ 0.0104],\n",
       "         [-0.0052],\n",
       "         [ 0.0052],\n",
       "         [ 0.0000],\n",
       "         [ 0.0104],\n",
       "         [-0.0052],\n",
       "         [ 0.0052],\n",
       "         [ 0.0000],\n",
       "         [ 0.0104],\n",
       "         [-0.0052],\n",
       "         [ 0.0052],\n",
       "         [ 0.0000],\n",
       "         [ 0.0104],\n",
       "         [-0.0052],\n",
       "         [ 0.0052],\n",
       "         [ 0.0000],\n",
       "         [ 0.0104],\n",
       "         [-0.0052],\n",
       "         [ 0.0052],\n",
       "         [ 0.0000],\n",
       "         [ 0.0104],\n",
       "         [-0.0052],\n",
       "         [ 0.0052],\n",
       "         [ 0.0000],\n",
       "         [ 0.0104],\n",
       "         [-0.0052],\n",
       "         [ 0.0052],\n",
       "         [ 0.0000],\n",
       "         [ 0.0104],\n",
       "         [-0.0052],\n",
       "         [ 0.0052],\n",
       "         [ 0.0000],\n",
       "         [ 0.0104],\n",
       "         [-0.0052],\n",
       "         [ 0.0052],\n",
       "         [ 0.0000],\n",
       "         [ 0.0104],\n",
       "         [-0.0052],\n",
       "         [ 0.0052],\n",
       "         [ 0.0000],\n",
       "         [ 0.0104],\n",
       "         [-0.0052],\n",
       "         [ 0.0052],\n",
       "         [ 0.0000],\n",
       "         [ 0.0104],\n",
       "         [-0.0052],\n",
       "         [ 0.0052],\n",
       "         [ 0.0000],\n",
       "         [ 0.0104],\n",
       "         [-0.0052],\n",
       "         [ 0.0052],\n",
       "         [ 0.0000],\n",
       "         [ 0.0104],\n",
       "         [-0.0052],\n",
       "         [ 0.0052],\n",
       "         [ 0.0000],\n",
       "         [ 0.0104],\n",
       "         [-0.0052],\n",
       "         [ 0.0052],\n",
       "         [ 0.0000],\n",
       "         [ 0.0104],\n",
       "         [-0.0052],\n",
       "         [ 0.0052],\n",
       "         [ 0.0000],\n",
       "         [ 0.0104],\n",
       "         [-0.0052],\n",
       "         [ 0.0052],\n",
       "         [ 0.0000],\n",
       "         [ 0.0104],\n",
       "         [-0.0052],\n",
       "         [ 0.0052],\n",
       "         [ 0.0000],\n",
       "         [ 0.0104],\n",
       "         [-0.0052],\n",
       "         [ 0.0052]]]),\n",
       "residuals=tensor([]),\n",
       "rank=tensor([2]),\n",
       "singular_values=tensor([]))"
      ]
     },
     "execution_count": 14,
     "metadata": {},
     "output_type": "execute_result"
    }
   ],
   "source": [
    "lstsq_soln = torch.linalg.lstsq(a_mat, b)\n",
    "lstsq_soln"
   ]
  },
  {
   "cell_type": "code",
   "execution_count": 16,
   "id": "5e828545-012d-4154-a512-28bf62084322",
   "metadata": {},
   "outputs": [
    {
     "data": {
      "text/plain": [
       "tensor([[[ 3.3333e-01],\n",
       "         [ 3.3333e-01],\n",
       "         [-6.6667e-01],\n",
       "         [-6.6667e-01],\n",
       "         [ 3.3333e-01],\n",
       "         [-6.6667e-01],\n",
       "         [-5.5879e-09],\n",
       "         [ 0.0000e+00]]])"
      ]
     },
     "execution_count": 16,
     "metadata": {},
     "output_type": "execute_result"
    }
   ],
   "source": [
    "a_mat @ lstsq_soln.solution - b"
   ]
  },
  {
   "cell_type": "code",
   "execution_count": 22,
   "id": "20c609f8-6edc-42c3-bc8d-31a32b8ed0ac",
   "metadata": {},
   "outputs": [
    {
     "name": "stdout",
     "output_type": "stream",
     "text": [
      "soln = array([ 0.00868056, -0.00694444,  0.00173611,  0.00868056,  0.01736111,\n",
      "        0.00173611,  0.01041667, -0.00694444,  0.00173611, -0.01388889,\n",
      "       -0.00520833,  0.00173611,  0.01041667, -0.00520833,  0.00347222,\n",
      "        0.00868056,  0.01736111,  0.00173611,  0.01041667,  0.01736111,\n",
      "        0.02604167,  0.01041667,  0.01909722,  0.00173611,  0.01041667,\n",
      "       -0.00520833,  0.00347222,  0.01041667,  0.01909722,  0.00347222,\n",
      "        0.01215278,  0.00868056,  0.01736111,  0.00173611,  0.01041667,\n",
      "        0.01736111,  0.02604167,  0.01041667,  0.01909722,  0.00173611,\n",
      "        0.01041667, -0.00520833,  0.00347222,  0.01041667,  0.01909722,\n",
      "        0.00347222,  0.01215278,  0.01736111,  0.02604167,  0.01041667,\n",
      "        0.01909722,  0.02604167,  0.03472222,  0.01909722,  0.02777778,\n",
      "        0.01041667,  0.01909722,  0.00347222,  0.01215278,  0.01909722,\n",
      "        0.02777778,  0.01215278,  0.02083333, -0.00694444,  0.00173611,\n",
      "       -0.01388889, -0.00520833,  0.00173611,  0.01041667, -0.00520833,\n",
      "        0.00347222, -0.01388889, -0.00520833, -0.02083333, -0.01215278,\n",
      "       -0.00520833,  0.00347222, -0.01215278, -0.00347222,  0.00173611,\n",
      "        0.01041667, -0.00520833,  0.00347222,  0.01041667,  0.01909722,\n",
      "        0.00347222,  0.01215278, -0.00520833,  0.00347222, -0.01215278,\n",
      "       -0.00347222,  0.00347222,  0.01215278, -0.00347222,  0.00520833,\n",
      "        0.00173611,  0.01041667, -0.00520833,  0.00347222,  0.01041667,\n",
      "        0.01909722,  0.00347222,  0.01215278, -0.00520833,  0.00347222,\n",
      "       -0.01215278, -0.00347222,  0.00347222,  0.01215278, -0.00347222,\n",
      "        0.00520833,  0.01041667,  0.01909722,  0.00347222,  0.01215278,\n",
      "        0.01909722,  0.02777778,  0.01215278,  0.02083333,  0.00347222,\n",
      "        0.01215278, -0.00347222,  0.00520833,  0.01215278,  0.02083333,\n",
      "        0.00520833,  0.01388889, -0.00694444,  0.00173611, -0.01388889,\n",
      "       -0.00520833,  0.00173611,  0.01041667, -0.00520833,  0.00347222,\n",
      "       -0.01388889, -0.00520833, -0.02083333, -0.01215278, -0.00520833,\n",
      "        0.00347222, -0.01215278, -0.00347222,  0.00173611,  0.01041667,\n",
      "       -0.00520833,  0.00347222,  0.01041667,  0.01909722,  0.00347222,\n",
      "        0.01215278, -0.00520833,  0.00347222, -0.01215278, -0.00347222,\n",
      "        0.00347222,  0.01215278, -0.00347222,  0.00520833,  0.00173611,\n",
      "        0.01041667, -0.00520833,  0.00347222,  0.01041667,  0.01909722,\n",
      "        0.00347222,  0.01215278, -0.00520833,  0.00347222, -0.01215278,\n",
      "       -0.00347222,  0.00347222,  0.01215278, -0.00347222,  0.00520833,\n",
      "        0.01041667,  0.01909722,  0.00347222,  0.01215278,  0.01909722,\n",
      "        0.02777778,  0.01215278,  0.02083333,  0.00347222,  0.01215278,\n",
      "       -0.00347222,  0.00520833,  0.01215278,  0.02083333,  0.00520833,\n",
      "        0.01388889, -0.01388889, -0.00520833, -0.02083333, -0.01215278,\n",
      "       -0.00520833,  0.00347222, -0.01215278, -0.00347222, -0.02083333,\n",
      "       -0.01215278, -0.02777778, -0.01909722, -0.01215278, -0.00347222,\n",
      "       -0.01909722, -0.01041667, -0.00520833,  0.00347222, -0.01215278,\n",
      "       -0.00347222,  0.00347222,  0.01215278, -0.00347222,  0.00520833,\n",
      "       -0.01215278, -0.00347222, -0.01909722, -0.01041667, -0.00347222,\n",
      "        0.00520833, -0.01041667, -0.00173611, -0.00520833,  0.00347222,\n",
      "       -0.01215278, -0.00347222,  0.00347222,  0.01215278, -0.00347222,\n",
      "        0.00520833, -0.01215278, -0.00347222, -0.01909722, -0.01041667,\n",
      "       -0.00347222,  0.00520833, -0.01041667, -0.00173611,  0.00347222,\n",
      "        0.01215278, -0.00347222,  0.00520833,  0.01215278,  0.02083333,\n",
      "        0.00520833,  0.01388889, -0.00347222,  0.00520833, -0.01041667,\n",
      "       -0.00173611,  0.00520833,  0.01388889, -0.00173611,  0.00694444])\n",
      "residuals = array([], dtype=float64)\n",
      "rank = 8\n",
      "[-5.37764278e-16 -1.49186219e-16 -3.33066907e-16 -3.33066907e-16\n",
      "  1.28369537e-16  6.66133815e-16 -2.77555756e-17 -8.88178420e-16]\n"
     ]
    },
    {
     "data": {
      "text/plain": [
       "<BarContainer object of 255 artists>"
      ]
     },
     "execution_count": 22,
     "metadata": {},
     "output_type": "execute_result"
    },
    {
     "data": {
      "image/png": "[encoded data removed]",
      "text/plain": [
       "<Figure size 640x480 with 1 Axes>"
      ]
     },
     "metadata": {},
     "output_type": "display_data"
    }
   ],
   "source": [
    "b_np = b[0, :, 0].cpu().numpy()\n",
    "soln, residuals, rank, singular_vals = np.linalg.lstsq(bases_vals, b_np, rcond=None)\n",
    "print(f\"{soln = }\")\n",
    "print(f\"{residuals = }\")\n",
    "print(f\"{rank = }\")\n",
    "print(bases_vals @ soln - b_np)\n",
    "plt.bar(np.arange(len(soln)), soln)"
   ]
  },
  {
   "cell_type": "code",
   "execution_count": 34,
   "id": "0a5d77ef-8f3c-4cff-9cb5-7c86ea4bbe7f",
   "metadata": {},
   "outputs": [
    {
     "ename": "DCPError",
     "evalue": "Problem does not follow DCP rules. Specifically:\nThe objective is not DCP. Its following subexpressions are not:\npower(Pnorm(var412, 2) + -1.0, 2.0)",
     "output_type": "error",
     "traceback": [
      "\u001b[0;31m---------------------------------------------------------------------------\u001b[0m",
      "\u001b[0;31mDCPError\u001b[0m                                  Traceback (most recent call last)",
      "Cell \u001b[0;32mIn[34], line 8\u001b[0m\n\u001b[1;32m      6\u001b[0m constraints \u001b[38;5;241m=\u001b[39m [\u001b[38;5;241m0\u001b[39m \u001b[38;5;241m<\u001b[39m\u001b[38;5;241m=\u001b[39m x, x \u001b[38;5;241m<\u001b[39m\u001b[38;5;241m=\u001b[39m \u001b[38;5;241m1\u001b[39m]\n\u001b[1;32m      7\u001b[0m prob \u001b[38;5;241m=\u001b[39m cp\u001b[38;5;241m.\u001b[39mProblem(objective, constraints)\n\u001b[0;32m----> 8\u001b[0m result \u001b[38;5;241m=\u001b[39m \u001b[43mprob\u001b[49m\u001b[38;5;241;43m.\u001b[39;49m\u001b[43msolve\u001b[49m\u001b[43m(\u001b[49m\u001b[43m)\u001b[49m\n\u001b[1;32m      9\u001b[0m \u001b[38;5;28mprint\u001b[39m(\u001b[38;5;124m\"\u001b[39m\u001b[38;5;124mresidual: \u001b[39m\u001b[38;5;124m\"\u001b[39m, bases_vals \u001b[38;5;241m@\u001b[39m x\u001b[38;5;241m.\u001b[39mvalue \u001b[38;5;241m-\u001b[39m b_np)\n\u001b[1;32m     10\u001b[0m \u001b[38;5;28mprint\u001b[39m(\u001b[38;5;124m\"\u001b[39m\u001b[38;5;124mnorm: \u001b[39m\u001b[38;5;124m\"\u001b[39m, np\u001b[38;5;241m.\u001b[39mlinalg\u001b[38;5;241m.\u001b[39mnorm(x\u001b[38;5;241m.\u001b[39mvalue))\n",
      "File \u001b[0;32m~/mambaforge/envs/sennet/lib/python3.11/site-packages/cvxpy/problems/problem.py:503\u001b[0m, in \u001b[0;36mProblem.solve\u001b[0;34m(self, *args, **kwargs)\u001b[0m\n\u001b[1;32m    501\u001b[0m \u001b[38;5;28;01melse\u001b[39;00m:\n\u001b[1;32m    502\u001b[0m     solve_func \u001b[38;5;241m=\u001b[39m Problem\u001b[38;5;241m.\u001b[39m_solve\n\u001b[0;32m--> 503\u001b[0m \u001b[38;5;28;01mreturn\u001b[39;00m \u001b[43msolve_func\u001b[49m\u001b[43m(\u001b[49m\u001b[38;5;28;43mself\u001b[39;49m\u001b[43m,\u001b[49m\u001b[43m \u001b[49m\u001b[38;5;241;43m*\u001b[39;49m\u001b[43margs\u001b[49m\u001b[43m,\u001b[49m\u001b[43m \u001b[49m\u001b[38;5;241;43m*\u001b[39;49m\u001b[38;5;241;43m*\u001b[39;49m\u001b[43mkwargs\u001b[49m\u001b[43m)\u001b[49m\n",
      "File \u001b[0;32m~/mambaforge/envs/sennet/lib/python3.11/site-packages/cvxpy/problems/problem.py:1072\u001b[0m, in \u001b[0;36mProblem._solve\u001b[0;34m(self, solver, warm_start, verbose, gp, qcp, requires_grad, enforce_dpp, ignore_dpp, canon_backend, **kwargs)\u001b[0m\n\u001b[1;32m   1069\u001b[0m         \u001b[38;5;28mself\u001b[39m\u001b[38;5;241m.\u001b[39munpack(chain\u001b[38;5;241m.\u001b[39mretrieve(soln))\n\u001b[1;32m   1070\u001b[0m         \u001b[38;5;28;01mreturn\u001b[39;00m \u001b[38;5;28mself\u001b[39m\u001b[38;5;241m.\u001b[39mvalue\n\u001b[0;32m-> 1072\u001b[0m data, solving_chain, inverse_data \u001b[38;5;241m=\u001b[39m \u001b[38;5;28;43mself\u001b[39;49m\u001b[38;5;241;43m.\u001b[39;49m\u001b[43mget_problem_data\u001b[49m\u001b[43m(\u001b[49m\n\u001b[1;32m   1073\u001b[0m \u001b[43m    \u001b[49m\u001b[43msolver\u001b[49m\u001b[43m,\u001b[49m\u001b[43m \u001b[49m\u001b[43mgp\u001b[49m\u001b[43m,\u001b[49m\u001b[43m \u001b[49m\u001b[43menforce_dpp\u001b[49m\u001b[43m,\u001b[49m\u001b[43m \u001b[49m\u001b[43mignore_dpp\u001b[49m\u001b[43m,\u001b[49m\u001b[43m \u001b[49m\u001b[43mverbose\u001b[49m\u001b[43m,\u001b[49m\u001b[43m \u001b[49m\u001b[43mcanon_backend\u001b[49m\u001b[43m,\u001b[49m\u001b[43m \u001b[49m\u001b[43mkwargs\u001b[49m\n\u001b[1;32m   1074\u001b[0m \u001b[43m\u001b[49m\u001b[43m)\u001b[49m\n\u001b[1;32m   1076\u001b[0m \u001b[38;5;28;01mif\u001b[39;00m verbose:\n\u001b[1;32m   1077\u001b[0m     \u001b[38;5;28mprint\u001b[39m(_NUM_SOLVER_STR)\n",
      "File \u001b[0;32m~/mambaforge/envs/sennet/lib/python3.11/site-packages/cvxpy/problems/problem.py:646\u001b[0m, in \u001b[0;36mProblem.get_problem_data\u001b[0;34m(self, solver, gp, enforce_dpp, ignore_dpp, verbose, canon_backend, solver_opts)\u001b[0m\n\u001b[1;32m    644\u001b[0m \u001b[38;5;28;01mif\u001b[39;00m key \u001b[38;5;241m!=\u001b[39m \u001b[38;5;28mself\u001b[39m\u001b[38;5;241m.\u001b[39m_cache\u001b[38;5;241m.\u001b[39mkey:\n\u001b[1;32m    645\u001b[0m     \u001b[38;5;28mself\u001b[39m\u001b[38;5;241m.\u001b[39m_cache\u001b[38;5;241m.\u001b[39minvalidate()\n\u001b[0;32m--> 646\u001b[0m     solving_chain \u001b[38;5;241m=\u001b[39m \u001b[38;5;28;43mself\u001b[39;49m\u001b[38;5;241;43m.\u001b[39;49m\u001b[43m_construct_chain\u001b[49m\u001b[43m(\u001b[49m\n\u001b[1;32m    647\u001b[0m \u001b[43m        \u001b[49m\u001b[43msolver\u001b[49m\u001b[38;5;241;43m=\u001b[39;49m\u001b[43msolver\u001b[49m\u001b[43m,\u001b[49m\u001b[43m \u001b[49m\u001b[43mgp\u001b[49m\u001b[38;5;241;43m=\u001b[39;49m\u001b[43mgp\u001b[49m\u001b[43m,\u001b[49m\n\u001b[1;32m    648\u001b[0m \u001b[43m        \u001b[49m\u001b[43menforce_dpp\u001b[49m\u001b[38;5;241;43m=\u001b[39;49m\u001b[43menforce_dpp\u001b[49m\u001b[43m,\u001b[49m\n\u001b[1;32m    649\u001b[0m \u001b[43m        \u001b[49m\u001b[43mignore_dpp\u001b[49m\u001b[38;5;241;43m=\u001b[39;49m\u001b[43mignore_dpp\u001b[49m\u001b[43m,\u001b[49m\n\u001b[1;32m    650\u001b[0m \u001b[43m        \u001b[49m\u001b[43mcanon_backend\u001b[49m\u001b[38;5;241;43m=\u001b[39;49m\u001b[43mcanon_backend\u001b[49m\u001b[43m,\u001b[49m\n\u001b[1;32m    651\u001b[0m \u001b[43m        \u001b[49m\u001b[43msolver_opts\u001b[49m\u001b[38;5;241;43m=\u001b[39;49m\u001b[43msolver_opts\u001b[49m\u001b[43m)\u001b[49m\n\u001b[1;32m    652\u001b[0m     \u001b[38;5;28mself\u001b[39m\u001b[38;5;241m.\u001b[39m_cache\u001b[38;5;241m.\u001b[39mkey \u001b[38;5;241m=\u001b[39m key\n\u001b[1;32m    653\u001b[0m     \u001b[38;5;28mself\u001b[39m\u001b[38;5;241m.\u001b[39m_cache\u001b[38;5;241m.\u001b[39msolving_chain \u001b[38;5;241m=\u001b[39m solving_chain\n",
      "File \u001b[0;32m~/mambaforge/envs/sennet/lib/python3.11/site-packages/cvxpy/problems/problem.py:898\u001b[0m, in \u001b[0;36mProblem._construct_chain\u001b[0;34m(self, solver, gp, enforce_dpp, ignore_dpp, canon_backend, solver_opts)\u001b[0m\n\u001b[1;32m    896\u001b[0m candidate_solvers \u001b[38;5;241m=\u001b[39m \u001b[38;5;28mself\u001b[39m\u001b[38;5;241m.\u001b[39m_find_candidate_solvers(solver\u001b[38;5;241m=\u001b[39msolver, gp\u001b[38;5;241m=\u001b[39mgp)\n\u001b[1;32m    897\u001b[0m \u001b[38;5;28mself\u001b[39m\u001b[38;5;241m.\u001b[39m_sort_candidate_solvers(candidate_solvers)\n\u001b[0;32m--> 898\u001b[0m \u001b[38;5;28;01mreturn\u001b[39;00m \u001b[43mconstruct_solving_chain\u001b[49m\u001b[43m(\u001b[49m\u001b[38;5;28;43mself\u001b[39;49m\u001b[43m,\u001b[49m\u001b[43m \u001b[49m\u001b[43mcandidate_solvers\u001b[49m\u001b[43m,\u001b[49m\u001b[43m \u001b[49m\u001b[43mgp\u001b[49m\u001b[38;5;241;43m=\u001b[39;49m\u001b[43mgp\u001b[49m\u001b[43m,\u001b[49m\n\u001b[1;32m    899\u001b[0m \u001b[43m                               \u001b[49m\u001b[43menforce_dpp\u001b[49m\u001b[38;5;241;43m=\u001b[39;49m\u001b[43menforce_dpp\u001b[49m\u001b[43m,\u001b[49m\n\u001b[1;32m    900\u001b[0m \u001b[43m                               \u001b[49m\u001b[43mignore_dpp\u001b[49m\u001b[38;5;241;43m=\u001b[39;49m\u001b[43mignore_dpp\u001b[49m\u001b[43m,\u001b[49m\n\u001b[1;32m    901\u001b[0m \u001b[43m                               \u001b[49m\u001b[43mcanon_backend\u001b[49m\u001b[38;5;241;43m=\u001b[39;49m\u001b[43mcanon_backend\u001b[49m\u001b[43m,\u001b[49m\n\u001b[1;32m    902\u001b[0m \u001b[43m                               \u001b[49m\u001b[43msolver_opts\u001b[49m\u001b[38;5;241;43m=\u001b[39;49m\u001b[43msolver_opts\u001b[49m\u001b[43m,\u001b[49m\n\u001b[1;32m    903\u001b[0m \u001b[43m                               \u001b[49m\u001b[43mspecified_solver\u001b[49m\u001b[38;5;241;43m=\u001b[39;49m\u001b[43msolver\u001b[49m\u001b[43m)\u001b[49m\n",
      "File \u001b[0;32m~/mambaforge/envs/sennet/lib/python3.11/site-packages/cvxpy/reductions/solvers/solving_chain.py:217\u001b[0m, in \u001b[0;36mconstruct_solving_chain\u001b[0;34m(problem, candidates, gp, enforce_dpp, ignore_dpp, canon_backend, solver_opts, specified_solver)\u001b[0m\n\u001b[1;32m    215\u001b[0m \u001b[38;5;28;01mif\u001b[39;00m \u001b[38;5;28mlen\u001b[39m(problem\u001b[38;5;241m.\u001b[39mvariables()) \u001b[38;5;241m==\u001b[39m \u001b[38;5;241m0\u001b[39m:\n\u001b[1;32m    216\u001b[0m     \u001b[38;5;28;01mreturn\u001b[39;00m SolvingChain(reductions\u001b[38;5;241m=\u001b[39m[ConstantSolver()])\n\u001b[0;32m--> 217\u001b[0m reductions \u001b[38;5;241m=\u001b[39m \u001b[43m_reductions_for_problem_class\u001b[49m\u001b[43m(\u001b[49m\u001b[43mproblem\u001b[49m\u001b[43m,\u001b[49m\u001b[43m \u001b[49m\u001b[43mcandidates\u001b[49m\u001b[43m,\u001b[49m\u001b[43m \u001b[49m\u001b[43mgp\u001b[49m\u001b[43m,\u001b[49m\u001b[43m \u001b[49m\u001b[43msolver_opts\u001b[49m\u001b[43m)\u001b[49m\n\u001b[1;32m    219\u001b[0m \u001b[38;5;66;03m# Process DPP status of the problem.\u001b[39;00m\n\u001b[1;32m    220\u001b[0m dpp_context \u001b[38;5;241m=\u001b[39m \u001b[38;5;124m'\u001b[39m\u001b[38;5;124mdcp\u001b[39m\u001b[38;5;124m'\u001b[39m \u001b[38;5;28;01mif\u001b[39;00m \u001b[38;5;129;01mnot\u001b[39;00m gp \u001b[38;5;28;01melse\u001b[39;00m \u001b[38;5;124m'\u001b[39m\u001b[38;5;124mdgp\u001b[39m\u001b[38;5;124m'\u001b[39m\n",
      "File \u001b[0;32m~/mambaforge/envs/sennet/lib/python3.11/site-packages/cvxpy/reductions/solvers/solving_chain.py:132\u001b[0m, in \u001b[0;36m_reductions_for_problem_class\u001b[0;34m(problem, candidates, gp, solver_opts)\u001b[0m\n\u001b[1;32m    129\u001b[0m     \u001b[38;5;28;01melif\u001b[39;00m problem\u001b[38;5;241m.\u001b[39mis_dqcp():\n\u001b[1;32m    130\u001b[0m         append \u001b[38;5;241m+\u001b[39m\u001b[38;5;241m=\u001b[39m (\u001b[38;5;124m\"\u001b[39m\u001b[38;5;130;01m\\n\u001b[39;00m\u001b[38;5;124mHowever, the problem does follow DQCP rules. \u001b[39m\u001b[38;5;124m\"\u001b[39m\n\u001b[1;32m    131\u001b[0m                    \u001b[38;5;124m\"\u001b[39m\u001b[38;5;124mConsider calling solve() with `qcp=True`.\u001b[39m\u001b[38;5;124m\"\u001b[39m)\n\u001b[0;32m--> 132\u001b[0m     \u001b[38;5;28;01mraise\u001b[39;00m DCPError(\n\u001b[1;32m    133\u001b[0m         \u001b[38;5;124m\"\u001b[39m\u001b[38;5;124mProblem does not follow DCP rules. Specifically:\u001b[39m\u001b[38;5;130;01m\\n\u001b[39;00m\u001b[38;5;124m\"\u001b[39m \u001b[38;5;241m+\u001b[39m append)\n\u001b[1;32m    134\u001b[0m \u001b[38;5;28;01melif\u001b[39;00m gp \u001b[38;5;129;01mand\u001b[39;00m \u001b[38;5;129;01mnot\u001b[39;00m problem\u001b[38;5;241m.\u001b[39mis_dgp():\n\u001b[1;32m    135\u001b[0m     append \u001b[38;5;241m=\u001b[39m build_non_disciplined_error_msg(problem, \u001b[38;5;124m'\u001b[39m\u001b[38;5;124mDGP\u001b[39m\u001b[38;5;124m'\u001b[39m)\n",
      "\u001b[0;31mDCPError\u001b[0m: Problem does not follow DCP rules. Specifically:\nThe objective is not DCP. Its following subexpressions are not:\npower(Pnorm(var412, 2) + -1.0, 2.0)"
     ]
    }
   ],
   "source": [
    "import cvxpy as cp\n",
    "\n",
    "\n",
    "x = cp.Variable(255)\n",
    "objective = cp.Minimize(cp.sum_squares(bases_vals @ x - b_np) + (cp.norm2(x) - 1)**2)\n",
    "constraints = [0 <= x, x <= 1]\n",
    "prob = cp.Problem(objective, constraints)\n",
    "result = prob.solve()\n",
    "print(\"residual: \", bases_vals @ x.value - b_np)\n",
    "print(\"norm: \", np.linalg.norm(x.value))\n",
    "plt.bar(np.arange(len(x.value)), x.value)"
   ]
  }
 ],
 "metadata": {
  "kernelspec": {
   "display_name": "Python 3 (ipykernel)",
   "language": "python",
   "name": "python3"
  },
  "language_info": {
   "codemirror_mode": {
    "name": "ipython",
    "version": 3
   },
   "file_extension": ".py",
   "mimetype": "text/x-python",
   "name": "python",
   "nbconvert_exporter": "python",
   "pygments_lexer": "ipython3",
   "version": "3.11.6"
  }
 },
 "nbformat": 4,
 "nbformat_minor": 5
}
