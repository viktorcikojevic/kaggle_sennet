{
 "cells": [
  {
   "cell_type": "code",
   "execution_count": 4,
   "metadata": {},
   "outputs": [
    {
     "name": "stderr",
     "output_type": "stream",
     "text": [
      "Some weights of SegformerForSemanticSegmentation were not initialized from the model checkpoint at nvidia/mit-b1 and are newly initialized: ['decode_head.linear_c.1.proj.bias', 'decode_head.batch_norm.num_batches_tracked', 'decode_head.batch_norm.weight', 'decode_head.linear_c.1.proj.weight', 'decode_head.linear_c.3.proj.weight', 'decode_head.linear_c.2.proj.bias', 'decode_head.linear_c.0.proj.weight', 'decode_head.batch_norm.running_mean', 'decode_head.linear_c.2.proj.weight', 'decode_head.batch_norm.bias', 'decode_head.classifier.weight', 'decode_head.linear_c.0.proj.bias', 'decode_head.classifier.bias', 'decode_head.batch_norm.running_var', 'decode_head.linear_c.3.proj.bias', 'decode_head.linear_fuse.weight']\n",
      "You should probably TRAIN this model on a down-stream task to be able to use it for predictions and inference.\n",
      "Some weights of SegformerForSemanticSegmentation were not initialized from the model checkpoint at nvidia/mit-b1 and are newly initialized because the shapes did not match:\n",
      "- segformer.encoder.patch_embeddings.0.proj.weight: found shape torch.Size([64, 3, 7, 7]) in the checkpoint and torch.Size([64, 1, 7, 7]) in the model instantiated\n",
      "You should probably TRAIN this model on a down-stream task to be able to use it for predictions and inference.\n"
     ]
    },
    {
     "data": {
      "text/plain": [
       "torch.Size([1, 1, 64, 64])"
      ]
     },
     "execution_count": 4,
     "metadata": {},
     "output_type": "execute_result"
    }
   ],
   "source": [
    "from transformers import SegformerForSemanticSegmentation\n",
    "import torch\n",
    "\n",
    "\n",
    "encoder_2d = SegformerForSemanticSegmentation.from_pretrained(\n",
    "    \"nvidia/mit-b1\",\n",
    "    num_labels=1,\n",
    "    ignore_mismatched_sizes=True,\n",
    "    num_channels=1\n",
    ").eval()\n",
    "\n",
    "\n",
    "\n",
    "\n",
    "dummy_input = torch.randn(1, 1, 256, 256)\n",
    "y_out = encoder_2d(dummy_input)\n",
    "y_out.logits.shape"
   ]
  },
  {
   "cell_type": "code",
   "execution_count": 2,
   "metadata": {},
   "outputs": [
    {
     "data": {
      "text/plain": [
       "SegformerConfig {\n",
       "  \"_name_or_path\": \"nvidia/mit-b1\",\n",
       "  \"architectures\": [\n",
       "    \"SegformerForImageClassification\"\n",
       "  ],\n",
       "  \"attention_probs_dropout_prob\": 0.0,\n",
       "  \"classifier_dropout_prob\": 0.1,\n",
       "  \"decoder_hidden_size\": 256,\n",
       "  \"depths\": [\n",
       "    2,\n",
       "    2,\n",
       "    2,\n",
       "    2\n",
       "  ],\n",
       "  \"downsampling_rates\": [\n",
       "    1,\n",
       "    4,\n",
       "    8,\n",
       "    16\n",
       "  ],\n",
       "  \"drop_path_rate\": 0.1,\n",
       "  \"hidden_act\": \"gelu\",\n",
       "  \"hidden_dropout_prob\": 0.0,\n",
       "  \"hidden_sizes\": [\n",
       "    64,\n",
       "    128,\n",
       "    320,\n",
       "    512\n",
       "  ],\n",
       "  \"id2label\": {\n",
       "    \"0\": \"LABEL_0\"\n",
       "  },\n",
       "  \"image_size\": 224,\n",
       "  \"initializer_range\": 0.02,\n",
       "  \"label2id\": {\n",
       "    \"LABEL_0\": 0\n",
       "  },\n",
       "  \"layer_norm_eps\": 1e-06,\n",
       "  \"mlp_ratios\": [\n",
       "    4,\n",
       "    4,\n",
       "    4,\n",
       "    4\n",
       "  ],\n",
       "  \"model_type\": \"segformer\",\n",
       "  \"num_attention_heads\": [\n",
       "    1,\n",
       "    2,\n",
       "    5,\n",
       "    8\n",
       "  ],\n",
       "  \"num_channels\": 1,\n",
       "  \"num_encoder_blocks\": 4,\n",
       "  \"patch_sizes\": [\n",
       "    7,\n",
       "    3,\n",
       "    3,\n",
       "    3\n",
       "  ],\n",
       "  \"reshape_last_stage\": true,\n",
       "  \"semantic_loss_ignore_index\": 255,\n",
       "  \"sr_ratios\": [\n",
       "    8,\n",
       "    4,\n",
       "    2,\n",
       "    1\n",
       "  ],\n",
       "  \"strides\": [\n",
       "    4,\n",
       "    2,\n",
       "    2,\n",
       "    2\n",
       "  ],\n",
       "  \"torch_dtype\": \"float32\",\n",
       "  \"transformers_version\": \"4.34.0\"\n",
       "}"
      ]
     },
     "execution_count": 2,
     "metadata": {},
     "output_type": "execute_result"
    }
   ],
   "source": [
    "encoder_2d.config"
   ]
  },
  {
   "cell_type": "code",
   "execution_count": 13,
   "metadata": {},
   "outputs": [
    {
     "name": "stderr",
     "output_type": "stream",
     "text": [
      "Some weights of SegformerForSemanticSegmentation were not initialized from the model checkpoint at nvidia/mit-b1 and are newly initialized: ['decode_head.linear_fuse.weight', 'decode_head.linear_c.3.proj.bias', 'decode_head.linear_c.2.proj.bias', 'decode_head.linear_c.1.proj.bias', 'decode_head.batch_norm.running_mean', 'decode_head.batch_norm.num_batches_tracked', 'decode_head.linear_c.0.proj.weight', 'decode_head.classifier.weight', 'decode_head.batch_norm.bias', 'decode_head.linear_c.3.proj.weight', 'decode_head.linear_c.0.proj.bias', 'decode_head.batch_norm.weight', 'decode_head.linear_c.1.proj.weight', 'decode_head.batch_norm.running_var', 'decode_head.classifier.bias', 'decode_head.linear_c.2.proj.weight']\n",
      "You should probably TRAIN this model on a down-stream task to be able to use it for predictions and inference.\n",
      "Some weights of SegformerForSemanticSegmentation were not initialized from the model checkpoint at nvidia/mit-b1 and are newly initialized because the shapes did not match:\n",
      "- segformer.encoder.patch_embeddings.0.proj.weight: found shape torch.Size([64, 3, 7, 7]) in the checkpoint and torch.Size([64, 1, 7, 7]) in the model instantiated\n",
      "You should probably TRAIN this model on a down-stream task to be able to use it for predictions and inference.\n"
     ]
    },
    {
     "data": {
      "text/plain": [
       "torch.Size([1, 1, 256, 256])"
      ]
     },
     "execution_count": 13,
     "metadata": {},
     "output_type": "execute_result"
    }
   ],
   "source": [
    "import torch.nn as nn\n",
    "\n",
    "class CustomModel(nn.Module):\n",
    "\n",
    "\tdef __init__(self, scale_factor=2):\n",
    "\t\tsuper().__init__()\n",
    "\t\t\n",
    "\t\tself.upsampler = nn.Upsample(scale_factor=scale_factor, mode='bilinear', align_corners=True)\n",
    "\t\tself.encoder = SegformerForSemanticSegmentation.from_pretrained(\n",
    "\t\t\t\"nvidia/mit-b1\",\n",
    "\t\t\tnum_labels=1,\n",
    "\t\t\tignore_mismatched_sizes=True,\n",
    "\t\t\tnum_channels=1\n",
    "\t\t)\n",
    "\t\tself.upscaler1 = nn.ConvTranspose2d(1, 1, kernel_size=(4,4), stride=2, padding=1)\n",
    "\n",
    "\tdef forward(self, x):\n",
    "\t\tx = self.upsampler(x)\n",
    "\t\tx = self.encoder(x).logits\n",
    "\t\tx = self.upscaler1(x)\n",
    "\t\treturn x\n",
    "\n",
    "\n",
    "model = CustomModel(scale_factor=2)\n",
    "model.eval()\n",
    "dummy_input = torch.randn(1, 1, 256, 256)\n",
    "y_out = model(dummy_input)\n",
    "y_out.shape"
   ]
  },
  {
   "cell_type": "code",
   "execution_count": null,
   "metadata": {},
   "outputs": [],
   "source": []
  }
 ],
 "metadata": {
  "kernelspec": {
   "display_name": "torch-env",
   "language": "python",
   "name": "python3"
  },
  "language_info": {
   "codemirror_mode": {
    "name": "ipython",
    "version": 3
   },
   "file_extension": ".py",
   "mimetype": "text/x-python",
   "name": "python",
   "nbconvert_exporter": "python",
   "pygments_lexer": "ipython3",
   "version": "3.9.16"
  }
 },
 "nbformat": 4,
 "nbformat_minor": 2
}
