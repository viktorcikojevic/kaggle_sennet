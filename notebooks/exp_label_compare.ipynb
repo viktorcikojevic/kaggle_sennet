{
 "cells": [
  {
   "cell_type": "code",
   "execution_count": 1,
   "id": "2cec6ed2-4b67-4b19-948b-8882af2b54ce",
   "metadata": {},
   "outputs": [],
   "source": [
    "import sys\n",
    "\n",
    "\n",
    "sys.path.append(\"../src/\")"
   ]
  },
  {
   "cell_type": "code",
   "execution_count": 3,
   "id": "1b0df1e3-cba1-42db-bb01-446088c0cf34",
   "metadata": {},
   "outputs": [],
   "source": [
    "from sennet.core.mmap_arrays import read_mmap_array, create_mmap_array\n",
    "import matplotlib.pyplot as plt\n",
    "import torch\n",
    "import torch.nn as nn\n",
    "import numpy as np\n",
    "from pathlib import Path"
   ]
  },
  {
   "cell_type": "code",
   "execution_count": 7,
   "id": "2fc79fdf-e5b3-4d55-bfbf-5fdbf18b6c5a",
   "metadata": {},
   "outputs": [
    {
     "name": "stdout",
     "output_type": "stream",
     "text": [
      "(501, 1706, 1510)\n",
      "(501, 1706, 1510)\n"
     ]
    }
   ],
   "source": [
    "k3d_label = read_mmap_array(\"/home/clay/research/kaggle/sennet/data_dumps/processed/kidney_3_dense/label\", mode=\"r\").data\n",
    "k3s_label = read_mmap_array(\"/home/clay/research/kaggle/sennet/data_dumps/processed/kidney_3_sparse/label\", mode=\"r\").data[496:997, ...]\n",
    "\n",
    "print(k3d_label.shape)\n",
    "print(k3s_label.shape)"
   ]
  },
  {
   "cell_type": "code",
   "execution_count": 10,
   "id": "6466ef9f-e6ed-4b62-8b43-e20c32478950",
   "metadata": {},
   "outputs": [
    {
     "data": {
      "text/plain": [
       "37682"
      ]
     },
     "execution_count": 10,
     "metadata": {},
     "output_type": "execute_result"
    }
   ],
   "source": [
    "(k3d_label & ~k3s_label).sum()"
   ]
  },
  {
   "cell_type": "code",
   "execution_count": 11,
   "id": "7ca3ce73-6875-42a8-bb73-d60fe9ea4959",
   "metadata": {},
   "outputs": [
    {
     "data": {
      "text/plain": [
       "7360"
      ]
     },
     "execution_count": 11,
     "metadata": {},
     "output_type": "execute_result"
    }
   ],
   "source": [
    "(~k3d_label & k3s_label).sum()"
   ]
  },
  {
   "cell_type": "code",
   "execution_count": 12,
   "id": "5da478af-15bb-445a-a27f-073e50664ee6",
   "metadata": {},
   "outputs": [
    {
     "data": {
      "text/plain": [
       "2875443"
      ]
     },
     "execution_count": 12,
     "metadata": {},
     "output_type": "execute_result"
    }
   ],
   "source": [
    "k3s_label.sum()"
   ]
  },
  {
   "cell_type": "code",
   "execution_count": 13,
   "id": "2def4359-6937-4d72-a67b-a2acee093487",
   "metadata": {},
   "outputs": [
    {
     "data": {
      "text/plain": [
       "2905765"
      ]
     },
     "execution_count": 13,
     "metadata": {},
     "output_type": "execute_result"
    }
   ],
   "source": [
    "k3d_label.sum()"
   ]
  },
  {
   "cell_type": "code",
   "execution_count": 14,
   "id": "417201dc-4563-4f62-abac-6eaf1f824c95",
   "metadata": {},
   "outputs": [
    {
     "data": {
      "text/plain": [
       "0.9895648822255069"
      ]
     },
     "execution_count": 14,
     "metadata": {},
     "output_type": "execute_result"
    }
   ],
   "source": [
    "k3s_label.sum() / k3d_label.sum()"
   ]
  }
 ],
 "metadata": {
  "kernelspec": {
   "display_name": "Python 3 (ipykernel)",
   "language": "python",
   "name": "python3"
  },
  "language_info": {
   "codemirror_mode": {
    "name": "ipython",
    "version": 3
   },
   "file_extension": ".py",
   "mimetype": "text/x-python",
   "name": "python",
   "nbconvert_exporter": "python",
   "pygments_lexer": "ipython3",
   "version": "3.11.6"
  }
 },
 "nbformat": 4,
 "nbformat_minor": 5
}
