{
 "cells": [
  {
   "cell_type": "code",
   "execution_count": 1,
   "id": "08177c00-2478-4ebc-91be-1aa570587a23",
   "metadata": {},
   "outputs": [],
   "source": [
    "import sys\n",
    "\n",
    "\n",
    "sys.path.append(\"../src/\")"
   ]
  },
  {
   "cell_type": "code",
   "execution_count": 2,
   "id": "8bb81d82-d64a-4682-8dea-4f984b59a42d",
   "metadata": {},
   "outputs": [],
   "source": [
    "from sennet.custom_modules.models.unet3d.model import UNet3D\n",
    "import torch\n",
    "import numpy as np"
   ]
  },
  {
   "cell_type": "code",
   "execution_count": 9,
   "id": "0c81a80f-41ab-4ec8-8b3a-84d6f3bb1b48",
   "metadata": {},
   "outputs": [],
   "source": [
    "model = UNet3D(1, 3, final_sigmoid=False)"
   ]
  },
  {
   "cell_type": "code",
   "execution_count": 10,
   "id": "754b8d3c-9271-4e45-857d-2cf337ab3c0d",
   "metadata": {},
   "outputs": [],
   "source": [
    "img = torch.rand(2, 1, 10, 200, 200)"
   ]
  },
  {
   "cell_type": "code",
   "execution_count": 11,
   "id": "633c4ef3-f47b-4b0c-9807-14478f92a40a",
   "metadata": {},
   "outputs": [],
   "source": [
    "output = model(img)"
   ]
  },
  {
   "cell_type": "code",
   "execution_count": 12,
   "id": "66f99610-ea0c-44ba-a37e-e7544490ae27",
   "metadata": {},
   "outputs": [
    {
     "data": {
      "text/plain": [
       "torch.Size([2, 3, 10, 200, 200])"
      ]
     },
     "execution_count": 12,
     "metadata": {},
     "output_type": "execute_result"
    }
   ],
   "source": [
    "output.shape"
   ]
  },
  {
   "cell_type": "code",
   "execution_count": null,
   "id": "e6d202ef-76e6-4e83-b5d1-98f65ccf18d1",
   "metadata": {},
   "outputs": [],
   "source": []
  }
 ],
 "metadata": {
  "kernelspec": {
   "display_name": "Python 3 (ipykernel)",
   "language": "python",
   "name": "python3"
  },
  "language_info": {
   "codemirror_mode": {
    "name": "ipython",
    "version": 3
   },
   "file_extension": ".py",
   "mimetype": "text/x-python",
   "name": "python",
   "nbconvert_exporter": "python",
   "pygments_lexer": "ipython3",
   "version": "3.11.6"
  }
 },
 "nbformat": 4,
 "nbformat_minor": 5
}
