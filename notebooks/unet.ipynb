{
 "cells": [
  {
   "cell_type": "code",
   "execution_count": null,
   "id": "08177c00-2478-4ebc-91be-1aa570587a23",
   "metadata": {},
   "outputs": [],
   "source": [
    "import sys\n",
    "\n",
    "\n",
    "sys.path.append(\"../src/\")"
   ]
  },
  {
   "cell_type": "code",
   "execution_count": null,
   "id": "8bb81d82-d64a-4682-8dea-4f984b59a42d",
   "metadata": {},
   "outputs": [],
   "source": [
    "from sennet.custom_modules.models.unet3d.model import UNet3D\n",
    "import torch\n",
    "import numpy as np"
   ]
  },
  {
   "cell_type": "code",
   "execution_count": null,
   "id": "0c81a80f-41ab-4ec8-8b3a-84d6f3bb1b48",
   "metadata": {},
   "outputs": [],
   "source": [
    "model = UNet3D(1, 1, final_sigmoid=False, is_segmentation=False, is3d=True)"
   ]
  },
  {
   "cell_type": "code",
   "execution_count": null,
   "id": "754b8d3c-9271-4e45-857d-2cf337ab3c0d",
   "metadata": {},
   "outputs": [],
   "source": [
    "img = (torch.rand(2, 1, 10, 200, 200) - 0.5) * 3"
   ]
  },
  {
   "cell_type": "code",
   "execution_count": null,
   "id": "633c4ef3-f47b-4b0c-9807-14478f92a40a",
   "metadata": {},
   "outputs": [],
   "source": [
    "output = model(img)"
   ]
  },
  {
   "cell_type": "code",
   "execution_count": null,
   "id": "66f99610-ea0c-44ba-a37e-e7544490ae27",
   "metadata": {},
   "outputs": [],
   "source": [
    "output.shape"
   ]
  },
  {
   "cell_type": "code",
   "execution_count": null,
   "id": "e6d202ef-76e6-4e83-b5d1-98f65ccf18d1",
   "metadata": {},
   "outputs": [],
   "source": [
    "model"
   ]
  },
  {
   "cell_type": "code",
   "execution_count": null,
   "id": "55018cf6-6b4f-4139-a5c6-81cd5d8bebf1",
   "metadata": {},
   "outputs": [],
   "source": [
    "ckpt = torch.load(\"/home/clay/research/kaggle/sennet/data_dumps/pretrained_checkpoints/unet3d.pytorch\")"
   ]
  },
  {
   "cell_type": "code",
   "execution_count": null,
   "id": "ecfe8bf7-dc79-4dd8-8f40-b4c0c99aa116",
   "metadata": {},
   "outputs": [],
   "source": [
    "ckpt.keys()"
   ]
  },
  {
   "cell_type": "code",
   "execution_count": null,
   "id": "f8fac76f-512a-47ff-9ac5-17fe0b077249",
   "metadata": {},
   "outputs": [],
   "source": [
    "ckpt[\"model_state_dict\"]"
   ]
  },
  {
   "cell_type": "code",
   "execution_count": null,
   "id": "91369b42-5a1c-449a-807c-c9f12cbe9b0d",
   "metadata": {},
   "outputs": [],
   "source": [
    "model = UNet3D(\n",
    "    in_channels=1,\n",
    "    out_channels=1, \n",
    "    f_maps=32,\n",
    "    final_sigmoid=False, \n",
    "    is_segmentation=False, \n",
    "    is3d=True\n",
    ")\n",
    "model.load_state_dict(ckpt[\"model_state_dict\"])"
   ]
  },
  {
   "cell_type": "code",
   "execution_count": null,
   "id": "42af82f7-cec2-4f41-ad56-7dc8fb391d9e",
   "metadata": {},
   "outputs": [],
   "source": []
  }
 ],
 "metadata": {
  "kernelspec": {
   "display_name": "Python 3 (ipykernel)",
   "language": "python",
   "name": "python3"
  },
  "language_info": {
   "codemirror_mode": {
    "name": "ipython",
    "version": 3
   },
   "file_extension": ".py",
   "mimetype": "text/x-python",
   "name": "python",
   "nbconvert_exporter": "python",
   "pygments_lexer": "ipython3",
   "version": "3.11.6"
  }
 },
 "nbformat": 4,
 "nbformat_minor": 5
}
