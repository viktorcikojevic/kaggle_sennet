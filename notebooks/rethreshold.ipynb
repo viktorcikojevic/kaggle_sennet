{
 "cells": [
  {
   "cell_type": "code",
   "execution_count": null,
   "id": "90c24956-44bb-45f6-bcd3-e9f8df65d0e5",
   "metadata": {},
   "outputs": [],
   "source": [
    "import sys\n",
    "\n",
    "\n",
    "sys.path.append(\"../src/\")"
   ]
  },
  {
   "cell_type": "code",
   "execution_count": null,
   "id": "9edb50e8-b1c9-4f06-94e1-491cbc4e5fae",
   "metadata": {},
   "outputs": [],
   "source": [
    "from sennet.core.mmap_arrays import read_mmap_array, create_mmap_array\n",
    "import matplotlib.pyplot as plt\n",
    "import numpy as np\n",
    "from pathlib import Path"
   ]
  },
  {
   "cell_type": "code",
   "execution_count": null,
   "id": "f0b44228-9729-4f13-83f1-cfbbb05560e8",
   "metadata": {},
   "outputs": [],
   "source": [
    "# path = Path(\"/home/clay/research/kaggle/sennet/data_dumps/predicted/ensembled_0005/kidney_2/chunk_00\")\n",
    "path = Path(\"/home/clay/research/kaggle/sennet/data_dumps/predicted/ensembled_0005/kidney_3_sparse/chunk_00\")\n",
    "threshold = 0.0005"
   ]
  },
  {
   "cell_type": "code",
   "execution_count": null,
   "id": "cbecf708-f952-4b7f-8aa1-f2128e336b89",
   "metadata": {},
   "outputs": [],
   "source": [
    "mean_pred = read_mmap_array(path / \"mean_prob\")\n",
    "thresholded_pred = read_mmap_array(path / \"thresholded_prob\", mode=\"readwrite\")\n",
    "thresholded_pred.data[:] = mean_pred.data > threshold\n",
    "thresholded_pred.data.flush()\n",
    "print(\"done\")"
   ]
  },
  {
   "cell_type": "code",
   "execution_count": null,
   "id": "e859f385-41fe-40c3-bf1b-d65e06500116",
   "metadata": {},
   "outputs": [],
   "source": []
  },
  {
   "cell_type": "code",
   "execution_count": null,
   "id": "ac78fbb0-943b-42e0-982e-a2dae479f8ed",
   "metadata": {},
   "outputs": [],
   "source": []
  },
  {
   "cell_type": "code",
   "execution_count": null,
   "id": "55f31272-e24f-4177-b968-da03820bcc0b",
   "metadata": {},
   "outputs": [],
   "source": []
  }
 ],
 "metadata": {
  "kernelspec": {
   "display_name": "Python 3 (ipykernel)",
   "language": "python",
   "name": "python3"
  },
  "language_info": {
   "codemirror_mode": {
    "name": "ipython",
    "version": 3
   },
   "file_extension": ".py",
   "mimetype": "text/x-python",
   "name": "python",
   "nbconvert_exporter": "python",
   "pygments_lexer": "ipython3",
   "version": "3.11.6"
  }
 },
 "nbformat": 4,
 "nbformat_minor": 5
}
