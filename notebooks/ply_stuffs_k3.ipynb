{
 "cells": [
  {
   "cell_type": "code",
   "execution_count": 1,
   "id": "c445fdda-aedf-4448-9937-c054ac24017b",
   "metadata": {},
   "outputs": [],
   "source": [
    "import sys\n",
    "\n",
    "\n",
    "sys.path.append(\"../src/\")"
   ]
  },
  {
   "cell_type": "code",
   "execution_count": 2,
   "id": "9ca61c88-bbf3-4248-8289-6ca15afe5fda",
   "metadata": {},
   "outputs": [],
   "source": [
    "from sennet.core.mmap_arrays import create_mmap_array, read_mmap_array"
   ]
  },
  {
   "cell_type": "code",
   "execution_count": 3,
   "id": "bf08e367-41d8-49a3-9949-fc473e5b1627",
   "metadata": {},
   "outputs": [],
   "source": [
    "from plyfile import PlyData, PlyElement\n",
    "import numpy as np"
   ]
  },
  {
   "cell_type": "code",
   "execution_count": 4,
   "id": "eea96934-0146-4880-978e-405fe8a0218c",
   "metadata": {},
   "outputs": [],
   "source": [
    "plydata = PlyData.read(\"/home/clay/research/kaggle/sennet/data_dumps/label3.ply\")"
   ]
  },
  {
   "cell_type": "code",
   "execution_count": 5,
   "id": "b6163165-fcd7-4655-9022-c8ed0510ae60",
   "metadata": {},
   "outputs": [
    {
     "data": {
      "text/plain": [
       "PlyElement('vertex', (PlyProperty('x', 'float'), PlyProperty('y', 'float'), PlyProperty('z', 'float')), count=4109798, comments=[])"
      ]
     },
     "execution_count": 5,
     "metadata": {},
     "output_type": "execute_result"
    }
   ],
   "source": [
    "plydata.elements[0]"
   ]
  },
  {
   "cell_type": "code",
   "execution_count": 6,
   "id": "a46ce480-9ece-4e42-9a14-41e785cb0ca6",
   "metadata": {},
   "outputs": [
    {
     "name": "stdout",
     "output_type": "stream",
     "text": [
      "points_x.shape = (4109798,)\n",
      "points_y.shape = (4109798,)\n",
      "points_z.shape = (4109798,)\n"
     ]
    }
   ],
   "source": [
    "points_x = np.ascontiguousarray(plydata.elements[0].data[\"x\"].copy()).astype(int)\n",
    "points_y = np.ascontiguousarray(plydata.elements[0].data[\"y\"].copy()).astype(int)\n",
    "points_z = np.ascontiguousarray(plydata.elements[0].data[\"z\"].copy()).astype(int)\n",
    "\n",
    "points_x, points_y = points_y, points_x\n",
    "\n",
    "print(f\"{points_x.shape = }\")\n",
    "print(f\"{points_y.shape = }\")\n",
    "print(f\"{points_z.shape = }\")"
   ]
  },
  {
   "cell_type": "code",
   "execution_count": 7,
   "id": "113187f6-5781-49b0-b181-4669fa7fa6ac",
   "metadata": {},
   "outputs": [
    {
     "data": {
      "text/plain": [
       "array([740, 705, 705, ..., 807, 808, 809])"
      ]
     },
     "execution_count": 7,
     "metadata": {},
     "output_type": "execute_result"
    }
   ],
   "source": [
    "points_x"
   ]
  },
  {
   "cell_type": "code",
   "execution_count": 8,
   "id": "0fc9bcfe-16d2-4463-8ba6-d2d605b95394",
   "metadata": {},
   "outputs": [
    {
     "name": "stdout",
     "output_type": "stream",
     "text": [
      "[1035, 1706, 1510]\n"
     ]
    }
   ],
   "source": [
    "out_data = create_mmap_array(\n",
    "    \"/home/clay/research/kaggle/sennet/data_dumps/processed/kidney_3_pl/cleaned_label\", \n",
    "    shape=[1035, 1706, 1510],\n",
    "    dtype=np.uint8\n",
    ")\n",
    "print(out_data.shape)"
   ]
  },
  {
   "cell_type": "code",
   "execution_count": 9,
   "id": "3776f21c-e384-4fc3-9b5c-902e039ddd19",
   "metadata": {},
   "outputs": [
    {
     "name": "stdout",
     "output_type": "stream",
     "text": [
      "points_x.min()=345, points_x.max()=1255\n",
      "points_y.min()=72, points_y.max()=1394\n",
      "points_z.min()=52, points_z.max()=940\n"
     ]
    }
   ],
   "source": [
    "print(f\"{points_x.min()=}, {points_x.max()=}\")\n",
    "print(f\"{points_y.min()=}, {points_y.max()=}\")\n",
    "print(f\"{points_z.min()=}, {points_z.max()=}\")"
   ]
  },
  {
   "cell_type": "code",
   "execution_count": 10,
   "id": "5e5fc4ac-6f7d-4c25-8cd8-8673b9943e72",
   "metadata": {},
   "outputs": [],
   "source": [
    "out_data.data[:] = 0\n",
    "out_data.data[points_z, points_y, points_x] = 1"
   ]
  },
  {
   "cell_type": "code",
   "execution_count": 11,
   "id": "6789ea0b-149f-4666-b23c-8732bf3c0fb6",
   "metadata": {},
   "outputs": [],
   "source": [
    "k3m_mmap = read_mmap_array(\"/home/clay/research/kaggle/sennet/data_dumps/processed/kidney_3_merged/label\", mode=\"r\")"
   ]
  },
  {
   "cell_type": "code",
   "execution_count": 12,
   "id": "60578cd3-595d-4f75-8ec1-c52876ed19a0",
   "metadata": {},
   "outputs": [
    {
     "data": {
      "application/vnd.jupyter.widget-view+json": {
       "model_id": "9fe4d6199747415998842223afd054e1",
       "version_major": 2,
       "version_minor": 0
      },
      "text/plain": [
       "  0%|          | 0/1035 [00:00<?, ?it/s]"
      ]
     },
     "metadata": {},
     "output_type": "display_data"
    }
   ],
   "source": [
    "from tqdm.notebook import tqdm\n",
    "\n",
    "\n",
    "for i in tqdm(range(out_data.shape[0])):\n",
    "    if 496 <= i <= 996:\n",
    "        out_data.data[i, ...] = k3m_mmap.data[i, ...]\n",
    "    else:\n",
    "        out_data.data[i, ...] = out_data.data[i, ...] | k3m_mmap.data[i, ...]"
   ]
  },
  {
   "cell_type": "code",
   "execution_count": 13,
   "id": "a7f14637-f5f5-4de9-ab54-b2ea976224df",
   "metadata": {},
   "outputs": [],
   "source": [
    "out_data.data.flush()"
   ]
  },
  {
   "cell_type": "code",
   "execution_count": null,
   "id": "1952f225-a4d3-44b1-9fd7-b29ce38e25bc",
   "metadata": {},
   "outputs": [],
   "source": []
  },
  {
   "cell_type": "code",
   "execution_count": null,
   "id": "83212240-53a1-4cec-bf6f-58ee3f4aaca8",
   "metadata": {},
   "outputs": [],
   "source": []
  },
  {
   "cell_type": "code",
   "execution_count": null,
   "id": "5e8a6213-0c41-4d96-aa57-a7364e21e79c",
   "metadata": {},
   "outputs": [],
   "source": []
  },
  {
   "cell_type": "code",
   "execution_count": null,
   "id": "a9e74a7e-f3d0-4c70-b39d-2734e3fc80c4",
   "metadata": {},
   "outputs": [],
   "source": []
  }
 ],
 "metadata": {
  "kernelspec": {
   "display_name": "Python 3 (ipykernel)",
   "language": "python",
   "name": "python3"
  },
  "language_info": {
   "codemirror_mode": {
    "name": "ipython",
    "version": 3
   },
   "file_extension": ".py",
   "mimetype": "text/x-python",
   "name": "python",
   "nbconvert_exporter": "python",
   "pygments_lexer": "ipython3",
   "version": "3.11.6"
  }
 },
 "nbformat": 4,
 "nbformat_minor": 5
}
