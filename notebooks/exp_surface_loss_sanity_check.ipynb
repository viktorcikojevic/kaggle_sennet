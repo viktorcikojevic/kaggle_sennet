{
 "cells": [
  {
   "cell_type": "code",
   "execution_count": 1,
   "id": "f5f92d68-c9b7-4365-9379-0284dd22b60c",
   "metadata": {},
   "outputs": [],
   "source": [
    "import sys\n",
    "\n",
    "\n",
    "sys.path.append(\"../src/\")"
   ]
  },
  {
   "cell_type": "code",
   "execution_count": 2,
   "id": "a593f856-894e-4ec8-99d5-fc6b4b04da62",
   "metadata": {},
   "outputs": [],
   "source": [
    "from sennet.custom_modules.metrics.surface_dice_metric_fast import create_table_neighbour_code_to_surface_area\n",
    "import numpy as np\n",
    "import torch\n",
    "import torch.nn as nn"
   ]
  },
  {
   "cell_type": "code",
   "execution_count": 3,
   "id": "7c08bc2c-15f0-4c83-becd-7886ada3899c",
   "metadata": {},
   "outputs": [],
   "source": [
    "device = \"cuda\""
   ]
  },
  {
   "cell_type": "code",
   "execution_count": 4,
   "id": "2a3d93b7-4930-4e38-8672-ed65fc63fc78",
   "metadata": {},
   "outputs": [],
   "source": [
    "class DiceLoss(nn.Module):\n",
    "    def __init__(self, smooth=1e-3):\n",
    "        super(DiceLoss, self).__init__()\n",
    "        self.smooth = smooth\n",
    "\n",
    "    def forward(self, input, target):\n",
    "        # Apply sigmoid to input (predictions)\n",
    "        input_sigmoid = torch.sigmoid(input).reshape(-1)\n",
    "        target_flat = target.reshape(-1)\n",
    "        \n",
    "        intersection = (input_sigmoid * target_flat).sum()\n",
    "\n",
    "        return 1 - (\n",
    "            (2.0 * intersection + self.smooth)\n",
    "            / (input_sigmoid.sum() + target_flat.sum() + self.smooth)\n",
    "        )\n",
    "\n",
    "\n",
    "class SurfaceDiceLoss(nn.Module):\n",
    "    def __init__(self, smooth=1e-3, device=\"cuda\"):\n",
    "        nn.Module.__init__(self)\n",
    "        self.smooth = smooth\n",
    "        self.area = create_table_neighbour_code_to_surface_area((1, 1, 1))[1:]\n",
    "        self.area = torch.from_numpy(self.area).to(device)  # torch.float32\n",
    "        self.unfold = torch.nn.Unfold(kernel_size=(2, 2), padding=1)\n",
    "        self.bases = torch.tensor([\n",
    "            [c==\"1\" for c in f\"{i:08b}\"]\n",
    "            for i in range(1, 256)\n",
    "        ]).float().permute((1, 0)).to(device)\n",
    "\n",
    "    def _forward_z_pair(self, pred, labels):\n",
    "        # pred = (batch, z, y, x): logits\n",
    "        # labels = (batch, z, y, x): labels (0 or 1 only)\n",
    "\n",
    "        # assert shapes\n",
    "        batch_size, zs, ys, xs = pred.shape\n",
    "\n",
    "        # unfold: group 8 corners together\n",
    "        pred_sigmoid = torch.sigmoid(pred)\n",
    "        unfolded_pred = self.unfold(pred_sigmoid)\n",
    "        unfolded_labels = self.unfold(labels.float())\n",
    "        permuted_unfolded_pred = unfolded_pred.permute((0, 2, 1)).unsqueeze(-1)\n",
    "\n",
    "        # assert shapes\n",
    "        batch_size, n_points, n_corners, _ = permuted_unfolded_pred.shape\n",
    "        assert n_corners == 8, f\"{n_corners=} != 8 ({permuted_unfolded_pred.shape=}, {unfolded_pred.shape=}, {pred.shape=})\"\n",
    "\n",
    "        # solve for bases weights\n",
    "        a_mat = self.bases.tile((batch_size, n_points, 1, 1)).float()\n",
    "        b_mat = permuted_unfolded_pred.float()\n",
    "        bases_weights = torch.linalg.lstsq(a_mat, b_mat).solution\n",
    "\n",
    "        # weighted sum to get pred areas\n",
    "        pred_areas = (self.area[None, None, :, None] * bases_weights).squeeze(-1).sum(2)\n",
    "\n",
    "        # compute label areas\n",
    "        label_cubes_byte = torch.zeros((unfolded_labels.shape[0], unfolded_labels.shape[2]), dtype=torch.int32, device=device)\n",
    "        for k in range(8):\n",
    "            label_cubes_byte += unfolded_labels[:, k, :].to(torch.int32) << k\n",
    "\n",
    "        label_areas = torch.zeros((label_cubes_byte.shape[0], label_cubes_byte.shape[1]), dtype=torch.float32, device=device)\n",
    "        for b in range(label_cubes_byte.shape[0]):\n",
    "            label_areas[b, :] = torch.where(label_cubes_byte[b, :] == 0, label_areas[b, :], self.area[label_cubes_byte[b, :] - 1])\n",
    "\n",
    "        # computing intersections\n",
    "        #  intersection = area of the label cube * bases weight at that cube in pred\n",
    "        intersection = torch.zeros((bases_weights.shape[0], bases_weights.shape[1]), device=device, dtype=torch.float32)\n",
    "        for i in range(bases_weights.shape[0]):\n",
    "            w = bases_weights[i, ...].squeeze(-1)  # (points, 255)\n",
    "            cb = label_cubes_byte[i, ...]   # (points, )\n",
    "            weight_at_label_cube = torch.where(\n",
    "                cb==0, \n",
    "                torch.zeros((w.shape[0], ), dtype=torch.float32, device=device), \n",
    "                w[torch.arange(w.shape[0], device=device), cb-1]\n",
    "            )\n",
    "            intersection[i, ...] = weight_at_label_cube * label_areas[i, ...]\n",
    "\n",
    "        # TODO(Sumo): check if sum make sense here\n",
    "        numerator = 2 * intersection.sum()\n",
    "        denominator = label_areas.sum() + pred_areas.sum()\n",
    "        return numerator, denominator\n",
    "\n",
    "    def forward(self, pred, labels):\n",
    "        batch_size, zs, ys, xs = pred.shape\n",
    "        assert pred.shape == labels.shape\n",
    "        assert zs >= 2, f\"zs not >= 2, {pred.shape=}\"\n",
    "        num = 0\n",
    "        denom = 0\n",
    "        for z_start in range(zs):\n",
    "            z_end = z_start + 2\n",
    "            if z_end >= zs:\n",
    "                break\n",
    "            pair_num, pair_denom = self._forward_z_pair(pred[:, z_start: z_end, ...], labels[:, z_start: z_end, ...])\n",
    "            num += pair_num\n",
    "            denom += pair_denom\n",
    "        dice = 1 - ((num + self.smooth) / (denom + self.smooth))\n",
    "        return dice "
   ]
  },
  {
   "cell_type": "code",
   "execution_count": 5,
   "id": "7d4f3a49-650b-4a60-a6ab-0c44d6e61150",
   "metadata": {},
   "outputs": [],
   "source": [
    "def build_sphere_data(cube_size: int, center_zyx: np.ndarray, radius: int):\n",
    "    # arr = np.zeros((cube_size, cube_size, cube_size))\n",
    "    zs, ys, xs = np.meshgrid(\n",
    "        np.arange(cube_size),\n",
    "        np.arange(cube_size),\n",
    "        np.arange(cube_size),\n",
    "        indexing=\"ij\",\n",
    "    )\n",
    "    arr = (\n",
    "        (zs-center_zyx[0])**2\n",
    "        + (ys-center_zyx[1])**2\n",
    "        + (xs-center_zyx[2])**2\n",
    "    ) ** 0.5\n",
    "    label = arr < radius\n",
    "    return arr, label"
   ]
  },
  {
   "cell_type": "code",
   "execution_count": null,
   "id": "04b17b53-a438-4d4d-8f62-f7f0b70eefb1",
   "metadata": {},
   "outputs": [],
   "source": []
  },
  {
   "cell_type": "code",
   "execution_count": 6,
   "id": "6c659335-167a-4f70-8ae8-30ccfda3674c",
   "metadata": {},
   "outputs": [],
   "source": [
    "import matplotlib.pyplot as plt"
   ]
  },
  {
   "cell_type": "code",
   "execution_count": 7,
   "id": "8654b637-02fe-4f3e-85c3-660a00c0a92d",
   "metadata": {},
   "outputs": [],
   "source": [
    "class SphereDataset(torch.utils.data.Dataset):\n",
    "    def __init__(self, cube_size: int, radius: int, length: int = 1000):\n",
    "        self.cube_size = cube_size\n",
    "        self.radius = radius\n",
    "        self.length = length\n",
    "\n",
    "    def __len__(self):\n",
    "        return self.length\n",
    "\n",
    "    def __getitem__(self, i):\n",
    "        center_zyx = np.random.uniform(0, self.cube_size, 3)\n",
    "        img, seg = build_sphere_data(self.cube_size, center_zyx, self.radius)\n",
    "        img = torch.from_numpy(img).float().unsqueeze(0)\n",
    "        seg = torch.from_numpy(seg).float().unsqueeze(0)\n",
    "        return {\n",
    "            \"img\": img,\n",
    "            \"seg\": seg,\n",
    "        }"
   ]
  },
  {
   "cell_type": "code",
   "execution_count": 8,
   "id": "e519d470-3c0f-4889-ad7c-32b1e34131a2",
   "metadata": {},
   "outputs": [
    {
     "data": {
      "text/plain": [
       "<matplotlib.image.AxesImage at 0x7fb9eb6add90>"
      ]
     },
     "execution_count": 8,
     "metadata": {},
     "output_type": "execute_result"
    },
    {
     "data": {
      "image/png": "[encoded data removed]",
      "text/plain": [
       "<Figure size 640x480 with 1 Axes>"
      ]
     },
     "metadata": {},
     "output_type": "display_data"
    },
    {
     "data": {
      "image/png": "[encoded data removed]",
      "text/plain": [
       "<Figure size 640x480 with 1 Axes>"
      ]
     },
     "metadata": {},
     "output_type": "display_data"
    }
   ],
   "source": [
    "d = SphereDataset(50, 10)\n",
    "i = 25\n",
    "item = d[25]\n",
    "plt.imshow(item[\"img\"].cpu().numpy()[0][i, ...])\n",
    "plt.figure()\n",
    "plt.imshow(item[\"seg\"].cpu().numpy()[0][i, ...])"
   ]
  },
  {
   "cell_type": "code",
   "execution_count": 9,
   "id": "74d3376c-a8a5-4612-835a-1c1e75e0a512",
   "metadata": {},
   "outputs": [],
   "source": [
    "from sennet.custom_modules.models.wrapped_models import WrappedUNet3D, SMPModel\n",
    "from sennet.core.submission_utils import evaluate_chunked_inference_in_memory"
   ]
  },
  {
   "cell_type": "code",
   "execution_count": null,
   "id": "f5b65dc7-b871-4407-ab19-1b178699e20b",
   "metadata": {},
   "outputs": [],
   "source": []
  },
  {
   "cell_type": "code",
   "execution_count": 10,
   "id": "5eac5cfc-cdb6-4c3f-bcae-4a7dd2197103",
   "metadata": {},
   "outputs": [],
   "source": [
    "import pytorch_lightning as pl\n",
    "\n",
    "\n",
    "class ThreeDSegTask(pl.LightningModule):\n",
    "    def __init__(self, model, criterion, val_dataloader, input_key: str = \"img\"):\n",
    "        pl.LightningModule.__init__(self)\n",
    "        self.model = model\n",
    "        self.criterion = criterion\n",
    "        self.val_dataloader = val_dataloader\n",
    "        self.input_key = input_key\n",
    "\n",
    "    def training_step(self, batch: dict, batch_idx: int):\n",
    "        self.model = self.model.train()\n",
    "\n",
    "        seg_pred = self.model.predict(batch[self.input_key])\n",
    "        preds = seg_pred.pred\n",
    "        gt_seg_map = batch[\"seg\"].float()\n",
    "\n",
    "        _, pred_d, pred_h, pred_w = preds.shape\n",
    "        _, _, gt_d, gt_h, gt_w = gt_seg_map.shape\n",
    "        if (gt_d != pred_d) or (gt_h != pred_h) or (gt_w != pred_w):\n",
    "            raise RuntimeError(\":D\")\n",
    "        else:\n",
    "            resized_pred = preds\n",
    "\n",
    "        loss = self.criterion(resized_pred, gt_seg_map[:, 0, ...])\n",
    "        self.log_dict({\"train_loss\": loss,}, prog_bar=True)\n",
    "        return loss\n",
    "\n",
    "    def validation_step(self, batch: dict, batch_idx: int):\n",
    "        return\n",
    "\n",
    "    def on_validation_epoch_end(self) -> None:\n",
    "        with torch.no_grad():\n",
    "            self.model = self.model.eval()\n",
    "\n",
    "            metrics = None\n",
    "            val_loss = None\n",
    "            for batch in self.val_dataloader:\n",
    "                pred = self.model.predict(batch[self.input_key].to(self.device))\n",
    "                gt_seg_map = batch[\"seg\"].float().to(self.device)\n",
    "\n",
    "                metrics = evaluate_chunked_inference_in_memory(\n",
    "                    mean_prob_chunk=torch.sigmoid(pred.pred[0]).cpu().numpy(),\n",
    "                    label=gt_seg_map[0, 0, ...].cpu().numpy().astype(bool),\n",
    "                    thresholds=[0.5],\n",
    "                    device=\"cuda\",\n",
    "                )\n",
    "                val_loss = self.criterion(pred.pred, gt_seg_map[:, 0, ...])\n",
    "\n",
    "                break  # only eval one cube\n",
    "\n",
    "            print(\"--------------------------------\")\n",
    "            print(f\"{metrics = }\")\n",
    "            print(f\"{val_loss = }\")\n",
    "            print(\"--------------------------------\")\n",
    "\n",
    "    def configure_optimizers(self):\n",
    "        return torch.optim.AdamW(self.model.parameters(), lr=1e-3, eps=1e-8)"
   ]
  },
  {
   "cell_type": "code",
   "execution_count": 11,
   "id": "42f67184-4863-434d-8c14-dd9edc2852d3",
   "metadata": {},
   "outputs": [],
   "source": [
    "cube_size = 64\n",
    "\n",
    "\n",
    "train_dataset = SphereDataset(cube_size, 10, length=500)\n",
    "val_dataset = SphereDataset(cube_size, 10, length=1)\n",
    "train_loader = torch.utils.data.DataLoader(\n",
    "    train_dataset,\n",
    "    batch_size=8,\n",
    "    shuffle=True,\n",
    "    pin_memory=True,\n",
    "    drop_last=True,\n",
    ")\n",
    "val_loader = torch.utils.data.DataLoader(\n",
    "    val_dataset,\n",
    "    batch_size=1,\n",
    "    shuffle=False,\n",
    "    pin_memory=True,\n",
    "    drop_last=False,\n",
    ")\n",
    "model = SMPModel(\n",
    "    \"Unet\",\n",
    "    encoder_name=\"resnet34\",\n",
    "    encoder_weights=\"imagenet\",\n",
    "    replace_batch_norm_with_layer_norm=True,\n",
    "    in_channels=cube_size,\n",
    "    classes=cube_size,\n",
    ").to(device).train()"
   ]
  },
  {
   "cell_type": "code",
   "execution_count": null,
   "id": "98715ede-9a37-4222-8317-82ac1142bee2",
   "metadata": {},
   "outputs": [],
   "source": []
  },
  {
   "cell_type": "code",
   "execution_count": 12,
   "id": "d4af59e5-3dfe-49a2-be6b-11acd1deb6ff",
   "metadata": {},
   "outputs": [],
   "source": [
    "# criterion = nn.BCEWithLogitsLoss()   # 0.86\n",
    "# criterion = DiceLoss()  # 0.92\n",
    "criterion = SurfaceDiceLoss(device=device)\n",
    "input_key = \"seg\"\n",
    "task = ThreeDSegTask(model, criterion, val_loader, input_key)"
   ]
  },
  {
   "cell_type": "code",
   "execution_count": 13,
   "id": "94b968b8-67fa-43c9-9408-93146350d91c",
   "metadata": {},
   "outputs": [
    {
     "name": "stderr",
     "output_type": "stream",
     "text": [
      "Using 16bit None Automatic Mixed Precision (AMP)\n",
      "GPU available: True (cuda), used: True\n",
      "TPU available: False, using: 0 TPU cores\n",
      "IPU available: False, using: 0 IPUs\n",
      "HPU available: False, using: 0 HPUs\n"
     ]
    }
   ],
   "source": [
    "trainer = pl.Trainer(\n",
    "    accelerator=\"gpu\",\n",
    "    logger=None,\n",
    "    max_epochs=10,\n",
    "    precision=\"16\",\n",
    "    benchmark=True,\n",
    "    devices=-1,\n",
    ")"
   ]
  },
  {
   "cell_type": "code",
   "execution_count": null,
   "id": "26aec015-a0cf-4af8-8085-a1172a1f33ae",
   "metadata": {},
   "outputs": [],
   "source": [
    "trainer.fit(\n",
    "    model=task,\n",
    "    train_dataloaders=train_loader,\n",
    "    val_dataloaders=val_loader,\n",
    ")"
   ]
  },
  {
   "cell_type": "code",
   "execution_count": null,
   "id": "9ccd76a1-e035-4cd5-8c3f-c0f140fb6574",
   "metadata": {},
   "outputs": [],
   "source": []
  },
  {
   "cell_type": "code",
   "execution_count": 14,
   "id": "1a058a95-a0c6-4ee1-957a-48f11dd8765e",
   "metadata": {},
   "outputs": [
    {
     "data": {
      "text/plain": [
       "<matplotlib.image.AxesImage at 0x7fb9eadb1b10>"
      ]
     },
     "execution_count": 14,
     "metadata": {},
     "output_type": "execute_result"
    },
    {
     "data": {
      "image/png": "[encoded data removed]",
      "text/plain": [
       "<Figure size 640x480 with 1 Axes>"
      ]
     },
     "metadata": {},
     "output_type": "display_data"
    },
    {
     "data": {
      "image/png": "[encoded data removed]",
      "text/plain": [
       "<Figure size 640x480 with 1 Axes>"
      ]
     },
     "metadata": {},
     "output_type": "display_data"
    }
   ],
   "source": [
    "trained_model = task.model.eval()\n",
    "\n",
    "with torch.no_grad():\n",
    "    val_item = val_dataset[0]\n",
    "    val_img = val_item[input_key]\n",
    "    val_label = val_item[\"seg\"][0]\n",
    "    model_out = trained_model.predict(val_img.unsqueeze(0).to(device))\n",
    "    pred = model_out.pred[0].cpu().numpy()\n",
    "\n",
    "\n",
    "i = 32\n",
    "\n",
    "plt.imshow(pred[i, ...])\n",
    "plt.figure()\n",
    "plt.imshow(val_label[i, ...])"
   ]
  },
  {
   "cell_type": "code",
   "execution_count": 15,
   "id": "1a2a3082-c460-4c95-9e20-3af750ad91cc",
   "metadata": {},
   "outputs": [
    {
     "data": {
      "text/plain": [
       "(64, 64, 64)"
      ]
     },
     "execution_count": 15,
     "metadata": {},
     "output_type": "execute_result"
    }
   ],
   "source": [
    "pred.shape"
   ]
  },
  {
   "cell_type": "code",
   "execution_count": 16,
   "id": "9723b87f-b401-49f9-a037-3be4677f1425",
   "metadata": {},
   "outputs": [
    {
     "data": {
      "text/plain": [
       "torch.Size([64, 64, 64])"
      ]
     },
     "execution_count": 16,
     "metadata": {},
     "output_type": "execute_result"
    }
   ],
   "source": [
    "val_label.shape"
   ]
  },
  {
   "cell_type": "code",
   "execution_count": 19,
   "id": "6a93a5f8-cc7f-4db6-afe7-bd9b7114823d",
   "metadata": {},
   "outputs": [
    {
     "data": {
      "text/plain": [
       "tensor(1.0001, device='cuda:0')"
      ]
     },
     "execution_count": 19,
     "metadata": {},
     "output_type": "execute_result"
    }
   ],
   "source": [
    "from torch.profiler import profile, record_function, ProfilerActivity\n",
    "\n",
    "\n",
    "criterion(\n",
    "    val_label.unsqueeze(0).to(device), \n",
    "    val_label.unsqueeze(0).to(device),\n",
    ")"
   ]
  }
 ],
 "metadata": {
  "kernelspec": {
   "display_name": "Python 3 (ipykernel)",
   "language": "python",
   "name": "python3"
  },
  "language_info": {
   "codemirror_mode": {
    "name": "ipython",
    "version": 3
   },
   "file_extension": ".py",
   "mimetype": "text/x-python",
   "name": "python",
   "nbconvert_exporter": "python",
   "pygments_lexer": "ipython3",
   "version": "3.11.6"
  }
 },
 "nbformat": 4,
 "nbformat_minor": 5
}
