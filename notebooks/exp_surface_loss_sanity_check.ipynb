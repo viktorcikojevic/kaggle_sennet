{
 "cells": [
  {
   "cell_type": "code",
   "execution_count": 1,
   "id": "f5f92d68-c9b7-4365-9379-0284dd22b60c",
   "metadata": {},
   "outputs": [],
   "source": [
    "import sys\n",
    "\n",
    "\n",
    "sys.path.append(\"../src/\")"
   ]
  },
  {
   "cell_type": "code",
   "execution_count": 2,
   "id": "a593f856-894e-4ec8-99d5-fc6b4b04da62",
   "metadata": {},
   "outputs": [],
   "source": [
    "from sennet.custom_modules.metrics.surface_dice_metric_fast import create_table_neighbour_code_to_surface_area\n",
    "from sennet.custom_modules.losses.custom_losses import SurfaceDiceLoss, DiceLoss\n",
    "import numpy as np\n",
    "import torch\n",
    "import torch.nn as nn\n",
    "import matplotlib.pyplot as plt"
   ]
  },
  {
   "cell_type": "code",
   "execution_count": 3,
   "id": "7c08bc2c-15f0-4c83-becd-7886ada3899c",
   "metadata": {},
   "outputs": [],
   "source": [
    "device = \"cuda\""
   ]
  },
  {
   "cell_type": "markdown",
   "id": "0c44c013-e8fd-4b80-b537-98edfee96d20",
   "metadata": {},
   "source": [
    "## Dummy Data Stuffs"
   ]
  },
  {
   "cell_type": "code",
   "execution_count": 4,
   "id": "7d4f3a49-650b-4a60-a6ab-0c44d6e61150",
   "metadata": {},
   "outputs": [],
   "source": [
    "def build_sphere_data(cube_size: int, center_zyx: np.ndarray, radius: int):\n",
    "    # arr = np.zeros((cube_size, cube_size, cube_size))\n",
    "    zs, ys, xs = np.meshgrid(\n",
    "        np.arange(cube_size),\n",
    "        np.arange(cube_size),\n",
    "        np.arange(cube_size),\n",
    "        indexing=\"ij\",\n",
    "    )\n",
    "    arr = (\n",
    "        (zs-center_zyx[0])**2\n",
    "        + (ys-center_zyx[1])**2\n",
    "        + (xs-center_zyx[2])**2\n",
    "    ) ** 0.5\n",
    "    label = arr < radius\n",
    "    return arr, label"
   ]
  },
  {
   "cell_type": "markdown",
   "id": "b9571044-d2dc-41e7-9725-22cae9297e6d",
   "metadata": {},
   "source": [
    "## Optimizing a tensor into a label"
   ]
  },
  {
   "cell_type": "code",
   "execution_count": 5,
   "id": "d73f2463-cb48-4eb6-b470-554edc068c75",
   "metadata": {},
   "outputs": [
    {
     "data": {
      "text/plain": [
       "<matplotlib.image.AxesImage at 0x7f0ae5e85b50>"
      ]
     },
     "execution_count": 5,
     "metadata": {},
     "output_type": "execute_result"
    },
    {
     "data": {
      "image/png": "[encoded data removed]",
      "text/plain": [
       "<Figure size 640x480 with 1 Axes>"
      ]
     },
     "metadata": {},
     "output_type": "display_data"
    }
   ],
   "source": [
    "cube_size = 16\n",
    "center = np.full(3, cube_size/2)\n",
    "radius = cube_size / 4\n",
    "_, label = build_sphere_data(cube_size, center, radius)\n",
    "\n",
    "plt.imshow(label.sum(0))"
   ]
  },
  {
   "cell_type": "code",
   "execution_count": 6,
   "id": "cc7296b8-fccd-43e2-b4e1-e4a03f0635ef",
   "metadata": {},
   "outputs": [
    {
     "name": "stdout",
     "output_type": "stream",
     "text": [
      "raw_pred_tensor.shape=torch.Size([1, 16, 16, 16])\n",
      "label_tensor.shape=torch.Size([1, 16, 16, 16])\n",
      "criterion=SurfaceDiceLoss(\n",
      "  (unfold): Unfold(kernel_size=(2, 2), dilation=1, padding=1, stride=1)\n",
      ")\n"
     ]
    }
   ],
   "source": [
    "label_tensor = torch.from_numpy(label).unsqueeze(0).to(device).float()\n",
    "\n",
    "pred_tensor = torch.rand((1, cube_size, cube_size, cube_size)).to(device)\n",
    "raw_pred_tensor = torch.log(pred_tensor / (1 - pred_tensor + 1e-8))\n",
    "raw_pred_tensor = raw_pred_tensor.requires_grad_(True)\n",
    "\n",
    "# criterion = nn.BCEWithLogitsLoss()\n",
    "# criterion = DiceLoss()\n",
    "criterion = SurfaceDiceLoss(device=device)\n",
    "\n",
    "# optim = torch.optim.SGD([raw_pred_tensor], lr=20.0)\n",
    "optim = torch.optim.AdamW([raw_pred_tensor], lr=1.0)\n",
    "\n",
    "print(f\"{raw_pred_tensor.shape=}\")\n",
    "print(f\"{label_tensor.shape=}\")\n",
    "print(f\"{criterion=}\")"
   ]
  },
  {
   "cell_type": "code",
   "execution_count": null,
   "id": "a37c861c-49a9-4ae0-a021-d65bc6cd7fd8",
   "metadata": {},
   "outputs": [],
   "source": []
  },
  {
   "cell_type": "code",
   "execution_count": 7,
   "id": "b6547e72-224d-45fb-9771-9d91cd0a9148",
   "metadata": {
    "scrolled": true
   },
   "outputs": [
    {
     "data": {
      "application/vnd.jupyter.widget-view+json": {
       "model_id": "6ffc64fc1ca24be9851be35035edbd88",
       "version_major": 2,
       "version_minor": 0
      },
      "text/plain": [
       "  0%|          | 0/1000 [00:00<?, ?it/s]"
      ]
     },
     "metadata": {},
     "output_type": "display_data"
    },
    {
     "name": "stdout",
     "output_type": "stream",
     "text": [
      "[i=0]: loss=0.866832971572876, surface_dice=0.13221630454063416\n",
      "[i=50]: loss=0.24722695350646973, surface_dice=0.7571949362754822\n",
      "[i=100]: loss=0.038276851177215576, surface_dice=0.654173731803894\n",
      "[i=150]: loss=0.006864011287689209, surface_dice=0.033932846039533615\n",
      "[i=200]: loss=0.005673050880432129, surface_dice=0.0\n"
     ]
    },
    {
     "ename": "KeyboardInterrupt",
     "evalue": "",
     "output_type": "error",
     "traceback": [
      "\u001b[0;31m---------------------------------------------------------------------------\u001b[0m",
      "\u001b[0;31mKeyboardInterrupt\u001b[0m                         Traceback (most recent call last)",
      "Cell \u001b[0;32mIn[7], line 10\u001b[0m\n\u001b[1;32m      8\u001b[0m optim\u001b[38;5;241m.\u001b[39mzero_grad()\n\u001b[1;32m      9\u001b[0m loss \u001b[38;5;241m=\u001b[39m criterion(raw_pred_tensor, label_tensor)\n\u001b[0;32m---> 10\u001b[0m \u001b[43mloss\u001b[49m\u001b[38;5;241;43m.\u001b[39;49m\u001b[43mbackward\u001b[49m\u001b[43m(\u001b[49m\u001b[43m)\u001b[49m\n\u001b[1;32m     11\u001b[0m optim\u001b[38;5;241m.\u001b[39mstep()\n\u001b[1;32m     12\u001b[0m \u001b[38;5;28;01mif\u001b[39;00m i \u001b[38;5;241m%\u001b[39m \u001b[38;5;241m50\u001b[39m \u001b[38;5;241m==\u001b[39m \u001b[38;5;241m0\u001b[39m:\n",
      "File \u001b[0;32m~/mambaforge/envs/sennet/lib/python3.11/site-packages/torch/_tensor.py:492\u001b[0m, in \u001b[0;36mTensor.backward\u001b[0;34m(self, gradient, retain_graph, create_graph, inputs)\u001b[0m\n\u001b[1;32m    482\u001b[0m \u001b[38;5;28;01mif\u001b[39;00m has_torch_function_unary(\u001b[38;5;28mself\u001b[39m):\n\u001b[1;32m    483\u001b[0m     \u001b[38;5;28;01mreturn\u001b[39;00m handle_torch_function(\n\u001b[1;32m    484\u001b[0m         Tensor\u001b[38;5;241m.\u001b[39mbackward,\n\u001b[1;32m    485\u001b[0m         (\u001b[38;5;28mself\u001b[39m,),\n\u001b[0;32m   (...)\u001b[0m\n\u001b[1;32m    490\u001b[0m         inputs\u001b[38;5;241m=\u001b[39minputs,\n\u001b[1;32m    491\u001b[0m     )\n\u001b[0;32m--> 492\u001b[0m \u001b[43mtorch\u001b[49m\u001b[38;5;241;43m.\u001b[39;49m\u001b[43mautograd\u001b[49m\u001b[38;5;241;43m.\u001b[39;49m\u001b[43mbackward\u001b[49m\u001b[43m(\u001b[49m\n\u001b[1;32m    493\u001b[0m \u001b[43m    \u001b[49m\u001b[38;5;28;43mself\u001b[39;49m\u001b[43m,\u001b[49m\u001b[43m \u001b[49m\u001b[43mgradient\u001b[49m\u001b[43m,\u001b[49m\u001b[43m \u001b[49m\u001b[43mretain_graph\u001b[49m\u001b[43m,\u001b[49m\u001b[43m \u001b[49m\u001b[43mcreate_graph\u001b[49m\u001b[43m,\u001b[49m\u001b[43m \u001b[49m\u001b[43minputs\u001b[49m\u001b[38;5;241;43m=\u001b[39;49m\u001b[43minputs\u001b[49m\n\u001b[1;32m    494\u001b[0m \u001b[43m\u001b[49m\u001b[43m)\u001b[49m\n",
      "File \u001b[0;32m~/mambaforge/envs/sennet/lib/python3.11/site-packages/torch/autograd/__init__.py:251\u001b[0m, in \u001b[0;36mbackward\u001b[0;34m(tensors, grad_tensors, retain_graph, create_graph, grad_variables, inputs)\u001b[0m\n\u001b[1;32m    246\u001b[0m     retain_graph \u001b[38;5;241m=\u001b[39m create_graph\n\u001b[1;32m    248\u001b[0m \u001b[38;5;66;03m# The reason we repeat the same comment below is that\u001b[39;00m\n\u001b[1;32m    249\u001b[0m \u001b[38;5;66;03m# some Python versions print out the first line of a multi-line function\u001b[39;00m\n\u001b[1;32m    250\u001b[0m \u001b[38;5;66;03m# calls in the traceback and some print out the last line\u001b[39;00m\n\u001b[0;32m--> 251\u001b[0m \u001b[43mVariable\u001b[49m\u001b[38;5;241;43m.\u001b[39;49m\u001b[43m_execution_engine\u001b[49m\u001b[38;5;241;43m.\u001b[39;49m\u001b[43mrun_backward\u001b[49m\u001b[43m(\u001b[49m\u001b[43m  \u001b[49m\u001b[38;5;66;43;03m# Calls into the C++ engine to run the backward pass\u001b[39;49;00m\n\u001b[1;32m    252\u001b[0m \u001b[43m    \u001b[49m\u001b[43mtensors\u001b[49m\u001b[43m,\u001b[49m\n\u001b[1;32m    253\u001b[0m \u001b[43m    \u001b[49m\u001b[43mgrad_tensors_\u001b[49m\u001b[43m,\u001b[49m\n\u001b[1;32m    254\u001b[0m \u001b[43m    \u001b[49m\u001b[43mretain_graph\u001b[49m\u001b[43m,\u001b[49m\n\u001b[1;32m    255\u001b[0m \u001b[43m    \u001b[49m\u001b[43mcreate_graph\u001b[49m\u001b[43m,\u001b[49m\n\u001b[1;32m    256\u001b[0m \u001b[43m    \u001b[49m\u001b[43minputs\u001b[49m\u001b[43m,\u001b[49m\n\u001b[1;32m    257\u001b[0m \u001b[43m    \u001b[49m\u001b[43mallow_unreachable\u001b[49m\u001b[38;5;241;43m=\u001b[39;49m\u001b[38;5;28;43;01mTrue\u001b[39;49;00m\u001b[43m,\u001b[49m\n\u001b[1;32m    258\u001b[0m \u001b[43m    \u001b[49m\u001b[43maccumulate_grad\u001b[49m\u001b[38;5;241;43m=\u001b[39;49m\u001b[38;5;28;43;01mTrue\u001b[39;49;00m\u001b[43m,\u001b[49m\n\u001b[1;32m    259\u001b[0m \u001b[43m\u001b[49m\u001b[43m)\u001b[49m\n",
      "\u001b[0;31mKeyboardInterrupt\u001b[0m: "
     ]
    }
   ],
   "source": [
    "from sennet.core.submission_utils import evaluate_chunked_inference_in_memory\n",
    "from tqdm.notebook import tqdm\n",
    "\n",
    "\n",
    "dices = []\n",
    "losses = []\n",
    "for i in tqdm(range(1000)):\n",
    "    optim.zero_grad()\n",
    "    loss = criterion(raw_pred_tensor, label_tensor)\n",
    "    loss.backward()\n",
    "    optim.step()\n",
    "    if i % 50 == 0:\n",
    "        with torch.no_grad():\n",
    "            metrics = evaluate_chunked_inference_in_memory(\n",
    "                mean_prob_chunk=torch.sigmoid(raw_pred_tensor[0]).cpu().numpy(),\n",
    "                label=label_tensor[0].cpu().numpy().astype(bool),\n",
    "                thresholds=[0.5],\n",
    "                device=\"cuda\",\n",
    "                disable_tqdm=True,\n",
    "            )\n",
    "            surface_dice = metrics.surface_dices[0]\n",
    "\n",
    "            dices.append(surface_dice)\n",
    "            losses.append(loss.cpu().item())\n",
    "            \n",
    "            print(f\"[{i=}]: loss={loss.cpu().item()}, {surface_dice=}\")"
   ]
  },
  {
   "cell_type": "code",
   "execution_count": null,
   "id": "376c25e1-8411-4225-93ef-3c8b1b4e8bb4",
   "metadata": {},
   "outputs": [],
   "source": [
    "fig, ax1 = plt.subplots()\n",
    "\n",
    "ax1.plot(dices, color=\"orange\", label=\"dice\")\n",
    "ax1.set_ylabel(\"dices\")\n",
    "ax2 = ax1.twinx()\n",
    "ax2.plot(losses, color=\"blue\", label=\"loss\")\n",
    "ax2.set_ylabel(\"loss\")\n",
    "fig.tight_layout()\n",
    "fig.legend()\n",
    "plt.title(str(criterion))\n",
    "file_name = f\"c{cube_size}_{criterion.__class__.__name__}.png\"\n",
    "plt.savefig(f\"/home/clay/research/kaggle/sennet/data_dumps/surface_dice_exp/{file_name}\")"
   ]
  },
  {
   "cell_type": "markdown",
   "id": "661c30ab-44fb-4ad5-a6c2-af3afcb5b488",
   "metadata": {},
   "source": [
    "## All in training a model"
   ]
  },
  {
   "cell_type": "code",
   "execution_count": null,
   "id": "6c659335-167a-4f70-8ae8-30ccfda3674c",
   "metadata": {},
   "outputs": [],
   "source": [
    "import matplotlib.pyplot as plt"
   ]
  },
  {
   "cell_type": "code",
   "execution_count": null,
   "id": "8654b637-02fe-4f3e-85c3-660a00c0a92d",
   "metadata": {},
   "outputs": [],
   "source": [
    "class SphereDataset(torch.utils.data.Dataset):\n",
    "    def __init__(self, cube_size: int, radius: int, length: int = 1000):\n",
    "        self.cube_size = cube_size\n",
    "        self.radius = radius\n",
    "        self.length = length\n",
    "\n",
    "    def __len__(self):\n",
    "        return self.length\n",
    "\n",
    "    def __getitem__(self, i):\n",
    "        center_zyx = np.random.uniform(0, self.cube_size, 3)\n",
    "        img, seg = build_sphere_data(self.cube_size, center_zyx, self.radius)\n",
    "        img = torch.from_numpy(img).float().unsqueeze(0)\n",
    "        seg = torch.from_numpy(seg).float().unsqueeze(0)\n",
    "        return {\n",
    "            \"img\": img,\n",
    "            \"seg\": seg,\n",
    "        }"
   ]
  },
  {
   "cell_type": "code",
   "execution_count": null,
   "id": "e519d470-3c0f-4889-ad7c-32b1e34131a2",
   "metadata": {},
   "outputs": [],
   "source": [
    "d = SphereDataset(50, 10)\n",
    "i = 25\n",
    "item = d[25]\n",
    "plt.imshow(item[\"img\"].cpu().numpy()[0][i, ...])\n",
    "plt.figure()\n",
    "plt.imshow(item[\"seg\"].cpu().numpy()[0][i, ...])"
   ]
  },
  {
   "cell_type": "code",
   "execution_count": null,
   "id": "74d3376c-a8a5-4612-835a-1c1e75e0a512",
   "metadata": {},
   "outputs": [],
   "source": [
    "from sennet.custom_modules.models.wrapped_models import WrappedUNet3D, SMPModel\n",
    "from sennet.core.submission_utils import evaluate_chunked_inference_in_memory"
   ]
  },
  {
   "cell_type": "code",
   "execution_count": null,
   "id": "f5b65dc7-b871-4407-ab19-1b178699e20b",
   "metadata": {},
   "outputs": [],
   "source": []
  },
  {
   "cell_type": "code",
   "execution_count": null,
   "id": "5eac5cfc-cdb6-4c3f-bcae-4a7dd2197103",
   "metadata": {},
   "outputs": [],
   "source": [
    "import pytorch_lightning as pl\n",
    "\n",
    "\n",
    "class ThreeDSegTask(pl.LightningModule):\n",
    "    def __init__(self, model, criterion, val_dataloader, input_key: str = \"img\"):\n",
    "        pl.LightningModule.__init__(self)\n",
    "        self.model = model\n",
    "        self.criterion = criterion\n",
    "        self.val_dataloader = val_dataloader\n",
    "        self.input_key = input_key\n",
    "\n",
    "    def training_step(self, batch: dict, batch_idx: int):\n",
    "        self.model = self.model.train()\n",
    "\n",
    "        seg_pred = self.model.predict(batch[self.input_key])\n",
    "        preds = seg_pred.pred\n",
    "        gt_seg_map = batch[\"seg\"].float()\n",
    "\n",
    "        _, pred_d, pred_h, pred_w = preds.shape\n",
    "        _, _, gt_d, gt_h, gt_w = gt_seg_map.shape\n",
    "        if (gt_d != pred_d) or (gt_h != pred_h) or (gt_w != pred_w):\n",
    "            raise RuntimeError(\":D\")\n",
    "        else:\n",
    "            resized_pred = preds\n",
    "\n",
    "        loss = self.criterion(resized_pred, gt_seg_map[:, 0, ...])\n",
    "        self.log_dict({\"train_loss\": loss,}, prog_bar=True)\n",
    "        return loss\n",
    "\n",
    "    def validation_step(self, batch: dict, batch_idx: int):\n",
    "        return\n",
    "\n",
    "    def on_validation_epoch_end(self) -> None:\n",
    "        with torch.no_grad():\n",
    "            self.model = self.model.eval()\n",
    "\n",
    "            metrics = None\n",
    "            val_loss = None\n",
    "            for batch in self.val_dataloader:\n",
    "                pred = self.model.predict(batch[self.input_key].to(self.device))\n",
    "                gt_seg_map = batch[\"seg\"].float().to(self.device)\n",
    "\n",
    "                metrics = evaluate_chunked_inference_in_memory(\n",
    "                    mean_prob_chunk=torch.sigmoid(pred.pred[0]).cpu().numpy(),\n",
    "                    label=gt_seg_map[0, 0, ...].cpu().numpy().astype(bool),\n",
    "                    thresholds=[0.5],\n",
    "                    device=\"cuda\",\n",
    "                )\n",
    "                val_loss = self.criterion(pred.pred, gt_seg_map[:, 0, ...])\n",
    "\n",
    "                break  # only eval one cube\n",
    "\n",
    "            print(\"--------------------------------\")\n",
    "            print(f\"{metrics = }\")\n",
    "            print(f\"{val_loss = }\")\n",
    "            print(\"--------------------------------\")\n",
    "            self.log_dict({\n",
    "                \"val_loss\": val_loss,\n",
    "                \"val_surface_dice\": metrics.surface_dices[0],\n",
    "                \"val_f1\": metrics.f1_scores[0],\n",
    "            })\n",
    "\n",
    "\n",
    "    def configure_optimizers(self):\n",
    "        return torch.optim.AdamW(self.model.parameters(), lr=1e-3, eps=1e-8)"
   ]
  },
  {
   "cell_type": "code",
   "execution_count": null,
   "id": "42f67184-4863-434d-8c14-dd9edc2852d3",
   "metadata": {},
   "outputs": [],
   "source": [
    "cube_size = 64\n",
    "\n",
    "\n",
    "train_dataset = SphereDataset(cube_size, 10, length=500)\n",
    "val_dataset = SphereDataset(cube_size, 10, length=1)\n",
    "train_loader = torch.utils.data.DataLoader(\n",
    "    train_dataset,\n",
    "    batch_size=8,\n",
    "    shuffle=True,\n",
    "    pin_memory=True,\n",
    "    drop_last=True,\n",
    ")\n",
    "val_loader = torch.utils.data.DataLoader(\n",
    "    val_dataset,\n",
    "    batch_size=1,\n",
    "    shuffle=False,\n",
    "    pin_memory=True,\n",
    "    drop_last=False,\n",
    ")\n",
    "model = SMPModel(\n",
    "    \"Unet\",\n",
    "    encoder_name=\"resnet34\",\n",
    "    encoder_weights=\"imagenet\",\n",
    "    replace_batch_norm_with_layer_norm=True,\n",
    "    in_channels=cube_size,\n",
    "    classes=cube_size,\n",
    ").to(device).train()"
   ]
  },
  {
   "cell_type": "code",
   "execution_count": null,
   "id": "98715ede-9a37-4222-8317-82ac1142bee2",
   "metadata": {},
   "outputs": [],
   "source": [
    "from pytorch_lightning.loggers import WandbLogger"
   ]
  },
  {
   "cell_type": "code",
   "execution_count": null,
   "id": "f1df26fa-539f-4c4b-8d99-766c6e5d337f",
   "metadata": {},
   "outputs": [],
   "source": [
    "class CombinedLoss(nn.Module):\n",
    "    def __init__(self, losses):\n",
    "        nn.Module.__init__(self)\n",
    "        self.losses = losses\n",
    "\n",
    "    def forward(self, pred, target):\n",
    "        return sum(loss(pred, target) for loss in self.losses) / len(self.losses)"
   ]
  },
  {
   "cell_type": "code",
   "execution_count": null,
   "id": "d4af59e5-3dfe-49a2-be6b-11acd1deb6ff",
   "metadata": {},
   "outputs": [],
   "source": [
    "# criterion = nn.BCEWithLogitsLoss()\n",
    "criterion = DiceLoss()\n",
    "# criterion = SurfaceDiceLoss(device=device)\n",
    "# criterion = CombinedLoss([nn.BCEWithLogitsLoss(), SurfaceDiceLoss(device=device)])\n",
    "# criterion = CombinedLoss([DiceLoss(), SurfaceDiceLoss(device=device)])\n",
    "\n",
    "# input_key = \"img\"\n",
    "input_key = \"seg\"\n",
    "\n",
    "task = ThreeDSegTask(model, criterion, val_loader, input_key)"
   ]
  },
  {
   "cell_type": "code",
   "execution_count": null,
   "id": "26aec015-a0cf-4af8-8085-a1172a1f33ae",
   "metadata": {},
   "outputs": [],
   "source": [
    "trainer = pl.Trainer(\n",
    "    accelerator=\"gpu\",\n",
    "    # logger=WandbLogger(project=\"sphere\"),\n",
    "    max_epochs=10,\n",
    "    precision=\"16\",\n",
    "    benchmark=True,\n",
    "    devices=-1,\n",
    ")\n",
    "trainer.fit(\n",
    "    model=task,\n",
    "    train_dataloaders=train_loader,\n",
    "    val_dataloaders=val_loader,\n",
    ")"
   ]
  },
  {
   "cell_type": "code",
   "execution_count": null,
   "id": "9ccd76a1-e035-4cd5-8c3f-c0f140fb6574",
   "metadata": {},
   "outputs": [],
   "source": []
  },
  {
   "cell_type": "code",
   "execution_count": null,
   "id": "1a058a95-a0c6-4ee1-957a-48f11dd8765e",
   "metadata": {},
   "outputs": [],
   "source": [
    "trained_model = task.model.eval()\n",
    "\n",
    "thresholds = np.arange(0, 1.1, 0.1)\n",
    "metrics = None\n",
    "with torch.no_grad():\n",
    "    val_item = val_dataset[0]\n",
    "    val_img = val_item[input_key]\n",
    "    val_label = val_item[\"seg\"][0].cpu()\n",
    "    model_out = trained_model.predict(val_img.unsqueeze(0).to(device))\n",
    "\n",
    "    raw_pred = model_out.pred[0].cpu()\n",
    "    pred = torch.sigmoid(raw_pred).cpu()\n",
    "\n",
    "    metrics = evaluate_chunked_inference_in_memory(\n",
    "        mean_prob_chunk=pred.numpy(),\n",
    "        label=val_label.numpy().astype(bool),\n",
    "        thresholds=thresholds,\n",
    "        device=\"cuda\",\n",
    "    )\n",
    "\n",
    "print(f\"{metrics = }\")\n",
    "\n",
    "\n",
    "i = 32\n",
    "\n",
    "plt.plot(thresholds, metrics.surface_dices)\n",
    "plt.figure()\n",
    "plt.imshow(pred[i, ...].cpu().numpy() > 0.5)\n",
    "plt.figure()\n",
    "plt.imshow(val_label[i, ...].cpu().numpy())"
   ]
  },
  {
   "cell_type": "code",
   "execution_count": null,
   "id": "1a2a3082-c460-4c95-9e20-3af750ad91cc",
   "metadata": {},
   "outputs": [],
   "source": [
    "sd = SurfaceDiceLoss(device=device)"
   ]
  },
  {
   "cell_type": "code",
   "execution_count": null,
   "id": "9723b87f-b401-49f9-a037-3be4677f1425",
   "metadata": {},
   "outputs": [],
   "source": [
    "# loss_out = sd(raw_pred.unsqueeze(0).to(device), val_label.unsqueeze(0).to(device))\n",
    "loss_out = sd.forward_sigmoid(val_label.unsqueeze(0).to(device), val_label.unsqueeze(0).to(device))\n",
    "print(f\"{loss_out = }\")\n",
    "print(f\"dice = {1 - loss_out}\")"
   ]
  },
  {
   "cell_type": "code",
   "execution_count": null,
   "id": "6a93a5f8-cc7f-4db6-afe7-bd9b7114823d",
   "metadata": {},
   "outputs": [],
   "source": [
    "print((pred - val_label).abs().sum())\n",
    "print((pred - val_label).abs().mean())"
   ]
  }
 ],
 "metadata": {
  "kernelspec": {
   "display_name": "Python 3 (ipykernel)",
   "language": "python",
   "name": "python3"
  },
  "language_info": {
   "codemirror_mode": {
    "name": "ipython",
    "version": 3
   },
   "file_extension": ".py",
   "mimetype": "text/x-python",
   "name": "python",
   "nbconvert_exporter": "python",
   "pygments_lexer": "ipython3",
   "version": "3.11.6"
  }
 },
 "nbformat": 4,
 "nbformat_minor": 5
}
