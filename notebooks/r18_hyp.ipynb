{
 "cells": [
  {
   "cell_type": "code",
   "execution_count": null,
   "id": "baaac0dc-d1b2-4b45-bed6-3ffcb939e8be",
   "metadata": {},
   "outputs": [],
   "source": [
    "import pandas as pd\n",
    "import seaborn as sns\n",
    "import numpy as np\n",
    "from pathlib import Path\n",
    "import matplotlib.pyplot as plt"
   ]
  },
  {
   "cell_type": "code",
   "execution_count": null,
   "id": "aaf10db7-2875-47ba-b1d9-429f3cde2b0b",
   "metadata": {},
   "outputs": [],
   "source": [
    "df = pd.read_csv(\"/home/clay/research/kaggle/sennet/data_dumps/wandb_export_2023-12-30T20_53_44.470+00_00.csv\")\n",
    "df = df[df[\"best_surface_dice\"] > 0.5]\n",
    "df"
   ]
  },
  {
   "cell_type": "code",
   "execution_count": null,
   "id": "617b0b29-976b-48a6-b82d-4d017cb93658",
   "metadata": {},
   "outputs": [],
   "source": [
    "import json\n",
    "\n",
    "\n",
    "weights0 = []\n",
    "weights1 = []\n",
    "weights2 = []\n",
    "weights3 = []\n",
    "for _, row in df[\"loss\"].items():\n",
    "    data = json.loads(row)\n",
    "    w0 = data[0][\"weight\"]\n",
    "    w1 = data[1][\"weight\"]\n",
    "    w2 = data[2][\"weight\"]\n",
    "    w3 = data[3][\"weight\"]\n",
    "    total_weight = w0 + w1 + w2 + w3\n",
    "    weights0.append(w0 / total_weight)\n",
    "    weights1.append(w1 / total_weight)\n",
    "    weights2.append(w2 / total_weight)\n",
    "    weights3.append(w3 / total_weight)\n",
    "\n",
    "\n",
    "df[\"weights0\"] = weights0\n",
    "df[\"weights1\"] = weights1\n",
    "df[\"weights2\"] = weights2\n",
    "df[\"weights3\"] = weights3"
   ]
  },
  {
   "cell_type": "code",
   "execution_count": null,
   "id": "3ef26024-084e-4bb3-bf4b-715e52c118e6",
   "metadata": {},
   "outputs": [],
   "source": [
    "for c in df.columns:\n",
    "    print(c)"
   ]
  },
  {
   "cell_type": "code",
   "execution_count": null,
   "id": "8a7c401a-961e-4028-8a1c-9bff0a6e9934",
   "metadata": {},
   "outputs": [],
   "source": [
    "sns.pairplot(\n",
    "    df[[\"best_surface_dice\", \"weights0\", \"weights1\", \"weights2\", \"weights3\", \"dataset.kwargs.crop_size\"]],\n",
    ")"
   ]
  },
  {
   "cell_type": "code",
   "execution_count": null,
   "id": "cd9d5247-b217-44b6-b9fc-e3ef5927cc71",
   "metadata": {},
   "outputs": [],
   "source": [
    "df[\"dataset.kwargs.crop_size\"].max()"
   ]
  }
 ],
 "metadata": {
  "kernelspec": {
   "display_name": "Python 3 (ipykernel)",
   "language": "python",
   "name": "python3"
  },
  "language_info": {
   "codemirror_mode": {
    "name": "ipython",
    "version": 3
   },
   "file_extension": ".py",
   "mimetype": "text/x-python",
   "name": "python",
   "nbconvert_exporter": "python",
   "pygments_lexer": "ipython3",
   "version": "3.11.6"
  }
 },
 "nbformat": 4,
 "nbformat_minor": 5
}
