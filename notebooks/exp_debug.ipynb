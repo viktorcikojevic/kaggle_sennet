{
 "cells": [
  {
   "cell_type": "code",
   "execution_count": 1,
   "id": "0ec6466b-3b07-4a5f-b321-ca6e25b80147",
   "metadata": {},
   "outputs": [],
   "source": [
    "import sys\n",
    "\n",
    "\n",
    "sys.path.append(\"../src/\")"
   ]
  },
  {
   "cell_type": "code",
   "execution_count": 8,
   "id": "f4a180a7-ace2-4b5a-98a6-d8e24a832f29",
   "metadata": {},
   "outputs": [],
   "source": [
    "from pathlib import Path\n",
    "import numpy as np\n",
    "\n",
    "\n",
    "chunk_path_0 = Path(\"/home/clay/research/kaggle/sennet/data_dumps/predicted/kidney_1_dense/chunk_02\")\n",
    "chunk_path_1 = Path(\"/home/clay/research/kaggle/sennet/data_dumps/tmp_mmaps/UNet3D-2023-12-16-22-00-32/chunk_02\")"
   ]
  },
  {
   "cell_type": "code",
   "execution_count": 5,
   "id": "2580e4ca-d8e5-4d92-9713-a2c6bec2b192",
   "metadata": {},
   "outputs": [],
   "source": [
    "from sennet.core.mmap_arrays import read_mmap_array"
   ]
  },
  {
   "cell_type": "code",
   "execution_count": 12,
   "id": "411ad229-b394-4ad5-9015-b2c679519a21",
   "metadata": {},
   "outputs": [
    {
     "data": {
      "text/plain": [
       "12016632"
      ]
     },
     "execution_count": 12,
     "metadata": {},
     "output_type": "execute_result"
    }
   ],
   "source": [
    "thresholded_mmap_0 = read_mmap_array(chunk_path_0 / \"thresholded_prob\")\n",
    "thresholded_mmap_1 = read_mmap_array(chunk_path_1 / \"thresholded_prob\")\n",
    "np.abs(thresholded_mmap_0.data != thresholded_mmap_1.data).sum()"
   ]
  },
  {
   "cell_type": "code",
   "execution_count": 13,
   "id": "28882f96-c71b-46a5-9963-3cf97f53745b",
   "metadata": {},
   "outputs": [
    {
     "data": {
      "text/plain": [
       "12448530.468581084"
      ]
     },
     "execution_count": 13,
     "metadata": {},
     "output_type": "execute_result"
    }
   ],
   "source": [
    "mean_mmap_0 = read_mmap_array(chunk_path_0 / \"mean_prob\")\n",
    "mean_mmap_1 = read_mmap_array(chunk_path_1 / \"mean_prob\")\n",
    "np.abs(mean_mmap_0.data - mean_mmap_1.data).sum()"
   ]
  },
  {
   "cell_type": "code",
   "execution_count": 14,
   "id": "8c998f45-c13e-4619-8ad3-0c6eed239643",
   "metadata": {},
   "outputs": [
    {
     "data": {
      "text/plain": [
       "0"
      ]
     },
     "execution_count": 14,
     "metadata": {},
     "output_type": "execute_result"
    }
   ],
   "source": [
    "count_mmap_0 = read_mmap_array(chunk_path_0 / \"total_count\")\n",
    "count_mmap_1 = read_mmap_array(chunk_path_1 / \"total_count\")\n",
    "np.abs(count_mmap_0.data - count_mmap_1.data).sum()"
   ]
  }
 ],
 "metadata": {
  "kernelspec": {
   "display_name": "Python 3 (ipykernel)",
   "language": "python",
   "name": "python3"
  },
  "language_info": {
   "codemirror_mode": {
    "name": "ipython",
    "version": 3
   },
   "file_extension": ".py",
   "mimetype": "text/x-python",
   "name": "python",
   "nbconvert_exporter": "python",
   "pygments_lexer": "ipython3",
   "version": "3.11.6"
  }
 },
 "nbformat": 4,
 "nbformat_minor": 5
}
