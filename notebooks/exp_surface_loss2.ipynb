{
 "cells": [
  {
   "cell_type": "code",
   "execution_count": 1,
   "id": "288b7254-38f0-4f34-b058-7abafb742cc6",
   "metadata": {},
   "outputs": [],
   "source": [
    "import sys\n",
    "\n",
    "\n",
    "sys.path.append(\"../src/\")"
   ]
  },
  {
   "cell_type": "code",
   "execution_count": 2,
   "id": "95e7bf04-35dd-416e-af81-14effc130f2d",
   "metadata": {},
   "outputs": [],
   "source": [
    "from sennet.custom_modules.metrics.surface_dice_metric_fast import create_table_neighbour_code_to_surface_area\n",
    "import torch\n",
    "import matplotlib.pyplot as plt\n",
    "import numpy as np"
   ]
  },
  {
   "cell_type": "code",
   "execution_count": 3,
   "id": "060ed5b6-2829-4ad3-97e7-a97a7f2c5f50",
   "metadata": {},
   "outputs": [
    {
     "data": {
      "text/plain": [
       "torch.Size([256])"
      ]
     },
     "execution_count": 3,
     "metadata": {},
     "output_type": "execute_result"
    }
   ],
   "source": [
    "device = \"cpu\"\n",
    "\n",
    "\n",
    "unfold = torch.nn.Unfold(kernel_size=(2, 2), padding=1)\n",
    "\n",
    "\n",
    "area = create_table_neighbour_code_to_surface_area((1, 1, 1))\n",
    "area = torch.from_numpy(area).to(device)  # torch.float32\n",
    "area.shape"
   ]
  },
  {
   "cell_type": "code",
   "execution_count": 4,
   "id": "1c24db9e-9312-4f4f-815c-12bf9964580a",
   "metadata": {},
   "outputs": [
    {
     "name": "stdout",
     "output_type": "stream",
     "text": [
      "bases_vals.shape=(256, 8)\n",
      "bases.shape=torch.Size([256, 8])\n"
     ]
    },
    {
     "data": {
      "text/plain": [
       "<matplotlib.image.AxesImage at 0x7fec8d9f1c90>"
      ]
     },
     "execution_count": 4,
     "metadata": {},
     "output_type": "execute_result"
    },
    {
     "data": {
      "image/png": "[encoded data removed]",
      "text/plain": [
       "<Figure size 2000x1000 with 1 Axes>"
      ]
     },
     "metadata": {},
     "output_type": "display_data"
    }
   ],
   "source": [
    "bases_vals = np.array([\n",
    "    [c==\"1\" for c in f\"{i:08b}\"]\n",
    "    for i in range(256)\n",
    "])  #.transpose()\n",
    "bases = torch.from_numpy(bases_vals).float().to(device)\n",
    "print(f\"{bases_vals.shape=}\")\n",
    "print(f\"{bases.shape=}\")\n",
    "\n",
    "plt.figure(figsize=(20, 10))\n",
    "plt.imshow(bases_vals)"
   ]
  },
  {
   "cell_type": "code",
   "execution_count": 5,
   "id": "6a3a4f4a-9d1d-4a3d-8a46-aa4792c6d1ca",
   "metadata": {},
   "outputs": [],
   "source": [
    "batch_size = 1\n",
    "zs = 2\n",
    "ys = 3\n",
    "xs = 3\n",
    "\n",
    "pred = torch.rand((batch_size, zs, ys, xs)).to(device)\n",
    "labels = (torch.rand((batch_size, zs, ys, xs)) > 0.5).to(device)\n",
    "\n",
    "# pred = labels.float()   # sanity check to see if loss will be 0"
   ]
  },
  {
   "cell_type": "code",
   "execution_count": 6,
   "id": "5ef87360-6ea8-42ce-b5af-761c06725c27",
   "metadata": {},
   "outputs": [
    {
     "name": "stdout",
     "output_type": "stream",
     "text": [
      "unfolded_pred.shape=torch.Size([1, 8, 16])\n",
      "unfolded_labels.shape=torch.Size([1, 8, 16])\n"
     ]
    }
   ],
   "source": [
    "unfolded_pred = unfold(pred)\n",
    "unfolded_labels = unfold(labels.float())\n",
    "\n",
    "# permuted_unfolded_pred = unfolded_pred.permute((0, 2, 1)).unsqueeze(-1)\n",
    "# permuted_unfolded_labels = unfolded_labels.permute((0, 2, 1)).unsqueeze(-1)\n",
    "\n",
    "print(f\"{unfolded_pred.shape=}\")\n",
    "print(f\"{unfolded_labels.shape=}\")\n",
    "# print(f\"{permuted_unfolded_pred.shape=}\")\n",
    "# print(f\"{permuted_unfolded_labels.shape=}\")"
   ]
  },
  {
   "cell_type": "markdown",
   "id": "7f01c4d5-1301-40aa-9e69-f518e0a4ad1c",
   "metadata": {},
   "source": [
    "## one greedy solver iter"
   ]
  },
  {
   "cell_type": "code",
   "execution_count": 7,
   "id": "76b797f3-75bd-4465-88e2-337ef40c765a",
   "metadata": {},
   "outputs": [
    {
     "name": "stdout",
     "output_type": "stream",
     "text": [
      "w.shape = torch.Size([16])\n",
      "w = tensor([0.0046, 0.0046, 0.2610, 0.8058, 0.0046, 0.0046, 0.2610, 0.8058, 0.0374,\n",
      "        0.0374, 0.0814, 0.5043, 0.0374, 0.0374, 0.0814, 0.5043])\n",
      "pred_cube_bytes[b] = tensor([ 17,  51,  51,  34,  85, 255, 255, 170,  85, 255, 255, 170,  68, 204,\n",
      "        204, 136])\n",
      "copied_unfolded_pred[b].shape = torch.Size([8, 16])\n",
      "-----\n",
      "unfolded_pred.shape = torch.Size([1, 8, 16])\n",
      "nonzero_masks.shape = torch.Size([1, 8, 16])\n",
      "pred_min_vals.shape = torch.Size([1, 16])\n",
      "has_cube.shape = torch.Size([1, 16])\n",
      "weights.shape = torch.Size([1, 256, 16])\n",
      "pred_cube_bases.shape = torch.Size([1, 8, 16])\n",
      "subtraction_weights.shape = torch.Size([1, 16])\n",
      "done = tensor(False)\n",
      "tensor([[ 17,  51,  51,  34,  85, 255, 255, 170,  85, 255, 255, 170,  68, 204,\n",
      "         204, 136]])\n"
     ]
    }
   ],
   "source": [
    "# greedy solver\n",
    "batch_size, n_corners, n_points = unfolded_pred.shape\n",
    "assert n_corners == 8, f\"{n_corners=} == 8, are you working on 2 slices?\"\n",
    "weights = torch.zeros((batch_size, 256, n_points))\n",
    "\n",
    "copied_unfolded_pred = unfolded_pred.clone()\n",
    "done = (copied_unfolded_pred.abs() < 1e-5).all()\n",
    "nonzero_masks = copied_unfolded_pred > 0\n",
    "pred_min_vals = torch.zeros((batch_size, n_points), device=device, dtype=torch.float32)\n",
    "has_cube = torch.any(nonzero_masks, dim=1)\n",
    "\n",
    "pred_cube_bytes = sum(nonzero_masks[:, k, :] << (7-k) for k in range(8))\n",
    "pred_cube_bases = bases[pred_cube_bytes, :].permute((0, 2, 1))\n",
    "subtraction_weights = torch.where(copied_unfolded_pred > 0, copied_unfolded_pred, torch.inf).min(1).values  # (batch, n_points)\n",
    "subtraction_weights[subtraction_weights.isinf()] = 0\n",
    "\n",
    "# weights[pred_cube_bytes] += subtraction_weights\n",
    "# copied_unfolded_pred[b] -= w[None, :] * cube_bases\n",
    "\n",
    "for b in range(batch_size):\n",
    "    w = subtraction_weights[b]\n",
    "    weights[b][pred_cube_bytes[b], list(range(weights.shape[2]))] += w\n",
    "    copied_unfolded_pred[b] -= w[None, :] * pred_cube_bases[b]\n",
    "    print(f\"{w.shape = }\")\n",
    "    print(f\"{w = }\")\n",
    "    print(f\"{pred_cube_bytes[b] = }\")\n",
    "    print(f\"{copied_unfolded_pred[b].shape = }\")\n",
    "    print(\"-----\")\n",
    "\n",
    "print(f\"{unfolded_pred.shape = }\")\n",
    "print(f\"{nonzero_masks.shape = }\")\n",
    "print(f\"{pred_min_vals.shape = }\")\n",
    "print(f\"{has_cube.shape = }\")\n",
    "print(f\"{weights.shape = }\")\n",
    "print(f\"{pred_cube_bases.shape = }\")\n",
    "print(f\"{subtraction_weights.shape = }\")\n",
    "print(f\"{done = }\")\n",
    "print(pred_cube_bytes)"
   ]
  },
  {
   "cell_type": "markdown",
   "id": "eaa71a99-e836-4853-b76f-0128b7338b38",
   "metadata": {},
   "source": [
    "## greedy solver until done"
   ]
  },
  {
   "cell_type": "code",
   "execution_count": 8,
   "id": "8dd35ac2-01a1-4bc3-8e76-e6c9d9bd1a6b",
   "metadata": {},
   "outputs": [],
   "source": [
    "batch_size, n_corners, n_points = unfolded_pred.shape\n",
    "assert n_corners == 8, f\"{n_corners=} == 8, are you working on 2 slices?\"\n",
    "weights = torch.zeros((batch_size, 256, n_points))\n",
    "\n",
    "copied_unfolded_pred = unfolded_pred.clone()\n",
    "while True:\n",
    "    done = (copied_unfolded_pred.abs() < 1e-5).all()\n",
    "    if done:\n",
    "        break\n",
    "\n",
    "    nonzero_masks = copied_unfolded_pred > 0\n",
    "    pred_min_vals = torch.zeros((batch_size, n_points), device=device, dtype=torch.float32)\n",
    "    has_cube = torch.any(nonzero_masks, dim=1)\n",
    "    \n",
    "    pred_cube_bytes = sum(nonzero_masks[:, k, :] << (7-k) for k in range(8))\n",
    "    pred_cube_bases = bases[pred_cube_bytes, :].permute((0, 2, 1))\n",
    "    subtraction_weights = torch.where(copied_unfolded_pred > 0, copied_unfolded_pred, torch.inf).min(1).values  # (batch, n_points)\n",
    "    subtraction_weights[subtraction_weights.isinf()] = 0\n",
    "    \n",
    "    for b in range(batch_size):\n",
    "        w = subtraction_weights[b]\n",
    "        weights[b][pred_cube_bytes[b], list(range(weights.shape[2]))] += w\n",
    "        copied_unfolded_pred[b] -= w[None, :] * pred_cube_bases[b]\n",
    "\n",
    "residual = (bases.permute((1, 0)).tile((batch_size, 1, 1)) @ weights) - unfolded_pred\n",
    "assert residual.abs().sum() < 1e-5"
   ]
  },
  {
   "cell_type": "markdown",
   "id": "c6633b8e-45ce-46c2-9f49-924347c3eb64",
   "metadata": {},
   "source": [
    "## labels"
   ]
  },
  {
   "cell_type": "code",
   "execution_count": 9,
   "id": "128ac44a-6aa0-45b7-a2e1-f8dadb0dc815",
   "metadata": {},
   "outputs": [
    {
     "name": "stdout",
     "output_type": "stream",
     "text": [
      "unfolded_labels.shape = torch.Size([1, 8, 16])\n",
      "label_cubes_byte.shape = torch.Size([1, 16])\n",
      "label_areas.shape = torch.Size([1, 16])\n"
     ]
    }
   ],
   "source": [
    "label_cubes_byte = torch.zeros((unfolded_labels.shape[0], unfolded_labels.shape[2]), dtype=torch.int32, device=device)\n",
    "for k in range(8):\n",
    "    label_cubes_byte += unfolded_labels[:, k, :].to(torch.int32) << k\n",
    "\n",
    "\n",
    "label_areas = torch.zeros((label_cubes_byte.shape[0], label_cubes_byte.shape[1]), dtype=torch.float32, device=device)\n",
    "for b in range(label_cubes_byte.shape[0]):\n",
    "    label_areas[b, :] = torch.where(label_cubes_byte[b, :] == 0, label_areas[b, :], area[label_cubes_byte[b, :] - 1])\n",
    "\n",
    "\n",
    "print(f\"{unfolded_labels.shape = }\")\n",
    "print(f\"{label_cubes_byte.shape = }\")\n",
    "print(f\"{label_areas.shape = }\")"
   ]
  },
  {
   "cell_type": "code",
   "execution_count": 10,
   "id": "f8e59042-e8f4-4d41-8adc-587cfd48daa8",
   "metadata": {},
   "outputs": [
    {
     "name": "stdout",
     "output_type": "stream",
     "text": [
      "bases.shape = torch.Size([256, 8])\n",
      "weights.shape = torch.Size([1, 256, 16])\n",
      "unfolded_pred.shape = torch.Size([1, 8, 16])\n",
      "area.shape = torch.Size([256])\n"
     ]
    }
   ],
   "source": [
    "print(f\"{bases.shape = }\")\n",
    "print(f\"{weights.shape = }\")\n",
    "print(f\"{unfolded_pred.shape = }\")\n",
    "print(f\"{area.shape = }\")"
   ]
  },
  {
   "cell_type": "code",
   "execution_count": 16,
   "id": "b0b4e599-66ba-4502-ae9c-99dcf465602e",
   "metadata": {},
   "outputs": [
    {
     "data": {
      "text/plain": [
       "torch.Size([1, 16])"
      ]
     },
     "execution_count": 16,
     "metadata": {},
     "output_type": "execute_result"
    }
   ],
   "source": [
    "pred_areas = (weights.permute((0, 2, 1)) @ area.tile((batch_size, 1)).unsqueeze(-1)).squeeze(-1)\n",
    "pred_areas.shape"
   ]
  },
  {
   "cell_type": "code",
   "execution_count": 19,
   "id": "a1f63159-b2b2-4f39-9fcc-9c4bf10ae89d",
   "metadata": {},
   "outputs": [],
   "source": [
    "intersection = pred_areas * label_areas"
   ]
  },
  {
   "cell_type": "code",
   "execution_count": 20,
   "id": "65311889-2015-4441-954d-4760f17e57dd",
   "metadata": {},
   "outputs": [
    {
     "name": "stdout",
     "output_type": "stream",
     "text": [
      "dice = tensor(0.3377)\n",
      "pred_areas.sum() = tensor(9.5315)\n",
      "label_areas.sum() = tensor(11.2411)\n",
      "intersection.sum() = tensor(6.8789)\n"
     ]
    }
   ],
   "source": [
    "smooth = 1e-3\n",
    "numerator = 2 * intersection.sum()\n",
    "denominator = label_areas.sum() + pred_areas.sum()\n",
    "dice = 1 - ((numerator + smooth) / (denominator + smooth))\n",
    "\n",
    "print(f\"{dice = }\")\n",
    "print(f\"{pred_areas.sum() = }\")\n",
    "print(f\"{label_areas.sum() = }\")\n",
    "print(f\"{intersection.sum() = }\")"
   ]
  },
  {
   "cell_type": "code",
   "execution_count": null,
   "id": "4dc07361-760d-4c75-92a9-912e35d67a13",
   "metadata": {},
   "outputs": [],
   "source": []
  },
  {
   "cell_type": "code",
   "execution_count": null,
   "id": "9c81524c-5e63-415f-9ed9-e38cdb1c01d5",
   "metadata": {},
   "outputs": [],
   "source": []
  },
  {
   "cell_type": "code",
   "execution_count": null,
   "id": "cdef3ce9-a251-4096-98fd-f979eda04573",
   "metadata": {},
   "outputs": [],
   "source": []
  },
  {
   "cell_type": "code",
   "execution_count": null,
   "id": "6c1cf48e-32f7-41a3-85d8-7d1f4ce86a61",
   "metadata": {},
   "outputs": [],
   "source": []
  },
  {
   "cell_type": "code",
   "execution_count": null,
   "id": "64afb3a5-cf23-4349-b0af-aba7e73ec6b9",
   "metadata": {},
   "outputs": [],
   "source": []
  },
  {
   "cell_type": "markdown",
   "id": "73f073cf-58ba-4c1f-9b39-847b9a15c51d",
   "metadata": {},
   "source": [
    "### sanity check for when pred == label, areas should equal"
   ]
  },
  {
   "cell_type": "code",
   "execution_count": null,
   "id": "a25a851d-814c-466a-ae57-beb8a46850c2",
   "metadata": {},
   "outputs": [],
   "source": [
    "squeezed_base_weights = bases_weights.squeeze(0).squeeze(-1)  # useful when batch size == 1\n",
    "squeezed_permuted_unfolded_pred = permuted_unfolded_pred.squeeze(0).squeeze(-1)\n",
    "\n",
    "print(f\"{squeezed_base_weights.shape = }\")\n",
    "print(f\"{squeezed_permuted_unfolded_pred.shape = }\")\n",
    "print(f\"{bases.shape = }\")\n",
    "\n",
    "torch.abs(squeezed_base_weights @ bases.permute((1, 0)) - squeezed_permuted_unfolded_pred).sum()"
   ]
  },
  {
   "cell_type": "code",
   "execution_count": null,
   "id": "c2328dc1-7575-4604-8baf-af433fb9166d",
   "metadata": {},
   "outputs": [],
   "source": [
    "# check that computed pred cube matches label cubes\n",
    "\n",
    "base_weights_max = squeezed_base_weights.max(1)\n",
    "base_weights_max_vals = base_weights_max.values\n",
    "base_weights_max_indices = base_weights_max.indices + 1\n",
    "\n",
    "print(bases_weights.shape)\n",
    "print()\n",
    "print(f\"pred_cube_byte: {base_weights_max_indices}\")\n",
    "print()\n",
    "print(f\"pred_cube_weights: {base_weights_max_vals}\")\n",
    "print()\n",
    "print(f\"label_cubes_byte: {label_cubes_byte}\")"
   ]
  },
  {
   "cell_type": "code",
   "execution_count": null,
   "id": "f7c665b0-76da-4165-92fe-68584bc0b8a3",
   "metadata": {},
   "outputs": [],
   "source": [
    "label_areas.reshape(-1)"
   ]
  },
  {
   "cell_type": "code",
   "execution_count": null,
   "id": "2d528f23-f47c-4d76-bda7-d010eff9a6c6",
   "metadata": {},
   "outputs": [],
   "source": [
    "pred_areas.reshape(-1)"
   ]
  },
  {
   "cell_type": "markdown",
   "id": "83ef7d93-6690-4fea-b71a-7bc69e77f262",
   "metadata": {},
   "source": [
    "### this is from dice loss\n",
    "```python\n",
    "def forward(self, input, target):\n",
    "    # Apply sigmoid to input (predictions)\n",
    "    input_sigmoid = torch.sigmoid(input).reshape(-1)\n",
    "    target_flat = target.reshape(-1)\n",
    "    \n",
    "    intersection = (input_sigmoid * target_flat).sum()\n",
    "\n",
    "    return 1 - (\n",
    "        (2.0 * intersection + self.smooth)\n",
    "        / (input_sigmoid.sum() + target_flat.sum() + self.smooth)\n",
    "    )\n",
    "```"
   ]
  },
  {
   "cell_type": "code",
   "execution_count": null,
   "id": "e92d2796-54fb-46d9-808b-cbd672ba71b4",
   "metadata": {},
   "outputs": [],
   "source": [
    "# batch, cube\n",
    "label_cubes_byte.shape"
   ]
  },
  {
   "cell_type": "code",
   "execution_count": null,
   "id": "ba33ade6-f886-44a6-9b23-8f3eac8f9a39",
   "metadata": {},
   "outputs": [],
   "source": [
    "# batch, point, weights, 1\n",
    "bases_weights.shape"
   ]
  },
  {
   "cell_type": "code",
   "execution_count": null,
   "id": "5f188e34-b96b-4dc7-ab3c-854a7a17b52a",
   "metadata": {},
   "outputs": [],
   "source": [
    "# batch, point\n",
    "label_areas.shape"
   ]
  },
  {
   "cell_type": "code",
   "execution_count": null,
   "id": "f26ac341-b267-4257-917b-472528debfca",
   "metadata": {},
   "outputs": [],
   "source": [
    "# intersection = use the base weights (255 items), \n",
    "#   then go and get the weighted sum of the label areas at each pixel\n",
    "#   - so you need to know which cube hits the label\n",
    "#   - then take the area of that guy\n",
    "\n",
    "intersection = torch.zeros((bases_weights.shape[0], bases_weights.shape[1]), device=device, dtype=torch.float32)\n",
    "for i in range(bases_weights.shape[0]):\n",
    "    w = bases_weights[i, ...].squeeze(-1)  # (points, 255)\n",
    "    cb = label_cubes_byte[i, ...]   # (points, )\n",
    "    weight_at_label_cube = torch.where(\n",
    "        cb==0, \n",
    "        torch.zeros((w.shape[0], ), dtype=torch.float32, device=device), \n",
    "        w[torch.arange(w.shape[0], device=device), cb-1]\n",
    "    )\n",
    "    # print(cb.shape, w.shape, weight_at_label_cube.shape)\n",
    "    intersection[i, ...] = weight_at_label_cube * label_areas[i, ...]"
   ]
  },
  {
   "cell_type": "code",
   "execution_count": null,
   "id": "207fed92-db27-49d7-93b9-35b0275a2a47",
   "metadata": {},
   "outputs": [],
   "source": [
    "intersection.shape"
   ]
  },
  {
   "cell_type": "code",
   "execution_count": null,
   "id": "e0d61dc7-6cb9-499c-a593-610d755a728b",
   "metadata": {},
   "outputs": [],
   "source": [
    "smooth = 1e-3\n",
    "numerator = 2 * intersection.sum()\n",
    "denominator = label_areas.sum() + pred_areas.sum()\n",
    "dice = 1 - ((numerator + smooth) / (denominator + smooth))\n",
    "\n",
    "print(f\"{intersection.sum() = }\")\n",
    "print(f\"{label_areas.sum() = }\")\n",
    "print(f\"{pred_areas.sum() = }\")\n",
    "print(f\"{numerator = }\")\n",
    "print(f\"{denominator = }\")\n",
    "print(f\"{dice = }\")"
   ]
  },
  {
   "cell_type": "code",
   "execution_count": null,
   "id": "00c2dbdd-c44e-4a81-9251-455a9429206d",
   "metadata": {},
   "outputs": [],
   "source": [
    "pred_areas"
   ]
  },
  {
   "cell_type": "code",
   "execution_count": null,
   "id": "98494268-9f9f-4079-aeba-cf057b88206f",
   "metadata": {},
   "outputs": [],
   "source": [
    "unfolded_labels.shape"
   ]
  },
  {
   "cell_type": "code",
   "execution_count": null,
   "id": "08e511f9-613c-4be7-8fa1-90eba64121fb",
   "metadata": {},
   "outputs": [],
   "source": [
    "smooth = 1e-3\n",
    "numerator = \n",
    "denominator = pred_areas.sum() + "
   ]
  },
  {
   "cell_type": "code",
   "execution_count": null,
   "id": "a8ea859d-cbac-417e-a9b3-df385fcbdc0f",
   "metadata": {},
   "outputs": [],
   "source": [
    "pred_areas.shape"
   ]
  },
  {
   "cell_type": "code",
   "execution_count": null,
   "id": "dc6f511a-a4c9-426a-bed0-134de6e9260e",
   "metadata": {},
   "outputs": [],
   "source": [
    "torch.abs(torch.sum(permuted_unfolded_pred))"
   ]
  },
  {
   "cell_type": "code",
   "execution_count": null,
   "id": "7b4e6f48-8e0b-4df5-a039-53413054cc88",
   "metadata": {},
   "outputs": [],
   "source": [
    "torch.abs(torch.sum(a_mat))"
   ]
  },
  {
   "cell_type": "code",
   "execution_count": null,
   "id": "b085ce10-ac17-4c21-9f77-dfd2251559b3",
   "metadata": {},
   "outputs": [],
   "source": [
    "a = bases\n",
    "# b = permuted_unfolded_pred[0, 0]\n",
    "b = a[:, 0]\n",
    "print(f\"{a.shape = }\")\n",
    "print(f\"{b.shape = }\")\n",
    "print(a)\n",
    "print(b)\n",
    "sol = torch.linalg.lstsq(bases, b)\n",
    "print(sol.rank)\n",
    "print(sol.solution.reshape(-1))"
   ]
  },
  {
   "cell_type": "code",
   "execution_count": null,
   "id": "56e9095a-8f1b-4adb-a21e-85d13a0fd8a6",
   "metadata": {},
   "outputs": [],
   "source": [
    "torch.linalg.matrix_rank(a)"
   ]
  },
  {
   "cell_type": "code",
   "execution_count": null,
   "id": "56216d1d-f7d6-4ea2-9336-1b04ae687f24",
   "metadata": {},
   "outputs": [],
   "source": [
    "a_np = a.cpu().numpy()\n",
    "b_np = b.cpu().numpy()\n",
    "\n",
    "weights, residuals, rank, singular_vals = np.linalg.lstsq(a_np, b_np, rcond=None)\n",
    "\n",
    "print(a_np.shape)\n",
    "print(b_np.shape)\n",
    "print(b_np)\n",
    "print(np.sum(np.abs(weights)))\n",
    "print(residuals)\n",
    "print(rank)\n",
    "print(singular_vals)"
   ]
  },
  {
   "cell_type": "code",
   "execution_count": null,
   "id": "6943b3f8-a26a-48ed-8ea0-dc9b7650e941",
   "metadata": {},
   "outputs": [],
   "source": [
    "for i in range(256):\n",
    "    print(a_np[:, i])"
   ]
  }
 ],
 "metadata": {
  "kernelspec": {
   "display_name": "Python 3 (ipykernel)",
   "language": "python",
   "name": "python3"
  },
  "language_info": {
   "codemirror_mode": {
    "name": "ipython",
    "version": 3
   },
   "file_extension": ".py",
   "mimetype": "text/x-python",
   "name": "python",
   "nbconvert_exporter": "python",
   "pygments_lexer": "ipython3",
   "version": "3.11.6"
  }
 },
 "nbformat": 4,
 "nbformat_minor": 5
}
