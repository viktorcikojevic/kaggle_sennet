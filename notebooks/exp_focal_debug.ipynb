{
 "cells": [
  {
   "cell_type": "code",
   "execution_count": 28,
   "id": "288e822d-1fb4-474e-ba39-760d7e64a180",
   "metadata": {},
   "outputs": [],
   "source": [
    "import torch.nn as nn\n",
    "import torch\n",
    "import numpy as np"
   ]
  },
  {
   "cell_type": "code",
   "execution_count": 3,
   "id": "58b82d44-90fe-4890-96d5-57fc36157f1d",
   "metadata": {},
   "outputs": [],
   "source": [
    "class FocalLoss(nn.Module):\n",
    "    def __init__(self, gamma=2):\n",
    "        super(FocalLoss, self).__init__()\n",
    "        self.gamma = gamma\n",
    "\n",
    "    def forward(self, bce_loss):\n",
    "        p_t = torch.exp(-bce_loss)\n",
    "        focal_loss = ((1 - p_t) ** self.gamma) * bce_loss\n",
    "        return focal_loss.mean()"
   ]
  },
  {
   "cell_type": "code",
   "execution_count": 5,
   "id": "1bd1e4d0-b726-480e-b3e1-6f59f06a638d",
   "metadata": {},
   "outputs": [],
   "source": [
    "focal = FocalLoss()"
   ]
  },
  {
   "cell_type": "code",
   "execution_count": 14,
   "id": "030196ee-321f-4a7c-80f1-1efee8424e0c",
   "metadata": {},
   "outputs": [],
   "source": [
    "def get_focal(pred, label):\n",
    "    pred = torch.tensor(float(pred))\n",
    "    label = torch.tensor(float(label))\n",
    "    bce = torch.nn.functional.binary_cross_entropy_with_logits(pred, label)\n",
    "    return FocalLoss()(bce)"
   ]
  },
  {
   "cell_type": "code",
   "execution_count": 24,
   "id": "4418b974-37a3-4482-97ee-c9131a9de77b",
   "metadata": {},
   "outputs": [
    {
     "data": {
      "text/plain": [
       "tensor(10000.)"
      ]
     },
     "execution_count": 24,
     "metadata": {},
     "output_type": "execute_result"
    }
   ],
   "source": [
    "get_focal(-10000.0, 1)"
   ]
  },
  {
   "cell_type": "code",
   "execution_count": 25,
   "id": "88eb4df6-b0f8-4ab5-8be8-30cc0e68d1ab",
   "metadata": {},
   "outputs": [],
   "source": [
    "import sys\n",
    "\n",
    "\n",
    "sys.path.append(\"../src/\")"
   ]
  },
  {
   "cell_type": "code",
   "execution_count": 26,
   "id": "6decff30-3d72-411e-97ac-bccdc975f2ea",
   "metadata": {},
   "outputs": [],
   "source": [
    "from sennet.core.mmap_arrays import read_mmap_array"
   ]
  },
  {
   "cell_type": "code",
   "execution_count": 31,
   "id": "2509a05c-666e-450f-95f1-d3a1a5a1dd50",
   "metadata": {},
   "outputs": [],
   "source": [
    "mmap = read_mmap_array(\"/home/clay/research/kaggle/sennet/data_dumps/processed/kidney_2_pl/label_dirty\")"
   ]
  },
  {
   "cell_type": "code",
   "execution_count": 32,
   "id": "9b6bb0fc-2d9e-4e40-94c5-5d37bc20e718",
   "metadata": {},
   "outputs": [],
   "source": [
    "unique_ret = np.unique(mmap.data, return_counts=True)"
   ]
  },
  {
   "cell_type": "code",
   "execution_count": 33,
   "id": "fbc6c7b7-79a3-4c26-8a9c-ab6a780a55e8",
   "metadata": {},
   "outputs": [
    {
     "data": {
      "text/plain": [
       "(array([0, 1], dtype=uint8), array([3472241037,   14991330]))"
      ]
     },
     "execution_count": 33,
     "metadata": {},
     "output_type": "execute_result"
    }
   ],
   "source": [
    "unique_ret"
   ]
  },
  {
   "cell_type": "code",
   "execution_count": null,
   "id": "430a5e8e-4aec-49c7-b4aa-991fd655d7b8",
   "metadata": {},
   "outputs": [],
   "source": []
  }
 ],
 "metadata": {
  "kernelspec": {
   "display_name": "Python 3 (ipykernel)",
   "language": "python",
   "name": "python3"
  },
  "language_info": {
   "codemirror_mode": {
    "name": "ipython",
    "version": 3
   },
   "file_extension": ".py",
   "mimetype": "text/x-python",
   "name": "python",
   "nbconvert_exporter": "python",
   "pygments_lexer": "ipython3",
   "version": "3.11.6"
  }
 },
 "nbformat": 4,
 "nbformat_minor": 5
}
