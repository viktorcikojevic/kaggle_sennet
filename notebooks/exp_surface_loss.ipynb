{
 "cells": [
  {
   "cell_type": "code",
   "execution_count": 1,
   "id": "288b7254-38f0-4f34-b058-7abafb742cc6",
   "metadata": {},
   "outputs": [],
   "source": [
    "import sys\n",
    "\n",
    "\n",
    "sys.path.append(\"../src/\")"
   ]
  },
  {
   "cell_type": "code",
   "execution_count": 2,
   "id": "95e7bf04-35dd-416e-af81-14effc130f2d",
   "metadata": {},
   "outputs": [],
   "source": [
    "from sennet.custom_modules.metrics.surface_dice_metric_fast import create_table_neighbour_code_to_surface_area\n",
    "import torch\n",
    "import numpy as np"
   ]
  },
  {
   "cell_type": "code",
   "execution_count": 3,
   "id": "060ed5b6-2829-4ad3-97e7-a97a7f2c5f50",
   "metadata": {},
   "outputs": [
    {
     "data": {
      "text/plain": [
       "torch.Size([255])"
      ]
     },
     "execution_count": 3,
     "metadata": {},
     "output_type": "execute_result"
    }
   ],
   "source": [
    "device = \"cpu\"\n",
    "\n",
    "\n",
    "unfold = torch.nn.Unfold(kernel_size=(2, 2), padding=1)\n",
    "\n",
    "\n",
    "area = create_table_neighbour_code_to_surface_area((1, 1, 1))[1:]\n",
    "area = torch.from_numpy(area).to(device)  # torch.float32\n",
    "area.shape"
   ]
  },
  {
   "cell_type": "code",
   "execution_count": 4,
   "id": "1c24db9e-9312-4f4f-815c-12bf9964580a",
   "metadata": {},
   "outputs": [
    {
     "name": "stdout",
     "output_type": "stream",
     "text": [
      "bases.shape=torch.Size([8, 255])\n",
      "tensor([[0., 0., 0.,  ..., 1., 1., 1.],\n",
      "        [0., 0., 0.,  ..., 1., 1., 1.],\n",
      "        [0., 0., 0.,  ..., 1., 1., 1.],\n",
      "        ...,\n",
      "        [0., 0., 0.,  ..., 1., 1., 1.],\n",
      "        [0., 1., 1.,  ..., 0., 1., 1.],\n",
      "        [1., 0., 1.,  ..., 1., 0., 1.]])\n"
     ]
    }
   ],
   "source": [
    "bases = torch.tensor([\n",
    "    [c==\"1\" for c in f\"{i:08b}\"]\n",
    "    for i in range(1, 256)\n",
    "]).float().permute((1, 0)).to(device)\n",
    "print(f\"{bases.shape=}\")\n",
    "print(bases)"
   ]
  },
  {
   "cell_type": "code",
   "execution_count": 8,
   "id": "6a3a4f4a-9d1d-4a3d-8a46-aa4792c6d1ca",
   "metadata": {},
   "outputs": [],
   "source": [
    "batch_size = 3\n",
    "zs = 2\n",
    "ys = 10\n",
    "xs = 10\n",
    "\n",
    "pred = torch.rand((batch_size, zs, ys, xs)).to(device)\n",
    "labels = (torch.rand((batch_size, zs, ys, xs)) > 0.5).to(device)"
   ]
  },
  {
   "cell_type": "code",
   "execution_count": 9,
   "id": "5ef87360-6ea8-42ce-b5af-761c06725c27",
   "metadata": {},
   "outputs": [
    {
     "name": "stdout",
     "output_type": "stream",
     "text": [
      "unfolded_pred.shape=torch.Size([3, 8, 121])\n",
      "unfolded_labels.shape=torch.Size([3, 8, 121])\n",
      "permuted_unfolded_pred.shape=torch.Size([3, 121, 8, 1])\n",
      "permuted_unfolded_labels.shape=torch.Size([3, 121, 8, 1])\n"
     ]
    }
   ],
   "source": [
    "unfolded_pred = unfold(pred)\n",
    "unfolded_labels = unfold(labels.float())\n",
    "\n",
    "permuted_unfolded_pred = unfolded_pred.permute((0, 2, 1)).unsqueeze(-1)\n",
    "permuted_unfolded_labels = unfolded_labels.permute((0, 2, 1)).unsqueeze(-1)\n",
    "\n",
    "print(f\"{unfolded_pred.shape=}\")\n",
    "print(f\"{unfolded_labels.shape=}\")\n",
    "print(f\"{permuted_unfolded_pred.shape=}\")\n",
    "print(f\"{permuted_unfolded_labels.shape=}\")"
   ]
  },
  {
   "cell_type": "code",
   "execution_count": 7,
   "id": "6c1cf48e-32f7-41a3-85d8-7d1f4ce86a61",
   "metadata": {},
   "outputs": [],
   "source": [
    "a_mat = bases.tile((3, 121, 1, 1))\n",
    "b_mat = permuted_unfolded_pred\n",
    "bases_weights = torch.linalg.lstsq(a_mat, b_mat).solution"
   ]
  },
  {
   "cell_type": "code",
   "execution_count": 8,
   "id": "6e31bdcd-e2de-424e-b670-f82e2009a0a2",
   "metadata": {},
   "outputs": [
    {
     "name": "stdout",
     "output_type": "stream",
     "text": [
      "torch.Size([3, 121, 255, 1])\n",
      "torch.Size([255])\n"
     ]
    }
   ],
   "source": [
    "print(bases_weights.shape)\n",
    "print(area.shape)"
   ]
  },
  {
   "cell_type": "code",
   "execution_count": 9,
   "id": "7a15207a-2e20-4d92-ad9a-5c55de956760",
   "metadata": {},
   "outputs": [
    {
     "name": "stdout",
     "output_type": "stream",
     "text": [
      "torch.Size([3, 121])\n"
     ]
    }
   ],
   "source": [
    "pred_areas = (area[None, None, :, None] * bases_weights).squeeze(-1).sum(2)\n",
    "print(pred_areas.shape)"
   ]
  },
  {
   "cell_type": "code",
   "execution_count": 10,
   "id": "a8de5eae-8772-4a22-9289-21912d293a4e",
   "metadata": {},
   "outputs": [
    {
     "data": {
      "text/plain": [
       "torch.Size([3, 121])"
      ]
     },
     "execution_count": 10,
     "metadata": {},
     "output_type": "execute_result"
    }
   ],
   "source": [
    "label_cubes_byte = torch.zeros((unfolded_labels.shape[0], unfolded_labels.shape[2]), dtype=torch.int32, device=device)\n",
    "for k in range(8):\n",
    "    label_cubes_byte += unfolded_labels[:, k, :].to(torch.int32) << k\n",
    "label_cubes_byte.shape"
   ]
  },
  {
   "cell_type": "code",
   "execution_count": 11,
   "id": "c128d980-f1dc-4fb6-ba19-5d983209a79b",
   "metadata": {},
   "outputs": [
    {
     "data": {
      "text/plain": [
       "torch.Size([3, 121])"
      ]
     },
     "execution_count": 11,
     "metadata": {},
     "output_type": "execute_result"
    }
   ],
   "source": [
    "label_areas = torch.zeros((label_cubes_byte.shape[0], label_cubes_byte.shape[1]), dtype=torch.float32, device=device)\n",
    "for b in range(label_cubes_byte.shape[0]):\n",
    "    label_areas[b, :] = torch.where(label_cubes_byte[b, :] == 0, label_areas[b, :], area[label_cubes_byte[b, :] - 1])\n",
    "label_areas.shape"
   ]
  },
  {
   "cell_type": "markdown",
   "id": "83ef7d93-6690-4fea-b71a-7bc69e77f262",
   "metadata": {},
   "source": [
    "### this is from dice loss\n",
    "```python\n",
    "def forward(self, input, target):\n",
    "    # Apply sigmoid to input (predictions)\n",
    "    input_sigmoid = torch.sigmoid(input).reshape(-1)\n",
    "    target_flat = target.reshape(-1)\n",
    "    \n",
    "    intersection = (input_sigmoid * target_flat).sum()\n",
    "\n",
    "    return 1 - (\n",
    "        (2.0 * intersection + self.smooth)\n",
    "        / (input_sigmoid.sum() + target_flat.sum() + self.smooth)\n",
    "    )\n",
    "```"
   ]
  },
  {
   "cell_type": "code",
   "execution_count": 16,
   "id": "e92d2796-54fb-46d9-808b-cbd672ba71b4",
   "metadata": {},
   "outputs": [
    {
     "data": {
      "text/plain": [
       "torch.Size([3, 121])"
      ]
     },
     "execution_count": 16,
     "metadata": {},
     "output_type": "execute_result"
    }
   ],
   "source": [
    "# batch, cube\n",
    "label_cubes_byte.shape"
   ]
  },
  {
   "cell_type": "code",
   "execution_count": 13,
   "id": "ba33ade6-f886-44a6-9b23-8f3eac8f9a39",
   "metadata": {},
   "outputs": [
    {
     "data": {
      "text/plain": [
       "torch.Size([3, 121, 255, 1])"
      ]
     },
     "execution_count": 13,
     "metadata": {},
     "output_type": "execute_result"
    }
   ],
   "source": [
    "# batch, point, weights, 1\n",
    "bases_weights.shape"
   ]
  },
  {
   "cell_type": "code",
   "execution_count": 17,
   "id": "5f188e34-b96b-4dc7-ab3c-854a7a17b52a",
   "metadata": {},
   "outputs": [
    {
     "data": {
      "text/plain": [
       "torch.Size([3, 121])"
      ]
     },
     "execution_count": 17,
     "metadata": {},
     "output_type": "execute_result"
    }
   ],
   "source": [
    "# batch, point\n",
    "label_areas.shape"
   ]
  },
  {
   "cell_type": "code",
   "execution_count": 50,
   "id": "f26ac341-b267-4257-917b-472528debfca",
   "metadata": {},
   "outputs": [],
   "source": [
    "# intersection = use the base weights (255 items), \n",
    "#   then go and get the weighted sum of the label areas at each pixel\n",
    "#   - so you need to know which cube hits the label\n",
    "#   - then take the area of that guy\n",
    "\n",
    "intersection = torch.zeros((bases_weights.shape[0], bases_weights.shape[1]), device=device, dtype=torch.float32)\n",
    "for i in range(bases_weights.shape[0]):\n",
    "    w = bases_weights[i, ...].squeeze(-1)  # (points, 255)\n",
    "    cb = label_cubes_byte[i, ...]   # (points, )\n",
    "    weight_at_label_cube = torch.where(\n",
    "        cb==0, \n",
    "        torch.zeros((w.shape[0], ), dtype=torch.float32, device=device), \n",
    "        w[torch.arange(w.shape[0], device=device), cb-1]\n",
    "    )\n",
    "    # print(cb.shape, w.shape, weight_at_label_cube.shape)\n",
    "    intersection[i, ...] = weight_at_label_cube * label_areas[i, ...]"
   ]
  },
  {
   "cell_type": "code",
   "execution_count": 52,
   "id": "207fed92-db27-49d7-93b9-35b0275a2a47",
   "metadata": {},
   "outputs": [
    {
     "data": {
      "text/plain": [
       "torch.Size([3, 121])"
      ]
     },
     "execution_count": 52,
     "metadata": {},
     "output_type": "execute_result"
    }
   ],
   "source": [
    "intersection.shape"
   ]
  },
  {
   "cell_type": "code",
   "execution_count": 54,
   "id": "e0d61dc7-6cb9-499c-a593-610d755a728b",
   "metadata": {},
   "outputs": [
    {
     "name": "stdout",
     "output_type": "stream",
     "text": [
      "torch.Size([3, 121])\n"
     ]
    }
   ],
   "source": [
    "smooth = 1e-3\n",
    "numerator = 2 * intersection\n",
    "denominator = label_areas.sum() + pred_areas.sum()\n",
    "dice = 1 - ((numerator + smooth) / (denominator + smooth))\n",
    "print(dice.shape)"
   ]
  },
  {
   "cell_type": "code",
   "execution_count": 58,
   "id": "00c2dbdd-c44e-4a81-9251-455a9429206d",
   "metadata": {},
   "outputs": [
    {
     "data": {
      "text/plain": [
       "tensor([[0.4656, 0.4793, 0.0988, 0.6923, 0.9604, 0.4678, 0.6983, 0.9603, 0.9553,\n",
       "         1.0143, 0.4355, 0.2285, 0.2338, 0.0616, 0.2554, 0.6058, 0.9157, 0.6282,\n",
       "         0.3563, 0.5942, 0.8888, 0.5317, 0.3706, 0.8902, 0.6964, 0.1989, 0.5611,\n",
       "         1.1239, 0.8275, 0.5722, 0.8289, 1.0813, 0.5819, 0.3365, 0.7988, 0.8631,\n",
       "         0.9425, 0.7175, 0.3492, 0.3452, 0.6108, 0.6704, 0.7991, 0.5676, 0.4991,\n",
       "         0.6122, 0.5233, 0.7960, 0.5337, 0.2093, 0.5249, 0.9658, 0.5793, 0.1362,\n",
       "         0.0590, 0.5400, 0.7695, 0.7022, 0.4762, 0.4695, 0.9368, 1.0532, 1.1782,\n",
       "         0.9123, 0.5671, 0.2505, 0.2096, 0.2541, 0.6507, 0.9839, 0.4153, 0.1836,\n",
       "         0.5679, 0.6049, 0.5265, 0.5960, 0.2523, 0.4991, 0.7472, 0.7531, 0.9212,\n",
       "         0.8747, 1.0340, 1.1916, 0.6446, 0.4539, 1.0000, 0.5745, 0.3911, 0.5702,\n",
       "         0.4769, 0.3069, 0.1472, 0.7005, 0.8500, 0.8355, 1.1126, 1.1300, 0.5653,\n",
       "         0.0688, 0.4531, 0.6126, 0.4813, 0.3813, 0.6598, 1.1301, 0.9666, 0.6259,\n",
       "         0.6153, 0.3575, 0.0000, 0.0000, 0.0000, 0.0000, 0.0000, 0.0000, 0.0000,\n",
       "         0.0000, 0.0000, 0.0000, 0.0000],\n",
       "        [0.5013, 0.5657, 0.6533, 0.9399, 0.4256, 0.1999, 0.5965, 0.8585, 0.5369,\n",
       "         0.5301, 0.3804, 0.3805, 0.7113, 0.8261, 0.9085, 0.7589, 0.7976, 0.8585,\n",
       "         1.0246, 0.6919, 0.1576, 0.0836, 0.3568, 0.8183, 1.0608, 1.1013, 0.9940,\n",
       "         0.9046, 0.9542, 0.7033, 0.6355, 1.0123, 0.5385, 0.1736, 0.5566, 0.6195,\n",
       "         0.2671, 0.6548, 0.8010, 0.3347, 0.7791, 0.9151, 0.5025, 0.2084, 0.1716,\n",
       "         0.7143, 1.0268, 1.0770, 0.6414, 0.1191, 0.1816, 0.1525, 0.0843, 0.4238,\n",
       "         0.3812, 0.0116, 0.2671, 0.4699, 0.5430, 0.6557, 0.6611, 0.7844, 0.4819,\n",
       "         0.5359, 1.0811, 0.5768, 0.0027, 0.2881, 0.5226, 0.6066, 0.3957, 0.5530,\n",
       "         0.5439, 0.1889, 0.6527, 0.7558, 0.2747, 0.3598, 0.7391, 0.8094, 0.6243,\n",
       "         0.2860, 0.4484, 0.9150, 0.9677, 0.8645, 0.7445, 0.2892, 0.0554, 0.6630,\n",
       "         1.0616, 1.0779, 1.0190, 0.7629, 0.5268, 0.7425, 0.7858, 0.6818, 0.4796,\n",
       "         0.3893, 0.5477, 0.4803, 0.7466, 0.8260, 0.4731, 0.3875, 0.6241, 0.3865,\n",
       "         0.6064, 0.5284, 0.0000, 0.0000, 0.0000, 0.0000, 0.0000, 0.0000, 0.0000,\n",
       "         0.0000, 0.0000, 0.0000, 0.0000],\n",
       "        [0.0274, 0.0891, 0.4837, 0.5543, 0.7218, 0.7834, 0.6260, 0.9863, 1.1277,\n",
       "         1.1601, 0.5866, 0.0571, 0.4312, 0.4759, 0.3865, 0.4428, 0.3433, 0.7134,\n",
       "         0.9446, 0.5190, 0.4166, 0.3141, 0.0739, 0.3616, 0.4390, 0.4660, 0.7925,\n",
       "         0.5209, 0.2750, 0.3530, 0.3099, 0.5085, 0.3198, 0.3876, 0.7248, 0.9593,\n",
       "         0.6461, 0.1763, 0.6271, 0.7405, 0.2747, 0.1511, 0.4230, 0.2810, 0.5251,\n",
       "         1.1082, 0.6981, 0.2105, 0.3265, 0.5188, 0.4470, 0.1987, 0.0906, 0.4582,\n",
       "         0.4071, 0.3529, 0.7679, 0.5099, 0.6050, 0.8969, 0.9921, 0.9299, 0.7462,\n",
       "         0.4258, 0.5701, 0.5659, 0.6049, 0.7269, 0.3347, 0.5049, 0.6203, 0.8851,\n",
       "         0.8981, 0.3588, 0.4048, 0.8319, 0.4448, 0.2128, 0.2575, 0.4586, 0.4431,\n",
       "         0.0511, 0.1185, 0.3053, 0.4415, 0.8174, 1.1132, 0.5287, 0.1439, 0.2073,\n",
       "         0.3343, 0.4668, 0.6170, 0.5125, 0.2552, 0.3930, 0.7166, 0.7757, 0.2884,\n",
       "         0.1350, 0.7595, 0.7755, 0.7775, 0.9176, 0.7153, 0.5121, 0.3883, 0.5219,\n",
       "         0.3104, 0.0889, 0.0000, 0.0000, 0.0000, 0.0000, 0.0000, 0.0000, 0.0000,\n",
       "         0.0000, 0.0000, 0.0000, 0.0000]])"
      ]
     },
     "execution_count": 58,
     "metadata": {},
     "output_type": "execute_result"
    }
   ],
   "source": [
    "pred_areas"
   ]
  },
  {
   "cell_type": "code",
   "execution_count": null,
   "id": "98494268-9f9f-4079-aeba-cf057b88206f",
   "metadata": {},
   "outputs": [],
   "source": [
    "unfolded_labels.shape"
   ]
  },
  {
   "cell_type": "code",
   "execution_count": null,
   "id": "08e511f9-613c-4be7-8fa1-90eba64121fb",
   "metadata": {},
   "outputs": [],
   "source": [
    "smooth = 1e-3\n",
    "numerator = \n",
    "denominator = pred_areas.sum() + "
   ]
  },
  {
   "cell_type": "code",
   "execution_count": 49,
   "id": "a8ea859d-cbac-417e-a9b3-df385fcbdc0f",
   "metadata": {},
   "outputs": [
    {
     "data": {
      "text/plain": [
       "torch.Size([3, 121])"
      ]
     },
     "execution_count": 49,
     "metadata": {},
     "output_type": "execute_result"
    }
   ],
   "source": [
    "pred_areas.shape"
   ]
  },
  {
   "cell_type": "code",
   "execution_count": null,
   "id": "dc6f511a-a4c9-426a-bed0-134de6e9260e",
   "metadata": {},
   "outputs": [],
   "source": [
    "torch.abs(torch.sum(permuted_unfolded_pred))"
   ]
  },
  {
   "cell_type": "code",
   "execution_count": null,
   "id": "7b4e6f48-8e0b-4df5-a039-53413054cc88",
   "metadata": {},
   "outputs": [],
   "source": [
    "torch.abs(torch.sum(a_mat))"
   ]
  },
  {
   "cell_type": "code",
   "execution_count": null,
   "id": "b085ce10-ac17-4c21-9f77-dfd2251559b3",
   "metadata": {},
   "outputs": [],
   "source": [
    "a = bases\n",
    "# b = permuted_unfolded_pred[0, 0]\n",
    "b = a[:, 0]\n",
    "print(f\"{a.shape = }\")\n",
    "print(f\"{b.shape = }\")\n",
    "print(a)\n",
    "print(b)\n",
    "sol = torch.linalg.lstsq(bases, b)\n",
    "print(sol.rank)\n",
    "print(sol.solution.reshape(-1))"
   ]
  },
  {
   "cell_type": "code",
   "execution_count": null,
   "id": "56e9095a-8f1b-4adb-a21e-85d13a0fd8a6",
   "metadata": {},
   "outputs": [],
   "source": [
    "torch.linalg.matrix_rank(a)"
   ]
  },
  {
   "cell_type": "code",
   "execution_count": null,
   "id": "56216d1d-f7d6-4ea2-9336-1b04ae687f24",
   "metadata": {},
   "outputs": [],
   "source": [
    "a_np = a.cpu().numpy()\n",
    "b_np = b.cpu().numpy()\n",
    "\n",
    "weights, residuals, rank, singular_vals = np.linalg.lstsq(a_np, b_np, rcond=None)\n",
    "\n",
    "print(a_np.shape)\n",
    "print(b_np.shape)\n",
    "print(b_np)\n",
    "print(np.sum(np.abs(weights)))\n",
    "print(residuals)\n",
    "print(rank)\n",
    "print(singular_vals)"
   ]
  },
  {
   "cell_type": "code",
   "execution_count": null,
   "id": "6943b3f8-a26a-48ed-8ea0-dc9b7650e941",
   "metadata": {},
   "outputs": [],
   "source": [
    "for i in range(256):\n",
    "    print(a_np[:, i])"
   ]
  }
 ],
 "metadata": {
  "kernelspec": {
   "display_name": "Python 3 (ipykernel)",
   "language": "python",
   "name": "python3"
  },
  "language_info": {
   "codemirror_mode": {
    "name": "ipython",
    "version": 3
   },
   "file_extension": ".py",
   "mimetype": "text/x-python",
   "name": "python",
   "nbconvert_exporter": "python",
   "pygments_lexer": "ipython3",
   "version": "3.11.7"
  }
 },
 "nbformat": 4,
 "nbformat_minor": 5
}
