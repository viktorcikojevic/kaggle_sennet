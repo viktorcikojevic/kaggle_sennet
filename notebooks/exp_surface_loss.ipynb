{
 "cells": [
  {
   "cell_type": "code",
   "execution_count": 1,
   "id": "288b7254-38f0-4f34-b058-7abafb742cc6",
   "metadata": {},
   "outputs": [],
   "source": [
    "import sys\n",
    "\n",
    "\n",
    "sys.path.append(\"../src/\")"
   ]
  },
  {
   "cell_type": "code",
   "execution_count": 2,
   "id": "95e7bf04-35dd-416e-af81-14effc130f2d",
   "metadata": {},
   "outputs": [],
   "source": [
    "from sennet.custom_modules.metrics.surface_dice_metric_fast import create_table_neighbour_code_to_surface_area\n",
    "import torch\n",
    "import numpy as np"
   ]
  },
  {
   "cell_type": "code",
   "execution_count": 3,
   "id": "060ed5b6-2829-4ad3-97e7-a97a7f2c5f50",
   "metadata": {},
   "outputs": [
    {
     "data": {
      "text/plain": [
       "torch.Size([255])"
      ]
     },
     "execution_count": 3,
     "metadata": {},
     "output_type": "execute_result"
    }
   ],
   "source": [
    "device = \"cpu\"\n",
    "\n",
    "\n",
    "unfold = torch.nn.Unfold(kernel_size=(2, 2), padding=1)\n",
    "\n",
    "\n",
    "area = create_table_neighbour_code_to_surface_area((1, 1, 1))[1:]\n",
    "area = torch.from_numpy(area).to(device)  # torch.float32\n",
    "area.shape"
   ]
  },
  {
   "cell_type": "code",
   "execution_count": 4,
   "id": "1c24db9e-9312-4f4f-815c-12bf9964580a",
   "metadata": {},
   "outputs": [
    {
     "name": "stdout",
     "output_type": "stream",
     "text": [
      "bases.shape=torch.Size([8, 255])\n",
      "tensor([[0., 0., 0.,  ..., 1., 1., 1.],\n",
      "        [0., 0., 0.,  ..., 1., 1., 1.],\n",
      "        [0., 0., 0.,  ..., 1., 1., 1.],\n",
      "        ...,\n",
      "        [0., 0., 0.,  ..., 1., 1., 1.],\n",
      "        [0., 1., 1.,  ..., 0., 1., 1.],\n",
      "        [1., 0., 1.,  ..., 1., 0., 1.]])\n"
     ]
    }
   ],
   "source": [
    "bases = torch.tensor([\n",
    "    [c==\"1\" for c in f\"{i:08b}\"]\n",
    "    for i in range(1, 256)\n",
    "]).float().permute((1, 0)).to(device)\n",
    "print(f\"{bases.shape=}\")\n",
    "print(bases)"
   ]
  },
  {
   "cell_type": "code",
   "execution_count": 5,
   "id": "6a3a4f4a-9d1d-4a3d-8a46-aa4792c6d1ca",
   "metadata": {},
   "outputs": [],
   "source": [
    "batch_size = 3\n",
    "zs = 2\n",
    "ys = 10\n",
    "xs = 10\n",
    "\n",
    "pred = torch.rand((batch_size, zs, ys, xs)).to(device)\n",
    "labels = (torch.rand((batch_size, zs, ys, xs)) > 0.5).to(device)"
   ]
  },
  {
   "cell_type": "code",
   "execution_count": 6,
   "id": "5ef87360-6ea8-42ce-b5af-761c06725c27",
   "metadata": {},
   "outputs": [
    {
     "name": "stdout",
     "output_type": "stream",
     "text": [
      "unfolded_pred.shape=torch.Size([3, 8, 121])\n",
      "unfolded_labels.shape=torch.Size([3, 8, 121])\n",
      "permuted_unfolded_pred.shape=torch.Size([3, 121, 8, 1])\n",
      "permuted_unfolded_labels.shape=torch.Size([3, 121, 8, 1])\n"
     ]
    }
   ],
   "source": [
    "unfolded_pred = unfold(pred)\n",
    "unfolded_labels = unfold(labels.float())\n",
    "\n",
    "permuted_unfolded_pred = unfolded_pred.permute((0, 2, 1)).unsqueeze(-1)\n",
    "permuted_unfolded_labels = unfolded_labels.permute((0, 2, 1)).unsqueeze(-1)\n",
    "\n",
    "print(f\"{unfolded_pred.shape=}\")\n",
    "print(f\"{unfolded_labels.shape=}\")\n",
    "print(f\"{permuted_unfolded_pred.shape=}\")\n",
    "print(f\"{permuted_unfolded_labels.shape=}\")"
   ]
  },
  {
   "cell_type": "code",
   "execution_count": 7,
   "id": "6c1cf48e-32f7-41a3-85d8-7d1f4ce86a61",
   "metadata": {},
   "outputs": [],
   "source": [
    "a_mat = bases.tile((3, 121, 1, 1))\n",
    "b_mat = permuted_unfolded_pred\n",
    "bases_weights = torch.linalg.lstsq(a_mat, b_mat).solution"
   ]
  },
  {
   "cell_type": "code",
   "execution_count": 8,
   "id": "6e31bdcd-e2de-424e-b670-f82e2009a0a2",
   "metadata": {},
   "outputs": [
    {
     "name": "stdout",
     "output_type": "stream",
     "text": [
      "torch.Size([3, 121, 255, 1])\n",
      "torch.Size([255])\n"
     ]
    }
   ],
   "source": [
    "print(bases_weights.shape)\n",
    "print(area.shape)"
   ]
  },
  {
   "cell_type": "code",
   "execution_count": 22,
   "id": "7a15207a-2e20-4d92-ad9a-5c55de956760",
   "metadata": {},
   "outputs": [
    {
     "name": "stdout",
     "output_type": "stream",
     "text": [
      "torch.Size([3, 121])\n"
     ]
    }
   ],
   "source": [
    "pred_areas = (area[None, None, :, None] * bases_weights).squeeze(-1).sum(2)\n",
    "print(pred_areas.shape)"
   ]
  },
  {
   "cell_type": "code",
   "execution_count": 10,
   "id": "a8de5eae-8772-4a22-9289-21912d293a4e",
   "metadata": {},
   "outputs": [
    {
     "data": {
      "text/plain": [
       "torch.Size([3, 121])"
      ]
     },
     "execution_count": 10,
     "metadata": {},
     "output_type": "execute_result"
    }
   ],
   "source": [
    "label_cubes_byte = torch.zeros((unfolded_labels.shape[0], unfolded_labels.shape[2]), dtype=torch.int32, device=device)\n",
    "for k in range(8):\n",
    "    label_cubes_byte += unfolded_labels[:, k, :].to(torch.int32) << k\n",
    "label_cubes_byte.shape"
   ]
  },
  {
   "cell_type": "code",
   "execution_count": 21,
   "id": "c128d980-f1dc-4fb6-ba19-5d983209a79b",
   "metadata": {},
   "outputs": [
    {
     "data": {
      "text/plain": [
       "torch.Size([3, 121])"
      ]
     },
     "execution_count": 21,
     "metadata": {},
     "output_type": "execute_result"
    }
   ],
   "source": [
    "label_areas = torch.zeros((label_cubes_byte.shape[0], label_cubes_byte.shape[1]), dtype=torch.float32, device=device)\n",
    "for b in range(label_cubes_byte.shape[0]):\n",
    "    label_areas[b, :] = torch.where(label_cubes_byte[b, :] == 0, label_areas[b, :], area[label_cubes_byte[b, :] - 1])\n",
    "label_areas.shape"
   ]
  },
  {
   "cell_type": "code",
   "execution_count": 15,
   "id": "e0d61dc7-6cb9-499c-a593-610d755a728b",
   "metadata": {},
   "outputs": [
    {
     "ename": "TypeError",
     "evalue": "scatter() received an invalid combination of arguments - got (Tensor, int, Tensor), but expected one of:\n * (Tensor input, int dim, Tensor index, Tensor src, *, Tensor out)\n * (Tensor input, int dim, Tensor index, Tensor src, *, str reduce, Tensor out)\n * (Tensor input, name dim, Tensor index, Tensor src)\n * (Tensor input, int dim, Tensor index, Number value, *, Tensor out)\n * (Tensor input, int dim, Tensor index, Number value, *, str reduce, Tensor out)\n * (Tensor input, name dim, Tensor index, Number value)\n",
     "output_type": "error",
     "traceback": [
      "\u001b[0;31m---------------------------------------------------------------------------\u001b[0m",
      "\u001b[0;31mTypeError\u001b[0m                                 Traceback (most recent call last)",
      "Cell \u001b[0;32mIn[15], line 1\u001b[0m\n\u001b[0;32m----> 1\u001b[0m \u001b[43mtorch\u001b[49m\u001b[38;5;241;43m.\u001b[39;49m\u001b[43mscatter\u001b[49m\u001b[43m(\u001b[49m\u001b[43marea\u001b[49m\u001b[43m,\u001b[49m\u001b[43m \u001b[49m\u001b[38;5;241;43m0\u001b[39;49m\u001b[43m,\u001b[49m\u001b[43m \u001b[49m\u001b[43mlabel_cubes_byte\u001b[49m\u001b[43m)\u001b[49m\n",
      "\u001b[0;31mTypeError\u001b[0m: scatter() received an invalid combination of arguments - got (Tensor, int, Tensor), but expected one of:\n * (Tensor input, int dim, Tensor index, Tensor src, *, Tensor out)\n * (Tensor input, int dim, Tensor index, Tensor src, *, str reduce, Tensor out)\n * (Tensor input, name dim, Tensor index, Tensor src)\n * (Tensor input, int dim, Tensor index, Number value, *, Tensor out)\n * (Tensor input, int dim, Tensor index, Number value, *, str reduce, Tensor out)\n * (Tensor input, name dim, Tensor index, Number value)\n"
     ]
    }
   ],
   "source": [
    "smooth = 1e-3\n",
    "intersection = ...\n",
    "numerator = 2 * intersection\n",
    "denominator = label_areas.sum() + pred_areas.sum()\n",
    "dice = 1 - ((numerator + smooth) / (denominator + smooth))"
   ]
  },
  {
   "cell_type": "code",
   "execution_count": null,
   "id": "98494268-9f9f-4079-aeba-cf057b88206f",
   "metadata": {},
   "outputs": [],
   "source": [
    "unfolded_labels.shape"
   ]
  },
  {
   "cell_type": "code",
   "execution_count": null,
   "id": "08e511f9-613c-4be7-8fa1-90eba64121fb",
   "metadata": {},
   "outputs": [],
   "source": [
    "smooth = 1e-3\n",
    "numerator = \n",
    "denominator = pred_areas.sum() + "
   ]
  },
  {
   "cell_type": "code",
   "execution_count": null,
   "id": "a8ea859d-cbac-417e-a9b3-df385fcbdc0f",
   "metadata": {},
   "outputs": [],
   "source": [
    "pred_areas.shape"
   ]
  },
  {
   "cell_type": "code",
   "execution_count": null,
   "id": "dc6f511a-a4c9-426a-bed0-134de6e9260e",
   "metadata": {},
   "outputs": [],
   "source": [
    "torch.abs(torch.sum(permuted_unfolded_pred))"
   ]
  },
  {
   "cell_type": "code",
   "execution_count": null,
   "id": "7b4e6f48-8e0b-4df5-a039-53413054cc88",
   "metadata": {},
   "outputs": [],
   "source": [
    "torch.abs(torch.sum(a_mat))"
   ]
  },
  {
   "cell_type": "code",
   "execution_count": null,
   "id": "b085ce10-ac17-4c21-9f77-dfd2251559b3",
   "metadata": {},
   "outputs": [],
   "source": [
    "a = bases\n",
    "# b = permuted_unfolded_pred[0, 0]\n",
    "b = a[:, 0]\n",
    "print(f\"{a.shape = }\")\n",
    "print(f\"{b.shape = }\")\n",
    "print(a)\n",
    "print(b)\n",
    "sol = torch.linalg.lstsq(bases, b)\n",
    "print(sol.rank)\n",
    "print(sol.solution.reshape(-1))"
   ]
  },
  {
   "cell_type": "code",
   "execution_count": null,
   "id": "56e9095a-8f1b-4adb-a21e-85d13a0fd8a6",
   "metadata": {},
   "outputs": [],
   "source": [
    "torch.linalg.matrix_rank(a)"
   ]
  },
  {
   "cell_type": "code",
   "execution_count": null,
   "id": "56216d1d-f7d6-4ea2-9336-1b04ae687f24",
   "metadata": {},
   "outputs": [],
   "source": [
    "a_np = a.cpu().numpy()\n",
    "b_np = b.cpu().numpy()\n",
    "\n",
    "weights, residuals, rank, singular_vals = np.linalg.lstsq(a_np, b_np, rcond=None)\n",
    "\n",
    "print(a_np.shape)\n",
    "print(b_np.shape)\n",
    "print(b_np)\n",
    "print(np.sum(np.abs(weights)))\n",
    "print(residuals)\n",
    "print(rank)\n",
    "print(singular_vals)"
   ]
  },
  {
   "cell_type": "code",
   "execution_count": null,
   "id": "6943b3f8-a26a-48ed-8ea0-dc9b7650e941",
   "metadata": {},
   "outputs": [],
   "source": [
    "for i in range(256):\n",
    "    print(a_np[:, i])"
   ]
  }
 ],
 "metadata": {
  "kernelspec": {
   "display_name": "Python 3 (ipykernel)",
   "language": "python",
   "name": "python3"
  },
  "language_info": {
   "codemirror_mode": {
    "name": "ipython",
    "version": 3
   },
   "file_extension": ".py",
   "mimetype": "text/x-python",
   "name": "python",
   "nbconvert_exporter": "python",
   "pygments_lexer": "ipython3",
   "version": "3.11.6"
  }
 },
 "nbformat": 4,
 "nbformat_minor": 5
}
