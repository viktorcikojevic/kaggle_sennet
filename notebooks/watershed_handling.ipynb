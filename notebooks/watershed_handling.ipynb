{
 "cells": [
  {
   "cell_type": "code",
   "execution_count": 9,
   "id": "15751e97-147b-4a5a-a5b0-669cba327dcf",
   "metadata": {},
   "outputs": [],
   "source": [
    "import sys\n",
    "\n",
    "\n",
    "sys.path.append(\"../src/\")"
   ]
  },
  {
   "cell_type": "code",
   "execution_count": 10,
   "id": "c75c08bc-44af-4094-8221-2b0ec74177e5",
   "metadata": {},
   "outputs": [],
   "source": [
    "from sennet.core.mmap_arrays import read_mmap_array, create_mmap_array\n",
    "import matplotlib.pyplot as plt\n",
    "import numpy as np\n",
    "from pathlib import Path\n",
    "import cc3d"
   ]
  },
  {
   "cell_type": "code",
   "execution_count": 21,
   "id": "c20d2e54-afca-4330-ab78-85aa6802058e",
   "metadata": {},
   "outputs": [],
   "source": [
    "# path = Path(\"/home/clay/research/kaggle/sennet/data_dumps/predicted/for_rg/kidney_3_sparse/chunk_00\")\n",
    "path = Path(\"/home/clay/research/kaggle/sennet/data_dumps/predicted/for_rg/kidney_2/chunk_00\")"
   ]
  },
  {
   "cell_type": "code",
   "execution_count": 22,
   "id": "06f24680-b3e5-420b-ade6-5d5affba319c",
   "metadata": {},
   "outputs": [],
   "source": [
    "seed_path = path / \"seed\"\n",
    "out_path = path / \"out\""
   ]
  },
  {
   "cell_type": "code",
   "execution_count": 23,
   "id": "0294026a-8f9d-4249-bdbe-43100f4a9b3c",
   "metadata": {},
   "outputs": [],
   "source": [
    "mean_pred = read_mmap_array(path / \"mean_prob\")\n"
   ]
  },
  {
   "cell_type": "code",
   "execution_count": 24,
   "id": "7f39bdc6-cb5e-441f-9515-1a5be7dfafa9",
   "metadata": {},
   "outputs": [],
   "source": [
    "out_mmap = create_mmap_array(out_path, shape=mean_pred.data.shape, dtype=bool)\n",
    "out_mmap.data[:] = False\n",
    "out_mmap.data.flush()"
   ]
  },
  {
   "cell_type": "code",
   "execution_count": null,
   "id": "f0c7190e-e23d-413b-a27f-57daf5983aaa",
   "metadata": {},
   "outputs": [],
   "source": []
  },
  {
   "cell_type": "markdown",
   "id": "362057c0-30a7-4628-9fe4-b9fbb6d3b21c",
   "metadata": {},
   "source": [
    "# Picking Largest cc"
   ]
  },
  {
   "cell_type": "code",
   "execution_count": null,
   "id": "bd26ac29-3a97-4fde-a9ad-6c5b060353d3",
   "metadata": {},
   "outputs": [],
   "source": [
    "threshold = 0.03\n",
    "thresholded_pred = np.ascontiguousarray(mean_pred.data > threshold)"
   ]
  },
  {
   "cell_type": "code",
   "execution_count": null,
   "id": "8a376f72-997f-48be-bb3d-1339120bb9b5",
   "metadata": {},
   "outputs": [],
   "source": [
    "largest_cluster, label_n = cc3d.largest_k(\n",
    "    thresholded_pred,\n",
    "    k=1,\n",
    "    connectivity=26,\n",
    "    # delta=0,\n",
    "    return_N=True,\n",
    ")"
   ]
  },
  {
   "cell_type": "code",
   "execution_count": null,
   "id": "d9420246-aac2-4ea1-9d78-0a8baa416c1c",
   "metadata": {},
   "outputs": [],
   "source": [
    "count = largest_cluster.sum()\n",
    "label_count = thresholded_pred.sum()\n",
    "print(f\"{count}/{label_count}, {count/label_count}\")"
   ]
  },
  {
   "cell_type": "code",
   "execution_count": null,
   "id": "0bdb5209-149a-42bf-ba44-d6e40fd17427",
   "metadata": {},
   "outputs": [],
   "source": [
    "seed_mmap = create_mmap_array(seed_path, shape=mean_pred.data.shape, dtype=bool)\n",
    "seed_mmap.data[:] = largest_cluster\n",
    "seed_mmap.data.flush()"
   ]
  },
  {
   "cell_type": "code",
   "execution_count": null,
   "id": "59f6eacf-b65b-4b6d-bc45-7ce59a083876",
   "metadata": {},
   "outputs": [],
   "source": [
    "largest_cluster.shape"
   ]
  },
  {
   "cell_type": "markdown",
   "id": "fd7a9141-ead8-4b54-aff0-aa868802d011",
   "metadata": {},
   "source": [
    "# Dust Heavily Thresholded"
   ]
  },
  {
   "cell_type": "code",
   "execution_count": 25,
   "id": "f3f747f8-8433-40ec-b0e6-85dbd87b1a00",
   "metadata": {},
   "outputs": [],
   "source": [
    "threshold = 0.5\n",
    "thresholded_pred = np.ascontiguousarray(mean_pred.data > threshold)"
   ]
  },
  {
   "cell_type": "code",
   "execution_count": 26,
   "id": "c42dfa12-1bcb-408b-825c-c52add50a754",
   "metadata": {},
   "outputs": [],
   "source": [
    "dusted_pred = cc3d.dust(\n",
    "    thresholded_pred,\n",
    "    threshold=100,\n",
    "    connectivity=26,\n",
    ")"
   ]
  },
  {
   "cell_type": "code",
   "execution_count": 27,
   "id": "5a39aa9d-ab16-49a9-be50-93ebb4c29f88",
   "metadata": {},
   "outputs": [],
   "source": [
    "seed_mmap = create_mmap_array(seed_path, shape=mean_pred.data.shape, dtype=bool)\n",
    "seed_mmap.data[:] = dusted_pred\n",
    "seed_mmap.data.flush()"
   ]
  },
  {
   "cell_type": "markdown",
   "id": "cccaf988-244a-4a9b-829d-485b68fdb24d",
   "metadata": {},
   "source": [
    "# Post Processing Watershed"
   ]
  },
  {
   "cell_type": "code",
   "execution_count": 18,
   "id": "2ceef622-fea9-435c-b764-ee4bc87fb534",
   "metadata": {},
   "outputs": [],
   "source": [
    "out_mmap = read_mmap_array(\"/home/clay/research/kaggle/sennet/data_dumps/predicted/for_rg/kidney_3_sparse/chunk_00/out\", mode=\"readwrite\")\n",
    "out = np.ascontiguousarray(out_mmap.data > 0.01)"
   ]
  },
  {
   "cell_type": "code",
   "execution_count": 19,
   "id": "3b4c073c-c217-422f-bc4d-09ffe5ab4ce4",
   "metadata": {},
   "outputs": [],
   "source": [
    "out_cc, n_out_cc = cc3d.connected_components(\n",
    "    out, \n",
    "    return_N=True,\n",
    "    connectivity=26,\n",
    ")"
   ]
  },
  {
   "cell_type": "code",
   "execution_count": 20,
   "id": "bfdc4b84-d506-4c4a-935e-c08f21233bee",
   "metadata": {},
   "outputs": [
    {
     "name": "stdout",
     "output_type": "stream",
     "text": [
      "[8757805  185104  170727   14356    3530    5310]\n",
      "['95.852', '2.026', '1.869', '0.157', '0.039', '0.058']\n"
     ]
    }
   ],
   "source": [
    "sizes = np.array([x.sum() for (_, x) in cc3d.each(\n",
    "    out_cc, \n",
    "    binary=False,\n",
    "    in_place=True,\n",
    ")])\n",
    "print(sizes)\n",
    "print([f\"{s*100:.3f}\" for s in (sizes / sizes.sum())])"
   ]
  },
  {
   "cell_type": "code",
   "execution_count": 7,
   "id": "007ead55-ffb1-42d0-a474-377848a93763",
   "metadata": {},
   "outputs": [],
   "source": [
    "out_largest_cluster, _ = cc3d.largest_k(\n",
    "    out,\n",
    "    k=1,\n",
    "    connectivity=26,\n",
    "    return_N=True,\n",
    ")"
   ]
  },
  {
   "cell_type": "code",
   "execution_count": 8,
   "id": "af11325e-8e31-4828-9a49-fae2f4e837ef",
   "metadata": {},
   "outputs": [],
   "source": [
    "out_mmap.data[:] = out_largest_cluster\n",
    "out_mmap.data.flush()"
   ]
  },
  {
   "cell_type": "code",
   "execution_count": null,
   "id": "6d159bfe-74e2-43cb-98e8-79ac5e18cf70",
   "metadata": {},
   "outputs": [],
   "source": []
  }
 ],
 "metadata": {
  "kernelspec": {
   "display_name": "Python 3 (ipykernel)",
   "language": "python",
   "name": "python3"
  },
  "language_info": {
   "codemirror_mode": {
    "name": "ipython",
    "version": 3
   },
   "file_extension": ".py",
   "mimetype": "text/x-python",
   "name": "python",
   "nbconvert_exporter": "python",
   "pygments_lexer": "ipython3",
   "version": "3.11.6"
  }
 },
 "nbformat": 4,
 "nbformat_minor": 5
}
