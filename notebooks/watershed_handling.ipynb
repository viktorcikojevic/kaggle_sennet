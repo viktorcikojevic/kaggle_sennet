{
 "cells": [
  {
   "cell_type": "code",
   "execution_count": 1,
   "id": "15751e97-147b-4a5a-a5b0-669cba327dcf",
   "metadata": {},
   "outputs": [],
   "source": [
    "import sys\n",
    "\n",
    "\n",
    "sys.path.append(\"../src/\")"
   ]
  },
  {
   "cell_type": "code",
   "execution_count": 2,
   "id": "c75c08bc-44af-4094-8221-2b0ec74177e5",
   "metadata": {},
   "outputs": [],
   "source": [
    "from sennet.core.mmap_arrays import read_mmap_array, create_mmap_array\n",
    "import matplotlib.pyplot as plt\n",
    "import numpy as np\n",
    "from pathlib import Path\n",
    "from tqdm import tqdm\n",
    "import cc3d"
   ]
  },
  {
   "cell_type": "code",
   "execution_count": 3,
   "id": "c20d2e54-afca-4330-ab78-85aa6802058e",
   "metadata": {},
   "outputs": [],
   "source": [
    "path = Path(\"/home/clay/research/kaggle/sennet/data_dumps/predicted/ensembled/kidney_3_merged/chunk_00\")\n",
    "# path = Path(\"/home/clay/research/kaggle/sennet/data_dumps/predicted/for_rg/kidney_3_sparse/chunk_00\")\n",
    "# path = Path(\"/home/clay/research/kaggle/sennet/data_dumps/predicted/for_rg/kidney_2/chunk_00\")"
   ]
  },
  {
   "cell_type": "code",
   "execution_count": 4,
   "id": "06f24680-b3e5-420b-ade6-5d5affba319c",
   "metadata": {},
   "outputs": [],
   "source": [
    "seed_path = path / \"seed\"\n",
    "out_path = path / \"out\""
   ]
  },
  {
   "cell_type": "code",
   "execution_count": 5,
   "id": "0294026a-8f9d-4249-bdbe-43100f4a9b3c",
   "metadata": {},
   "outputs": [],
   "source": [
    "mean_pred = read_mmap_array(path / \"mean_prob\")\n"
   ]
  },
  {
   "cell_type": "code",
   "execution_count": null,
   "id": "7f39bdc6-cb5e-441f-9515-1a5be7dfafa9",
   "metadata": {},
   "outputs": [],
   "source": [
    "out_mmap = create_mmap_array(out_path, shape=mean_pred.data.shape, dtype=bool)\n",
    "out_mmap.data[:] = False\n",
    "out_mmap.data.flush()"
   ]
  },
  {
   "cell_type": "code",
   "execution_count": null,
   "id": "f0c7190e-e23d-413b-a27f-57daf5983aaa",
   "metadata": {},
   "outputs": [],
   "source": []
  },
  {
   "cell_type": "markdown",
   "id": "362057c0-30a7-4628-9fe4-b9fbb6d3b21c",
   "metadata": {},
   "source": [
    "# Picking Largest cc"
   ]
  },
  {
   "cell_type": "code",
   "execution_count": null,
   "id": "bd26ac29-3a97-4fde-a9ad-6c5b060353d3",
   "metadata": {},
   "outputs": [],
   "source": [
    "threshold = 0.003\n",
    "thresholded_pred = np.ascontiguousarray(mean_pred.data > threshold)"
   ]
  },
  {
   "cell_type": "code",
   "execution_count": null,
   "id": "8a376f72-997f-48be-bb3d-1339120bb9b5",
   "metadata": {},
   "outputs": [],
   "source": [
    "largest_cluster, label_n = cc3d.largest_k(\n",
    "    thresholded_pred,\n",
    "    k=1,\n",
    "    connectivity=26,\n",
    "    # delta=0,\n",
    "    return_N=True,\n",
    ")"
   ]
  },
  {
   "cell_type": "code",
   "execution_count": null,
   "id": "d9420246-aac2-4ea1-9d78-0a8baa416c1c",
   "metadata": {},
   "outputs": [],
   "source": [
    "count = largest_cluster.sum()\n",
    "label_count = thresholded_pred.sum()\n",
    "print(f\"{count}/{label_count}, {count/label_count}\")"
   ]
  },
  {
   "cell_type": "code",
   "execution_count": null,
   "id": "0bdb5209-149a-42bf-ba44-d6e40fd17427",
   "metadata": {},
   "outputs": [],
   "source": [
    "seed_mmap = create_mmap_array(seed_path, shape=mean_pred.data.shape, dtype=bool)\n",
    "seed_mmap.data[:] = largest_cluster\n",
    "seed_mmap.data.flush()"
   ]
  },
  {
   "cell_type": "code",
   "execution_count": null,
   "id": "59f6eacf-b65b-4b6d-bc45-7ce59a083876",
   "metadata": {},
   "outputs": [],
   "source": [
    "largest_cluster.shape"
   ]
  },
  {
   "cell_type": "markdown",
   "id": "fd7a9141-ead8-4b54-aff0-aa868802d011",
   "metadata": {},
   "source": [
    "# Dust Heavily Thresholded"
   ]
  },
  {
   "cell_type": "code",
   "execution_count": null,
   "id": "f3f747f8-8433-40ec-b0e6-85dbd87b1a00",
   "metadata": {},
   "outputs": [],
   "source": [
    "threshold = 0.5\n",
    "thresholded_pred = np.ascontiguousarray(mean_pred.data > threshold)"
   ]
  },
  {
   "cell_type": "code",
   "execution_count": null,
   "id": "c42dfa12-1bcb-408b-825c-c52add50a754",
   "metadata": {},
   "outputs": [],
   "source": [
    "dusted_pred = cc3d.dust(\n",
    "    thresholded_pred,\n",
    "    threshold=100,\n",
    "    connectivity=26,\n",
    ")"
   ]
  },
  {
   "cell_type": "code",
   "execution_count": null,
   "id": "5a39aa9d-ab16-49a9-be50-93ebb4c29f88",
   "metadata": {},
   "outputs": [],
   "source": [
    "seed_mmap = create_mmap_array(seed_path, shape=mean_pred.data.shape, dtype=bool)\n",
    "seed_mmap.data[:] = dusted_pred\n",
    "seed_mmap.data.flush()"
   ]
  },
  {
   "cell_type": "markdown",
   "id": "02568d30-d645-4dc5-a121-e7310e097a48",
   "metadata": {},
   "source": [
    "# Raw Post Processing Things"
   ]
  },
  {
   "cell_type": "code",
   "execution_count": 6,
   "id": "67a6fe91-ab58-4576-bc15-7d8a0a455adb",
   "metadata": {},
   "outputs": [],
   "source": [
    "threshold = 0.003\n",
    "thresholded_pred = np.ascontiguousarray(mean_pred.data > threshold)"
   ]
  },
  {
   "cell_type": "code",
   "execution_count": 7,
   "id": "da365b3e-e9bd-4973-a8bd-6202dc92b8dc",
   "metadata": {},
   "outputs": [],
   "source": [
    "largest_k_out, label_n = cc3d.largest_k(\n",
    "    thresholded_pred,\n",
    "    k=100,\n",
    "    connectivity=26,\n",
    "    # delta=0,\n",
    "    return_N=True,\n",
    ")"
   ]
  },
  {
   "cell_type": "code",
   "execution_count": 23,
   "id": "dc3a9c17-65b3-46fc-8caf-7883e84869fb",
   "metadata": {},
   "outputs": [],
   "source": [
    "stats = cc3d.statistics(largest_k_out, no_slice_conversion=True)"
   ]
  },
  {
   "cell_type": "code",
   "execution_count": 24,
   "id": "39589198-3498-4e42-abbe-e9909f34536c",
   "metadata": {},
   "outputs": [],
   "source": [
    "# these are sorted ascending via voxel count (so the 100th cluster is the largest)\n",
    "\n",
    "voxel_counts = stats[\"voxel_counts\"][1:]\n",
    "bboxes = stats[\"bounding_boxes\"][1:]\n",
    "centroids = stats[\"centroids\"][1:]"
   ]
  },
  {
   "cell_type": "code",
   "execution_count": 20,
   "id": "c5133317-91c5-4e47-8a37-26bfcfad6f29",
   "metadata": {},
   "outputs": [
    {
     "data": {
      "text/plain": [
       "(slice(0, 1035, None), slice(0, 1706, None), slice(0, 1510, None))"
      ]
     },
     "execution_count": 20,
     "metadata": {},
     "output_type": "execute_result"
    }
   ],
   "source": [
    "voxel_counts"
   ]
  },
  {
   "cell_type": "code",
   "execution_count": 19,
   "id": "0bb398ba-b58a-41a9-a8cf-b5dd53a799d7",
   "metadata": {},
   "outputs": [],
   "source": [
    "def get_3d_bbox(bool_image):\n",
    "    zs, ys, xs = np.nonzero(bool_image)\n",
    "    bbox = np.array([\n",
    "        xs.min(),\n",
    "        ys.min(),\n",
    "        zs.min(),\n",
    "        xs.max(),\n",
    "        ys.max(),\n",
    "        zs.max(),\n",
    "    ])\n",
    "    return bbox\n",
    "\n",
    "\n",
    "def intersect_3d_bbox(bbox0: list[int, int, int, int, int, int], bbox1: list[int, int, int, int, int, int]) -> None | list[int, int, int, int, int, int]:\n",
    "    x0_min, y0_min, z0_min, x0_max, y0_max, z0_max = bbox0\n",
    "    x1_min, y1_min, z1_min, x1_max, y1_max, z1_max = bbox1\n",
    "\n",
    "    inter_x_min = max(x0_min, x1_min)\n",
    "    inter_y_min = max(y0_min, y1_min)\n",
    "    inter_z_min = max(z0_min, z1_min)\n",
    "\n",
    "    inter_x_max = min(x0_max, x1_max)\n",
    "    inter_y_max = min(y0_max, y1_max)\n",
    "    inter_z_max = min(z0_max, z1_max)\n",
    "\n",
    "    if inter_x_min < inter_x_max and inter_y_min < inter_y_max and inter_z_min < inter_z_max:\n",
    "        intersection_bbox = [inter_x_min, inter_y_min, inter_z_min, inter_x_max, inter_y_max, inter_z_max]\n",
    "        return intersection_bbox\n",
    "    else:\n",
    "        return None"
   ]
  },
  {
   "cell_type": "code",
   "execution_count": 27,
   "id": "2332da32-c2d5-4529-bef8-836c1aa205dd",
   "metadata": {},
   "outputs": [
    {
     "name": "stdout",
     "output_type": "stream",
     "text": [
      "[ 499  516  895  909 1076 1085]\n",
      "[1076  895  499 1085  909  516]\n"
     ]
    }
   ],
   "source": [
    "i = 0\n",
    "print(bboxes[i])\n",
    "print(get_3d_bbox(largest_k_out == (i+1)))"
   ]
  },
  {
   "cell_type": "code",
   "execution_count": 30,
   "id": "552b539c-2caf-49bc-8640-947d971549b3",
   "metadata": {},
   "outputs": [
    {
     "data": {
      "text/plain": [
       "[1076, 895, 499, 1085, 909, 516]"
      ]
     },
     "execution_count": 30,
     "metadata": {},
     "output_type": "execute_result"
    }
   ],
   "source": [
    "def cc3d_bbox_to_bbox(bbox):\n",
    "    return [bbox[4], bbox[2], bbox[0], bbox[5], bbox[3], bbox[1]]\n",
    "\n",
    "\n",
    "cc3d_bbox_to_bbox(bboxes[i])"
   ]
  },
  {
   "cell_type": "code",
   "execution_count": 44,
   "id": "3e0f55b7-1173-46b5-a884-8c84219e3dfb",
   "metadata": {},
   "outputs": [
    {
     "name": "stderr",
     "output_type": "stream",
     "text": [
      "100%|████████████████████████████████████████████████████████████████████████████████████████████████████| 99/99 [00:00<00:00, 11187.22it/s]\n"
     ]
    }
   ],
   "source": [
    "from tqdm import tqdm\n",
    "\n",
    "\n",
    "largest_bbox = cc3d_bbox_to_bbox(bboxes[-1])\n",
    "keeps = []\n",
    "for b in tqdm(bboxes[:-1]):\n",
    "    bbox = cc3d_bbox_to_bbox(b)\n",
    "    intersection = intersect_3d_bbox(largest_bbox, bbox)\n",
    "    if intersection is None:\n",
    "        keeps.append(False)\n",
    "    else:\n",
    "        keeps.append(True)\n",
    "keeps.append(True)\n"
   ]
  },
  {
   "cell_type": "code",
   "execution_count": 45,
   "id": "3e1897fc-4579-42da-b873-659532cc870a",
   "metadata": {},
   "outputs": [
    {
     "name": "stderr",
     "output_type": "stream",
     "text": [
      "100%|█████████████████████████████████████████████████████████████████████████████████████████████████████| 100/100 [00:20<00:00,  4.87it/s]\n"
     ]
    }
   ],
   "source": [
    "out_mmap = create_mmap_array(path / \"out\", shape=mean_pred.data.shape, dtype=bool)\n",
    "\n",
    "for label, image in tqdm(cc3d.each(largest_k_out, binary=True, in_place=True)):\n",
    "    # label starts from 1\n",
    "    i = label-1\n",
    "    if not keeps[i]:\n",
    "        continue\n",
    "    out_mmap.data[image] = True\n",
    "\n",
    "out_mmap.data.flush()"
   ]
  },
  {
   "cell_type": "markdown",
   "id": "a413d1cd-87ce-4bd0-9d8e-dab0d1d223cf",
   "metadata": {},
   "source": [
    "## Trying out Region Graph"
   ]
  },
  {
   "cell_type": "code",
   "execution_count": 46,
   "id": "711305ed-20ae-4f5b-8cb4-30d7e14697ee",
   "metadata": {},
   "outputs": [],
   "source": [
    "surface_per_contact = cc3d.contacts(\n",
    "    largest_k_out, \n",
    "    connectivity=26,\n",
    "    surface_area=True, \n",
    "    anisotropy=(64, 64, 64)\n",
    ")"
   ]
  },
  {
   "cell_type": "code",
   "execution_count": 47,
   "id": "dc819876-437e-4148-a0e8-f4518797d266",
   "metadata": {},
   "outputs": [
    {
     "data": {
      "text/plain": [
       "{}"
      ]
     },
     "execution_count": 47,
     "metadata": {},
     "output_type": "execute_result"
    }
   ],
   "source": [
    "surface_per_contact"
   ]
  },
  {
   "cell_type": "code",
   "execution_count": null,
   "id": "a66bbd5e-7253-4aaf-a922-02412edc8ff5",
   "metadata": {},
   "outputs": [],
   "source": []
  },
  {
   "cell_type": "code",
   "execution_count": null,
   "id": "4708f71f-db57-4ea5-b68b-34d82cc59664",
   "metadata": {},
   "outputs": [],
   "source": []
  },
  {
   "cell_type": "markdown",
   "id": "cccaf988-244a-4a9b-829d-485b68fdb24d",
   "metadata": {},
   "source": [
    "# Post Processing Watershed"
   ]
  },
  {
   "cell_type": "code",
   "execution_count": null,
   "id": "2ceef622-fea9-435c-b764-ee4bc87fb534",
   "metadata": {},
   "outputs": [],
   "source": [
    "# out_mmap = read_mmap_array(\"/home/clay/research/kaggle/sennet/data_dumps/predicted/for_rg/kidney_3_sparse/chunk_00/out/\", mode=\"readwrite\")\n",
    "out_mmap = read_mmap_array(\"/home/clay/research/kaggle/sennet/data_dumps/predicted/for_rg/kidney_3_sparse/chunk_00/thresholded_prob/\", mode=\"readwrite\")\n",
    "out = np.ascontiguousarray(out_mmap.data > 0.01)"
   ]
  },
  {
   "cell_type": "code",
   "execution_count": null,
   "id": "3b4c073c-c217-422f-bc4d-09ffe5ab4ce4",
   "metadata": {},
   "outputs": [],
   "source": [
    "out_cc, n_out_cc = cc3d.connected_components(\n",
    "    out, \n",
    "    return_N=True,\n",
    "    connectivity=26,\n",
    ")"
   ]
  },
  {
   "cell_type": "code",
   "execution_count": null,
   "id": "1da25240-125c-4a3e-8424-367136b9830b",
   "metadata": {},
   "outputs": [],
   "source": [
    "n_out_cc"
   ]
  },
  {
   "cell_type": "code",
   "execution_count": null,
   "id": "e0f13bca-7990-4d21-9ed1-2842d0868440",
   "metadata": {},
   "outputs": [],
   "source": [
    "ret = np.unique(out_cc, return_counts=True)\n",
    "print(ret)"
   ]
  },
  {
   "cell_type": "code",
   "execution_count": null,
   "id": "e1d25b37-414b-4892-99e0-9794c076730a",
   "metadata": {},
   "outputs": [],
   "source": [
    "vals, sizes = ret"
   ]
  },
  {
   "cell_type": "code",
   "execution_count": null,
   "id": "bfdc4b84-d506-4c4a-935e-c08f21233bee",
   "metadata": {},
   "outputs": [],
   "source": [
    "# sizes = np.array([x.sum() for (_, x) in tqdm(cc3d.each(\n",
    "#     out_cc, \n",
    "#     binary=False,\n",
    "#     in_place=True,\n",
    "# ))])\n",
    "# print(sizes)\n",
    "# print([f\"{s*100:.3f}\" for s in (sizes / sizes.sum())])"
   ]
  },
  {
   "cell_type": "code",
   "execution_count": null,
   "id": "cc67050c-c65a-4102-a4ec-2e136c68fadc",
   "metadata": {},
   "outputs": [],
   "source": [
    "sorted_sizes[:10]"
   ]
  },
  {
   "cell_type": "code",
   "execution_count": null,
   "id": "dc339dc7-1be4-45bf-b578-29c5d88c72de",
   "metadata": {},
   "outputs": [],
   "source": [
    "sorted_sizes = sorted(sizes, reverse=True)\n",
    "plt.plot(sorted_sizes)\n",
    "plt.scatter(list(range(len(sorted_sizes))), sorted_sizes)"
   ]
  },
  {
   "cell_type": "code",
   "execution_count": null,
   "id": "007ead55-ffb1-42d0-a474-377848a93763",
   "metadata": {},
   "outputs": [],
   "source": [
    "out_largest_cluster, _ = cc3d.largest_k(\n",
    "    out,\n",
    "    k=1,\n",
    "    connectivity=26,\n",
    "    return_N=True,\n",
    ")"
   ]
  },
  {
   "cell_type": "code",
   "execution_count": null,
   "id": "af11325e-8e31-4828-9a49-fae2f4e837ef",
   "metadata": {},
   "outputs": [],
   "source": [
    "out_mmap.data[:] = out_largest_cluster\n",
    "out_mmap.data.flush()"
   ]
  },
  {
   "cell_type": "code",
   "execution_count": null,
   "id": "6d159bfe-74e2-43cb-98e8-79ac5e18cf70",
   "metadata": {},
   "outputs": [],
   "source": []
  }
 ],
 "metadata": {
  "kernelspec": {
   "display_name": "Python 3 (ipykernel)",
   "language": "python",
   "name": "python3"
  },
  "language_info": {
   "codemirror_mode": {
    "name": "ipython",
    "version": 3
   },
   "file_extension": ".py",
   "mimetype": "text/x-python",
   "name": "python",
   "nbconvert_exporter": "python",
   "pygments_lexer": "ipython3",
   "version": "3.11.6"
  }
 },
 "nbformat": 4,
 "nbformat_minor": 5
}
