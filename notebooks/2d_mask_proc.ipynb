{
 "cells": [
  {
   "cell_type": "code",
   "execution_count": 1,
   "id": "0ec6466b-3b07-4a5f-b321-ca6e25b80147",
   "metadata": {},
   "outputs": [],
   "source": [
    "import sys\n",
    "\n",
    "\n",
    "sys.path.append(\"../src/\")"
   ]
  },
  {
   "cell_type": "code",
   "execution_count": 47,
   "id": "f4a180a7-ace2-4b5a-98a6-d8e24a832f29",
   "metadata": {},
   "outputs": [
    {
     "name": "stdout",
     "output_type": "stream",
     "text": [
      "111\n"
     ]
    }
   ],
   "source": [
    "from pathlib import Path\n",
    "import numpy as np\n",
    "import cv2\n",
    "import matplotlib.pyplot as plt\n",
    "from tqdm import tqdm\n",
    "\n",
    "\n",
    "# root = Path(\"/home/clay/research/kaggle/sennet/data_dumps/processed_2d/kidney_1_dense\")\n",
    "root = Path(\"/home/clay/research/kaggle/sennet/data_dumps/processed_2d/kidney_2\")\n",
    "mask_paths = sorted(list(root.glob(\"*mask*\")))\n",
    "print(len(mask_paths))"
   ]
  },
  {
   "cell_type": "code",
   "execution_count": 24,
   "id": "2580e4ca-d8e5-4d92-9713-a2c6bec2b192",
   "metadata": {},
   "outputs": [],
   "source": [
    "for p in mask_paths:\n",
    "    mask = cv2.imread(str(p), 0)\n",
    "    contours, _ = cv2.findContours(mask, cv2.RETR_LIST, cv2.CHAIN_APPROX_SIMPLE)\n",
    "    max_area = 0\n",
    "    max_contour = 0\n",
    "    for c in contours:\n",
    "        a = cv2.contourArea(c)\n",
    "        if a > max_area:\n",
    "            max_contour = c\n",
    "            max_area = a\n",
    "    # print(max_area)\n",
    "    if max_area < 1e-3:\n",
    "        continue\n",
    "    hull = cv2.convexHull(max_contour)\n",
    "    new_mask = cv2.drawContours(np.zeros_like(mask), [hull], 0, 255, -1)\n",
    "    cv2.imwrite(str(p), new_mask)\n",
    "    # break"
   ]
  },
  {
   "cell_type": "code",
   "execution_count": 24,
   "id": "411ad229-b394-4ad5-9015-b2c679519a21",
   "metadata": {},
   "outputs": [
    {
     "name": "stderr",
     "output_type": "stream",
     "text": [
      "100%|████████████████████████████████████████████████████████████████████████████████████████████████████| 114/114 [00:01<00:00, 110.76it/s]\n"
     ]
    }
   ],
   "source": [
    "margin = 10\n",
    "\n",
    "# p = mask_paths[10]\n",
    "# p = mask_paths[50]\n",
    "\n",
    "for p in tqdm(mask_paths):\n",
    "    mask = cv2.imread(str(p), 0)\n",
    "    # plt.imshow(mask)\n",
    "    \n",
    "    _, labels, stats, centroids = cv2.connectedComponentsWithStats(mask, 8)\n",
    "    xs = stats[:, cv2.CC_STAT_LEFT]\n",
    "    ys = stats[:, cv2.CC_STAT_TOP]\n",
    "    ws = stats[:, cv2.CC_STAT_WIDTH]\n",
    "    hs = stats[:, cv2.CC_STAT_HEIGHT]\n",
    "    areas = stats[:, cv2.CC_STAT_AREA]\n",
    "    take_mask = (\n",
    "        (xs > margin)\n",
    "        & (ys > margin)\n",
    "        & (mask.shape[1] - (xs + ws) > margin)\n",
    "        & (mask.shape[0] - (ys + hs) > margin)\n",
    "    )\n",
    "    take_indices = np.nonzero(take_mask)[0]\n",
    "    if len(take_indices) == 0:\n",
    "        new_mask = np.zeros_like(mask) \n",
    "    else:\n",
    "        max_area_local_idx = np.argmax(areas[take_indices])\n",
    "        max_area_idx = take_indices[max_area_local_idx]\n",
    "        max_area_mask = ((labels == max_area_idx) * 255).astype(np.uint8)\n",
    "        contours, _ = cv2.findContours(max_area_mask, cv2.RETR_LIST, cv2.CHAIN_APPROX_SIMPLE)\n",
    "        max_area = -1\n",
    "        max_contour = 0\n",
    "        for c in contours:\n",
    "            a = cv2.contourArea(c)\n",
    "            if a > max_area:\n",
    "                max_contour = c\n",
    "                max_area = a\n",
    "        if max_area < 1e-3:\n",
    "            new_mask = np.zeros_like(mask)\n",
    "        else:\n",
    "            hull = cv2.convexHull(max_contour)\n",
    "            new_mask = cv2.drawContours(np.zeros_like(mask), [hull], 0, 255, -1)\n",
    "    cv2.imwrite(str(p), new_mask)\n",
    "        # print(f\"{max_area_idx = }\")\n",
    "        # plt.figure()\n",
    "        # plt.imshow(max_area_mask)\n",
    "        # plt.figure()\n",
    "        # plt.imshow(out_mask)\n",
    "\n",
    "# print(stats)\n",
    "# print(take_mask)\n",
    "# print(take_indices)"
   ]
  },
  {
   "cell_type": "code",
   "execution_count": 35,
   "id": "28882f96-c71b-46a5-9963-3cf97f53745b",
   "metadata": {},
   "outputs": [
    {
     "data": {
      "text/plain": [
       "array([[0, 0, 0, ..., 0, 0, 0],\n",
       "       [0, 0, 0, ..., 0, 0, 0],\n",
       "       [0, 0, 0, ..., 0, 0, 0],\n",
       "       ...,\n",
       "       [1, 1, 1, ..., 0, 0, 0],\n",
       "       [1, 1, 1, ..., 0, 0, 0],\n",
       "       [1, 1, 1, ..., 0, 0, 0]], dtype=int32)"
      ]
     },
     "execution_count": 35,
     "metadata": {},
     "output_type": "execute_result"
    }
   ],
   "source": [
    "labels"
   ]
  },
  {
   "cell_type": "code",
   "execution_count": 32,
   "id": "8c998f45-c13e-4619-8ad3-0c6eed239643",
   "metadata": {},
   "outputs": [],
   "source": []
  },
  {
   "cell_type": "code",
   "execution_count": 48,
   "id": "7bee2a86-7e6a-4e4a-bd25-8713a5a67fe5",
   "metadata": {},
   "outputs": [
    {
     "name": "stdout",
     "output_type": "stream",
     "text": [
      "1 None\n"
     ]
    }
   ],
   "source": [
    "from scipy.signal import find_peaks\n",
    "\n",
    "means = []\n",
    "for p in mask_paths:\n",
    "    means.append((cv2.imread(str(p), 0) > 0).mean())\n",
    "means = np.array(means)\n",
    "\n",
    "peaks, _ = find_peaks(-means, distance=float(0.2*len(means)))\n",
    "front_peaks = peaks[peaks <= 0.5*len(means)]\n",
    "rear_peaks = peaks[peaks > 0.5*len(means)]\n",
    "front_peak = None\n",
    "end_peak = None\n",
    "if len(front_peaks) > 0:\n",
    "    front_peak = front_peaks[np.argmin(means[front_peaks])]\n",
    "    if means[front_peak] > means[0]:\n",
    "        front_peak = None\n",
    "if len(rear_peaks) > 0:\n",
    "    rear_peak = rear_peaks[np.argmin(means[rear_peaks])]\n",
    "    if means[rear_peak] > means[-1]:\n",
    "        rear_peak = None\n",
    "print(front_peak, rear_peak)"
   ]
  },
  {
   "cell_type": "code",
   "execution_count": 49,
   "id": "3a762193-8a7d-4ed0-b9bd-6d492079386b",
   "metadata": {},
   "outputs": [
    {
     "data": {
      "image/png": "[encoded data removed]",
      "text/plain": [
       "<Figure size 640x480 with 1 Axes>"
      ]
     },
     "metadata": {},
     "output_type": "display_data"
    }
   ],
   "source": [
    "plt.plot(means)\n",
    "if front_peak is not None:\n",
    "    plt.axvline(front_peak, color=\"red\")\n",
    "if rear_peak is not None:\n",
    "    plt.axvline(rear_peak, color=\"red\")"
   ]
  },
  {
   "cell_type": "code",
   "execution_count": 35,
   "id": "8e656a3f-bf17-4a38-abcb-b1e1ef594c7a",
   "metadata": {},
   "outputs": [],
   "source": []
  },
  {
   "cell_type": "code",
   "execution_count": 37,
   "id": "257f1a1f-ab60-4101-b4cb-e708ebf749d8",
   "metadata": {},
   "outputs": [],
   "source": []
  },
  {
   "cell_type": "code",
   "execution_count": 38,
   "id": "9be2e62f-306f-49ef-b268-732786aa126b",
   "metadata": {},
   "outputs": [
    {
     "data": {
      "text/plain": [
       "(array([ 3, 46, 67, 96]), {})"
      ]
     },
     "execution_count": 38,
     "metadata": {},
     "output_type": "execute_result"
    }
   ],
   "source": [
    "peaks"
   ]
  }
 ],
 "metadata": {
  "kernelspec": {
   "display_name": "Python 3 (ipykernel)",
   "language": "python",
   "name": "python3"
  },
  "language_info": {
   "codemirror_mode": {
    "name": "ipython",
    "version": 3
   },
   "file_extension": ".py",
   "mimetype": "text/x-python",
   "name": "python",
   "nbconvert_exporter": "python",
   "pygments_lexer": "ipython3",
   "version": "3.11.6"
  }
 },
 "nbformat": 4,
 "nbformat_minor": 5
}
