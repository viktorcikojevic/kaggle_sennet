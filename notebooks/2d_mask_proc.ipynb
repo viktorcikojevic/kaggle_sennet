{
 "cells": [
  {
   "cell_type": "code",
   "execution_count": 1,
   "id": "0ec6466b-3b07-4a5f-b321-ca6e25b80147",
   "metadata": {},
   "outputs": [],
   "source": [
    "import sys\n",
    "\n",
    "\n",
    "sys.path.append(\"../src/\")"
   ]
  },
  {
   "cell_type": "code",
   "execution_count": 20,
   "id": "f4a180a7-ace2-4b5a-98a6-d8e24a832f29",
   "metadata": {},
   "outputs": [
    {
     "name": "stdout",
     "output_type": "stream",
     "text": [
      "114\n"
     ]
    }
   ],
   "source": [
    "from pathlib import Path\n",
    "import numpy as np\n",
    "import cv2\n",
    "import matplotlib.pyplot as plt\n",
    "\n",
    "\n",
    "root = Path(\"/home/clay/research/kaggle/sennet/data_dumps/processed_2d/kidney_1_dense\")\n",
    "mask_paths = sorted(list(root.glob(\"*mask*\")))\n",
    "print(len(mask_paths))"
   ]
  },
  {
   "cell_type": "code",
   "execution_count": 24,
   "id": "2580e4ca-d8e5-4d92-9713-a2c6bec2b192",
   "metadata": {},
   "outputs": [],
   "source": [
    "for p in mask_paths:\n",
    "    mask = cv2.imread(str(p), 0)\n",
    "    contours, _ = cv2.findContours(mask, cv2.RETR_LIST, cv2.CHAIN_APPROX_SIMPLE)\n",
    "    max_area = 0\n",
    "    max_contour = 0\n",
    "    for c in contours:\n",
    "        a = cv2.contourArea(c)\n",
    "        if a > max_area:\n",
    "            max_contour = c\n",
    "            max_area = a\n",
    "    # print(max_area)\n",
    "    if max_area < 1e-3:\n",
    "        continue\n",
    "    hull = cv2.convexHull(max_contour)\n",
    "    new_mask = cv2.drawContours(np.zeros_like(mask), [hull], 0, 255, -1)\n",
    "    cv2.imwrite(str(p), new_mask)\n",
    "    # break"
   ]
  },
  {
   "cell_type": "code",
   "execution_count": 19,
   "id": "411ad229-b394-4ad5-9015-b2c679519a21",
   "metadata": {},
   "outputs": [
    {
     "data": {
      "text/plain": [
       "array([[0, 0, 0, ..., 0, 0, 0],\n",
       "       [0, 0, 0, ..., 0, 0, 0],\n",
       "       [0, 0, 0, ..., 0, 0, 0],\n",
       "       ...,\n",
       "       [0, 0, 0, ..., 0, 0, 0],\n",
       "       [0, 0, 0, ..., 0, 0, 0],\n",
       "       [0, 0, 0, ..., 0, 0, 0]], dtype=uint8)"
      ]
     },
     "execution_count": 19,
     "metadata": {},
     "output_type": "execute_result"
    }
   ],
   "source": [
    "mask"
   ]
  },
  {
   "cell_type": "code",
   "execution_count": 13,
   "id": "28882f96-c71b-46a5-9963-3cf97f53745b",
   "metadata": {},
   "outputs": [
    {
     "data": {
      "text/plain": [
       "12448530.468581084"
      ]
     },
     "execution_count": 13,
     "metadata": {},
     "output_type": "execute_result"
    }
   ],
   "source": [
    "mean_mmap_0 = read_mmap_array(chunk_path_0 / \"mean_prob\")\n",
    "mean_mmap_1 = read_mmap_array(chunk_path_1 / \"mean_prob\")\n",
    "np.abs(mean_mmap_0.data - mean_mmap_1.data).sum()"
   ]
  },
  {
   "cell_type": "code",
   "execution_count": 14,
   "id": "8c998f45-c13e-4619-8ad3-0c6eed239643",
   "metadata": {},
   "outputs": [
    {
     "data": {
      "text/plain": [
       "0"
      ]
     },
     "execution_count": 14,
     "metadata": {},
     "output_type": "execute_result"
    }
   ],
   "source": [
    "count_mmap_0 = read_mmap_array(chunk_path_0 / \"total_count\")\n",
    "count_mmap_1 = read_mmap_array(chunk_path_1 / \"total_count\")\n",
    "np.abs(count_mmap_0.data - count_mmap_1.data).sum()"
   ]
  }
 ],
 "metadata": {
  "kernelspec": {
   "display_name": "Python 3 (ipykernel)",
   "language": "python",
   "name": "python3"
  },
  "language_info": {
   "codemirror_mode": {
    "name": "ipython",
    "version": 3
   },
   "file_extension": ".py",
   "mimetype": "text/x-python",
   "name": "python",
   "nbconvert_exporter": "python",
   "pygments_lexer": "ipython3",
   "version": "3.11.6"
  }
 },
 "nbformat": 4,
 "nbformat_minor": 5
}
