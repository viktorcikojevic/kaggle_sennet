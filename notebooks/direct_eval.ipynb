{
 "cells": [
  {
   "cell_type": "code",
   "execution_count": 29,
   "id": "b86eaf15-29bd-44c0-a91f-e1cdebe27bdd",
   "metadata": {},
   "outputs": [],
   "source": [
    "import sys\n",
    "\n",
    "\n",
    "sys.path.append(\"../src/\")"
   ]
  },
  {
   "cell_type": "code",
   "execution_count": 57,
   "id": "6accaabc-056f-4f69-93dc-43ead9a94989",
   "metadata": {},
   "outputs": [],
   "source": [
    "from sennet.core.mmap_arrays import read_mmap_array, create_mmap_array\n",
    "from sennet.core.submission_utils import evaluate_chunked_inference_in_memory\n",
    "import matplotlib.pyplot as plt\n",
    "import numpy as np\n",
    "from pathlib import Path\n"
   ]
  },
  {
   "cell_type": "code",
   "execution_count": 58,
   "id": "bff1e0cf-9f81-4c37-8ed5-9ccbdab44f64",
   "metadata": {},
   "outputs": [],
   "source": [
    "folder_name = \"kidney_3_sparse\"\n",
    "# folder_name = \"kidney_2\"\n",
    "\n",
    "\n",
    "# pred_path = Path(f\"/home/clay/research/kaggle/sennet/data_dumps/predicted/ensembled_0005/{folder_name}/chunk_00/thresholded_prob/\")\n",
    "# pred_path = Path(f\"/home/clay/research/kaggle/sennet/data_dumps/predicted/ensembled/{folder_name}/chunk_00/thresholded_prob/\")\n",
    "pred_path = Path(f\"/home/clay/research/kaggle/sennet/data_dumps/predicted/for_rg/{folder_name}/chunk_00/out\")\n",
    "\n",
    "label_path = Path(f\"/home/clay/research/kaggle/sennet/data_dumps/processed/{folder_name}/label/\")"
   ]
  },
  {
   "cell_type": "code",
   "execution_count": 59,
   "id": "a5d8f862-6eea-4865-b35b-ac2ca488f49e",
   "metadata": {},
   "outputs": [],
   "source": [
    "label_mmap = read_mmap_array(label_path)\n",
    "label = np.ascontiguousarray(label_mmap.data)\n",
    "\n",
    "pred_mmap = read_mmap_array(pred_path)\n",
    "pred = np.ascontiguousarray(pred_mmap.data)"
   ]
  },
  {
   "cell_type": "code",
   "execution_count": 60,
   "id": "ac965848-24f1-4b47-aefd-0ddda54e1403",
   "metadata": {},
   "outputs": [
    {
     "name": "stderr",
     "output_type": "stream",
     "text": [
      "dice:   0%|                                                                                                           | 0/1 [00:00<?, ?it/s]\n",
      "  0%|                                                                                                              | 0/1035 [00:00<?, ?it/s]\u001b[A\n",
      " 11%|██████████▍                                                                                       | 110/1035 [00:00<00:00, 1097.29it/s]\u001b[A\n",
      " 21%|████████████████████▊                                                                             | 220/1035 [00:00<00:00, 1091.46it/s]\u001b[A\n",
      " 32%|███████████████████████████████▎                                                                  | 331/1035 [00:00<00:00, 1096.07it/s]\u001b[A\n",
      " 43%|█████████████████████████████████████████▊                                                        | 441/1035 [00:00<00:00, 1095.80it/s]\u001b[A\n",
      " 53%|████████████████████████████████████████████████████▏                                             | 551/1035 [00:00<00:00, 1095.88it/s]\u001b[A\n",
      " 64%|██████████████████████████████████████████████████████████████▌                                   | 661/1035 [00:00<00:00, 1091.72it/s]\u001b[A\n",
      " 74%|█████████████████████████████████████████████████████████████████████████                         | 771/1035 [00:00<00:00, 1086.19it/s]\u001b[A\n",
      " 85%|███████████████████████████████████████████████████████████████████████████████████▍              | 881/1035 [00:00<00:00, 1090.08it/s]\u001b[A\n",
      "100%|█████████████████████████████████████████████████████████████████████████████████████████████████| 1035/1035 [00:00<00:00, 1090.09it/s]\u001b[A\n",
      "dice: 100%|███████████████████████████████████████████████████████████████████████████████████████████████████| 1/1 [00:05<00:00,  5.90s/it]"
     ]
    },
    {
     "name": "stdout",
     "output_type": "stream",
     "text": [
      "ChunkedMetrics(f1_scores=[0.8969380758360896], precisions=[0.8205174698454684], recalls=[0.9890558680086522], surface_dices=[0.7214373350143433])\n"
     ]
    },
    {
     "name": "stderr",
     "output_type": "stream",
     "text": [
      "\n"
     ]
    }
   ],
   "source": [
    "metrics = evaluate_chunked_inference_in_memory(\n",
    "    mean_prob_chunk=pred,\n",
    "    label=label,\n",
    "    thresholds=[0.03],\n",
    "    device=\"cuda\",\n",
    ")\n",
    "print(metrics)"
   ]
  },
  {
   "cell_type": "code",
   "execution_count": 53,
   "id": "ef79164f-bc1b-4faf-befa-82f63e4a3fd2",
   "metadata": {},
   "outputs": [],
   "source": [
    "# k2 \n",
    "# normal: ChunkedMetrics(f1_scores=[0.93821703432001], precisions=[0.9086714517477721], recalls=[0.9697485580895803], surface_dices=[0.8192986845970154])\n",
    "# ff: ChunkedMetrics(f1_scores=[0.9396971602353228], precisions=[0.9150118295797841], recalls=[0.9657513600614306], surface_dices=[0.8350085020065308])\n",
    "\n",
    "# k3s\n",
    "# normal: ChunkedMetrics(f1_scores=[0.9401688014179714], precisions=[0.895520651585071], recalls=[0.9895026403059068], surface_dices=[0.858752429485321])\n",
    "# ff: ChunkedMetrics(f1_scores=[0.8944758637249459], precisions=[0.8118273030770669], recalls=[0.9958599926281181], surface_dices=[0.7201119661331177])\n",
    "# ffk: ChunkedMetrics(f1_scores=[0.8969380758360896], precisions=[0.8205174698454684], recalls=[0.9890558680086522], surface_dices=[0.7214373350143433])"
   ]
  },
  {
   "cell_type": "code",
   "execution_count": null,
   "id": "0bb834ce-b88f-44e4-b00c-cac55649a361",
   "metadata": {},
   "outputs": [],
   "source": []
  }
 ],
 "metadata": {
  "kernelspec": {
   "display_name": "Python 3 (ipykernel)",
   "language": "python",
   "name": "python3"
  },
  "language_info": {
   "codemirror_mode": {
    "name": "ipython",
    "version": 3
   },
   "file_extension": ".py",
   "mimetype": "text/x-python",
   "name": "python",
   "nbconvert_exporter": "python",
   "pygments_lexer": "ipython3",
   "version": "3.11.7"
  }
 },
 "nbformat": 4,
 "nbformat_minor": 5
}
