{
 "cells": [
  {
   "cell_type": "code",
   "execution_count": 1,
   "id": "ba728f13-d3e4-480b-9b3a-8dc127257846",
   "metadata": {},
   "outputs": [],
   "source": [
    "import numpy as np\n",
    "import torch\n",
    "import matplotlib.pyplot as plt"
   ]
  },
  {
   "cell_type": "code",
   "execution_count": 24,
   "id": "c4fbdcbe-9304-4a31-9c9a-25ba7d835ff3",
   "metadata": {},
   "outputs": [],
   "source": [
    "def add_noise(\n",
    "    x: torch.Tensor,\n",
    "    max_randn_rate: float = 0.1,\n",
    "    randn_rate: float | None = None,\n",
    "    x_already_normed: bool = False\n",
    "):\n",
    "    \"\"\"\n",
    "    normalises the data and add some noise to the output distribution\n",
    "    x: data to be normalised\n",
    "    max_randn_rate = the magnitude of the mean and std shift\n",
    "    \"\"\"\n",
    "    ndim = x.ndim-1\n",
    "    if x_already_normed:\n",
    "        x_std = torch.ones([x.shape[0]] + [1]*ndim, device=x.device, dtype=x.dtype)\n",
    "        x_mean = torch.zeros([x.shape[0]] + [1]*ndim, device=x.device, dtype=x.dtype)\n",
    "    else: \n",
    "        dim = list(range(1, x.ndim))\n",
    "        x_std = x.std(dim=dim, keepdim=True)\n",
    "        x_mean = x.mean(dim=dim, keepdim=True)\n",
    "    if randn_rate is None:\n",
    "        randn_rate = max_randn_rate * np.random.rand() * torch.rand(x_mean.shape, device=x.device, dtype=x.dtype)\n",
    "\n",
    "    divisor = (x_std**2 + (x_std * randn_rate)**2) ** 0.5\n",
    "    mean_shift = torch.randn(size=x.shape, device=x.device, dtype=x.dtype) * randn_rate * x_std\n",
    "    return (x - x_mean + mean_shift) / (divisor + 1e-7)\n"
   ]
  },
  {
   "cell_type": "code",
   "execution_count": 36,
   "id": "d0b5b4f9-8b65-4241-a35b-e48d763ef759",
   "metadata": {},
   "outputs": [
    {
     "name": "stdout",
     "output_type": "stream",
     "text": [
      "tensor(0.9486, dtype=torch.float64)\n",
      "tensor(0.0185, dtype=torch.float64)\n"
     ]
    },
    {
     "data": {
      "image/png": "[encoded data removed]",
      "text/plain": [
       "<Figure size 640x480 with 1 Axes>"
      ]
     },
     "metadata": {},
     "output_type": "display_data"
    }
   ],
   "source": [
    "a = torch.from_numpy(np.random.normal(10.0, 2.0, (500,)))\n",
    "na = add_noise(a, 0.1, 1.0, False)\n",
    "\n",
    "_ = plt.hist(a.numpy(), bins=20, label=\"a\")\n",
    "_ = plt.hist(na.numpy(), bins=20, label=\"na\")\n",
    "\n",
    "print(torch.std(na))\n",
    "print(torch.mean(na))"
   ]
  },
  {
   "cell_type": "code",
   "execution_count": null,
   "id": "2f3430c5-1bed-4c58-a873-a53d95624aa7",
   "metadata": {},
   "outputs": [],
   "source": []
  },
  {
   "cell_type": "code",
   "execution_count": null,
   "id": "b0cdd5fb-6597-4bde-8ef1-76f08366e3da",
   "metadata": {},
   "outputs": [],
   "source": []
  }
 ],
 "metadata": {
  "kernelspec": {
   "display_name": "Python 3 (ipykernel)",
   "language": "python",
   "name": "python3"
  },
  "language_info": {
   "codemirror_mode": {
    "name": "ipython",
    "version": 3
   },
   "file_extension": ".py",
   "mimetype": "text/x-python",
   "name": "python",
   "nbconvert_exporter": "python",
   "pygments_lexer": "ipython3",
   "version": "3.11.6"
  }
 },
 "nbformat": 4,
 "nbformat_minor": 5
}
