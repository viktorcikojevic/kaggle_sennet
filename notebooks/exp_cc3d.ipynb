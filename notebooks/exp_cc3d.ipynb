{
 "cells": [
  {
   "cell_type": "code",
   "execution_count": 1,
   "id": "95746055-b5ae-42ef-b286-6a0fef9eb40d",
   "metadata": {},
   "outputs": [],
   "source": [
    "import sys\n",
    "\n",
    "\n",
    "sys.path.append(\"../src/\")"
   ]
  },
  {
   "cell_type": "code",
   "execution_count": 2,
   "id": "d655972c-2cc4-4f27-b153-0a3ca6fa51a7",
   "metadata": {},
   "outputs": [],
   "source": [
    "from sennet.core.mmap_arrays import read_mmap_array, create_mmap_array\n",
    "import matplotlib.pyplot as plt\n",
    "import numpy as np"
   ]
  },
  {
   "cell_type": "code",
   "execution_count": 3,
   "id": "45eb2db3-fd9d-4237-b3fc-23d0eea06274",
   "metadata": {},
   "outputs": [],
   "source": [
    "import cc3d"
   ]
  },
  {
   "cell_type": "code",
   "execution_count": 4,
   "id": "5850ef40-37c5-42d5-aa7b-0bb861a22bb6",
   "metadata": {},
   "outputs": [],
   "source": [
    "# labels_out = cc3d.connected_components(labels_in) # 26-connected\n",
    "# labels_out = cc3d.dust(\n",
    "#     labels_in, \n",
    "#     threshold=100, \n",
    "#     connectivity=26, \n",
    "#     in_place=False,\n",
    "# )"
   ]
  },
  {
   "cell_type": "code",
   "execution_count": 5,
   "id": "addab7e5-d709-4465-908f-209bde68d765",
   "metadata": {},
   "outputs": [
    {
     "name": "stdout",
     "output_type": "stream",
     "text": [
      "/home/clay/research/kaggle/sennet/data_dumps/predicted/ensembled/kidney_2/chunk_00\n",
      "/home/clay/research/kaggle/sennet/data_dumps/predicted/ensembled/kidney_2/chunk_01\n",
      "/home/clay/research/kaggle/sennet/data_dumps/predicted/ensembled/kidney_2/chunk_02\n",
      "/home/clay/research/kaggle/sennet/data_dumps/predicted/ensembled/kidney_2/chunk_03\n",
      "/home/clay/research/kaggle/sennet/data_dumps/predicted/ensembled/kidney_2/chunk_04\n",
      "[[444, 1041, 1511], [444, 1041, 1511], [444, 1041, 1511], [444, 1041, 1511], [441, 1041, 1511]]\n"
     ]
    }
   ],
   "source": [
    "from pathlib import Path\n",
    "\n",
    "\n",
    "# folder = \"kidney_3_dense\"\n",
    "folder = \"kidney_2\"\n",
    "root_path = Path(f\"/home/clay/research/kaggle/sennet/data_dumps/predicted/ensembled/{folder}/\")\n",
    "mmap_paths = sorted([p for p in root_path.glob(\"chunk_*\")])\n",
    "for p in mmap_paths:\n",
    "    print(p)\n",
    "mmaps = [read_mmap_array(p / \"thresholded_prob\")for p in mmap_paths]\n",
    "print([m.shape for m in mmaps])\n",
    "mmap = np.concatenate([m.data for m in mmaps], axis=0)\n",
    "# mmap = read_mmap_array(\"/home/clay/research/kaggle/sennet/data_dumps/predicted/ensembled/kidney_3_dense/chunk_02/thresholded_prob\")"
   ]
  },
  {
   "cell_type": "code",
   "execution_count": 6,
   "id": "20b8c609-7e2d-4aa3-af3f-d5a4e2808eeb",
   "metadata": {},
   "outputs": [],
   "source": [
    "connectivity = 26 # only 4,8 (2D) and 26, 18, and 6 (3D) are allowed\n",
    "labels_out, num_labels = cc3d.connected_components(\n",
    "    mmap, \n",
    "    connectivity=connectivity, \n",
    "    # out_file=\"out.bin\",\n",
    "    return_N=True,\n",
    ")\n",
    "labels_out = cc3d.dust(\n",
    "    labels_out, \n",
    "    threshold=1000,\n",
    "    connectivity=26, \n",
    "    in_place=False,\n",
    ")"
   ]
  },
  {
   "cell_type": "code",
   "execution_count": 7,
   "id": "5d6a1112-663e-4db4-bc18-567d7a7e5c1c",
   "metadata": {},
   "outputs": [
    {
     "name": "stdout",
     "output_type": "stream",
     "text": [
      "total 269M\n",
      "drwxrwxr-x  3 clay clay 4.0K Dec 25 16:51 .\n",
      "drwxrwxr-x 14 clay clay 4.0K Dec 25 13:24 ..\n",
      "-rw-rw-r--  1 clay clay  36K Dec 19 23:38 2d_mask_proc.ipynb\n",
      "-rw-rw-r--  1 clay clay  15K Dec 25 16:51 exp_cc3d.ipynb\n",
      "-rw-rw-r--  1 clay clay 666K Dec 23 18:05 exp_clahe.ipynb\n",
      "-rw-rw-r--  1 clay clay  72K Dec 22 21:12 exp_eda.ipynb\n",
      "-rw-rw-r--  1 clay clay 7.0K Dec 25 13:24 exp_fast_surface_dice.ipynb\n",
      "-rw-rw-r--  1 clay clay  20K Dec 19 23:38 exp_grid_sample.ipynb\n",
      "-rw-rw-r--  1 clay clay 3.6K Dec 25 16:26 exp_label_compare.ipynb\n",
      "-rw-rw-r--  1 clay clay 462K Dec 15 20:59 foreground_splitter.ipynb\n",
      "-rw-rw-r--  1 clay clay 1.4K Dec 25 16:44 ipykernel_launcher.py.pclprof\n",
      "drwxrwxr-x  2 clay clay 4.0K Dec 25 16:13 .ipynb_checkpoints\n",
      "-rw-rw-r--  1 clay clay 993M Dec 23 18:22 out.bin\n",
      "-rw-rw-r--  1 clay clay 6.2M Dec 23 18:05 test-augmentations.ipynb\n",
      "-rw-rw-r--  1 clay clay 3.2K Dec 16 14:17 unet.ipynb\n"
     ]
    }
   ],
   "source": [
    "!ls -lah"
   ]
  },
  {
   "cell_type": "code",
   "execution_count": 8,
   "id": "3b732bd2-79f8-45fc-9ff7-dc45be13be2f",
   "metadata": {},
   "outputs": [],
   "source": [
    "# unique_labels = np.unique(labels_out)"
   ]
  },
  {
   "cell_type": "code",
   "execution_count": 9,
   "id": "0f23c52c-5cec-42f9-942a-5eee1b2c70b6",
   "metadata": {},
   "outputs": [
    {
     "name": "stderr",
     "output_type": "stream",
     "text": [
      "100%|███████████████████████████████████████████████████████████████████████████████████████████████████████████████████████████████████████████████████████████████████████████████████████████████████████████████████████████████████████████████████| 164/164 [01:24<00:00,  1.93it/s]\n"
     ]
    }
   ],
   "source": [
    "from tqdm import tqdm\n",
    "\n",
    "\n",
    "out_mmap = create_mmap_array(\n",
    "    Path(f\"/home/clay/research/kaggle/sennet/data_dumps/predicted/ensembled_cc3d/{folder}/chunk_00/thresholded_prob/\"),\n",
    "    mmap.shape,\n",
    "    bool,\n",
    ")\n",
    "# out_mmap.data[:] = out_image\n",
    "\n",
    "# for label, image in tqdm(cc3d.each(labels_out, binary=True, in_place=True), total=len(unique_labels)):\n",
    "for label, image in tqdm(cc3d.each(labels_out, binary=True, in_place=True)):\n",
    "    out_mmap.data[image] = True\n",
    "    # out_image = out_image | image\n",
    "    # out_image = out_image | (image > 0)\n",
    "out_mmap.data.flush()\n"
   ]
  },
  {
   "cell_type": "code",
   "execution_count": null,
   "id": "393931e6-5334-4ae8-9684-413206f1178f",
   "metadata": {},
   "outputs": [],
   "source": []
  },
  {
   "cell_type": "code",
   "execution_count": null,
   "id": "ffba8e99-53bf-4130-aea4-179d98f608b0",
   "metadata": {},
   "outputs": [],
   "source": []
  },
  {
   "cell_type": "code",
   "execution_count": 10,
   "id": "14f3112b-3a67-4cf1-b0d7-feeee95a9bf9",
   "metadata": {},
   "outputs": [],
   "source": [
    "from sennet.core.submission_utils import generate_submission_df_from_one_chunked_inference"
   ]
  },
  {
   "cell_type": "code",
   "execution_count": 11,
   "id": "7868a23a-a836-4405-96e6-1315f7f37cc0",
   "metadata": {},
   "outputs": [
    {
     "name": "stderr",
     "output_type": "stream",
     "text": [
      "  0%|                                                                                                                                                                                                                                                               | 0/1 [00:00<?, ?it/s]\n",
      "  0%|                                                                                                                                                                                                                                                            | 0/2217 [00:00<?, ?it/s]\u001b[A\n",
      "  3%|███████▊                                                                                                                                                                                                                                          | 72/2217 [00:00<00:03, 712.04it/s]\u001b[A\n",
      "  7%|███████████████▉                                                                                                                                                                                                                                 | 147/2217 [00:00<00:02, 730.43it/s]\u001b[A\n",
      " 10%|████████████████████████▍                                                                                                                                                                                                                        | 225/2217 [00:00<00:02, 751.68it/s]\u001b[A\n",
      " 14%|████████████████████████████████▊                                                                                                                                                                                                                | 302/2217 [00:00<00:02, 756.23it/s]\u001b[A\n",
      " 17%|█████████████████████████████████████████▎                                                                                                                                                                                                       | 380/2217 [00:00<00:02, 762.39it/s]\u001b[A\n",
      " 21%|█████████████████████████████████████████████████▉                                                                                                                                                                                               | 459/2217 [00:00<00:02, 769.97it/s]\u001b[A\n",
      " 24%|██████████████████████████████████████████████████████████▊                                                                                                                                                                                      | 541/2217 [00:00<00:02, 784.61it/s]\u001b[A\n",
      " 28%|███████████████████████████████████████████████████████████████████▉                                                                                                                                                                             | 625/2217 [00:00<00:01, 799.45it/s]\u001b[A\n",
      " 32%|████████████████████████████████████████████████████████████████████████████▉                                                                                                                                                                    | 708/2217 [00:00<00:01, 806.71it/s]\u001b[A\n",
      " 36%|█████████████████████████████████████████████████████████████████████████████████████▊                                                                                                                                                           | 789/2217 [00:01<00:01, 806.32it/s]\u001b[A\n",
      " 39%|██████████████████████████████████████████████████████████████████████████████████████████████▌                                                                                                                                                  | 870/2217 [00:01<00:01, 805.80it/s]\u001b[A\n",
      " 43%|███████████████████████████████████████████████████████████████████████████████████████████████████████▊                                                                                                                                         | 955/2217 [00:01<00:01, 818.78it/s]\u001b[A\n",
      " 47%|████████████████████████████████████████████████████████████████████████████████████████████████████████████████▎                                                                                                                               | 1037/2217 [00:01<00:01, 806.65it/s]\u001b[A\n",
      " 50%|█████████████████████████████████████████████████████████████████████████████████████████████████████████████████████████                                                                                                                       | 1118/2217 [00:01<00:01, 807.15it/s]\u001b[A\n",
      " 54%|█████████████████████████████████████████████████████████████████████████████████████████████████████████████████████████████████▊                                                                                                              | 1199/2217 [00:01<00:01, 798.44it/s]\u001b[A\n",
      " 58%|██████████████████████████████████████████████████████████████████████████████████████████████████████████████████████████████████████████▍                                                                                                     | 1279/2217 [00:01<00:01, 793.30it/s]\u001b[A\n",
      " 61%|███████████████████████████████████████████████████████████████████████████████████████████████████████████████████████████████████████████████████▍                                                                                            | 1362/2217 [00:01<00:01, 803.70it/s]\u001b[A\n",
      " 65%|████████████████████████████████████████████████████████████████████████████████████████████████████████████████████████████████████████████████████████████▍                                                                                   | 1445/2217 [00:01<00:00, 809.73it/s]\u001b[A\n",
      " 69%|█████████████████████████████████████████████████████████████████████████████████████████████████████████████████████████████████████████████████████████████████████▌                                                                          | 1529/2217 [00:01<00:00, 817.17it/s]\u001b[A\n",
      " 73%|██████████████████████████████████████████████████████████████████████████████████████████████████████████████████████████████████████████████████████████████████████████████▌                                                                 | 1613/2217 [00:02<00:00, 823.04it/s]\u001b[A\n",
      " 76%|███████████████████████████████████████████████████████████████████████████████████████████████████████████████████████████████████████████████████████████████████████████████████████▌                                                        | 1696/2217 [00:02<00:00, 824.45it/s]\u001b[A\n",
      " 80%|████████████████████████████████████████████████████████████████████████████████████████████████████████████████████████████████████████████████████████████████████████████████████████████████▌                                               | 1779/2217 [00:02<00:00, 825.75it/s]\u001b[A\n",
      " 84%|█████████████████████████████████████████████████████████████████████████████████████████████████████████████████████████████████████████████████████████████████████████████████████████████████████████▌                                      | 1862/2217 [00:02<00:00, 823.53it/s]\u001b[A\n",
      " 88%|██████████████████████████████████████████████████████████████████████████████████████████████████████████████████████████████████████████████████████████████████████████████████████████████████████████████████▌                             | 1945/2217 [00:02<00:00, 819.59it/s]\u001b[A\n",
      " 91%|███████████████████████████████████████████████████████████████████████████████████████████████████████████████████████████████████████████████████████████████████████████████████████████████████████████████████████████▍                    | 2027/2217 [00:02<00:00, 812.82it/s]\u001b[A\n",
      " 95%|████████████████████████████████████████████████████████████████████████████████████████████████████████████████████████████████████████████████████████████████████████████████████████████████████████████████████████████████████▎           | 2109/2217 [00:02<00:00, 807.04it/s]\u001b[A\n",
      " 99%|█████████████████████████████████████████████████████████████████████████████████████████████████████████████████████████████████████████████████████████████████████████████████████████████████████████████████████████████████████████████   | 2190/2217 [00:02<00:00, 797.86it/s]\u001b[A\n",
      "100%|███████████████████████████████████████████████████████████████████████████████████████████████████████████████████████████████████████████████████████████████████████████████████████████████████████████████████████████████████████████████████████| 1/1 [00:02<00:00,  2.78s/it]\u001b[A\n"
     ]
    }
   ],
   "source": [
    "pred_dir = Path(f\"/home/clay/research/kaggle/sennet/data_dumps/predicted/ensembled_cc3d/{folder}\")\n",
    "sub_df = generate_submission_df_from_one_chunked_inference(pred_dir)\n",
    "sub_df.to_csv(pred_dir / \"submission.csv\")"
   ]
  },
  {
   "cell_type": "code",
   "execution_count": null,
   "id": "1a54d846-9e3d-4657-8040-2002ad66abd9",
   "metadata": {},
   "outputs": [],
   "source": [
    "# image"
   ]
  },
  {
   "cell_type": "code",
   "execution_count": null,
   "id": "3a14bd4c-3992-47b8-a0e0-dec3915dc803",
   "metadata": {},
   "outputs": [],
   "source": [
    "out_mmap.data.sum() / mmap.sum()"
   ]
  },
  {
   "cell_type": "code",
   "execution_count": null,
   "id": "450568c0-6c28-441e-af47-0825a644891f",
   "metadata": {},
   "outputs": [],
   "source": []
  }
 ],
 "metadata": {
  "kernelspec": {
   "display_name": "Python 3 (ipykernel)",
   "language": "python",
   "name": "python3"
  },
  "language_info": {
   "codemirror_mode": {
    "name": "ipython",
    "version": 3
   },
   "file_extension": ".py",
   "mimetype": "text/x-python",
   "name": "python",
   "nbconvert_exporter": "python",
   "pygments_lexer": "ipython3",
   "version": "3.11.6"
  }
 },
 "nbformat": 4,
 "nbformat_minor": 5
}
