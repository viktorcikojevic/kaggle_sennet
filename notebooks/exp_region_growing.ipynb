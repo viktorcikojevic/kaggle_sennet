{
 "cells": [
  {
   "cell_type": "code",
   "execution_count": null,
   "id": "758f595a-40ba-4a9a-a604-01226ead0d3c",
   "metadata": {},
   "outputs": [],
   "source": [
    "import sys\n",
    "\n",
    "\n",
    "sys.path.append(\"../src/\")"
   ]
  },
  {
   "cell_type": "code",
   "execution_count": null,
   "id": "437452a3-17bf-4e9f-9b36-db0abc37b085",
   "metadata": {},
   "outputs": [],
   "source": [
    "# import RegionGrowth\n",
    "from sennet.core.mmap_arrays import read_mmap_array, create_mmap_array\n",
    "from sennet.core.region_growing import RegionGrow3D\n",
    "import matplotlib.pyplot as plt\n",
    "import numpy as np\n",
    "from pathlib import Path"
   ]
  },
  {
   "cell_type": "code",
   "execution_count": null,
   "id": "9511b30d-3a27-4ef4-83b7-f9752705f596",
   "metadata": {},
   "outputs": [],
   "source": [
    "# RegionGrowth"
   ]
  },
  {
   "cell_type": "code",
   "execution_count": null,
   "id": "fc5195dd-aecb-4621-bbaa-3ea1657ebbf7",
   "metadata": {},
   "outputs": [],
   "source": [
    "img = np.random.uniform(0, 255, (200, 512, 512)).astype(np.uint8)\n",
    "mask = np.ones_like(img)\n",
    "\n",
    "coords = np.where(img > 100)\n",
    "seeds = np.stack(coords, axis=-1)"
   ]
  },
  {
   "cell_type": "code",
   "execution_count": null,
   "id": "f4b6ddc1-f23b-47f2-8ef9-427c20d96d07",
   "metadata": {},
   "outputs": [],
   "source": [
    "seeds.shape"
   ]
  },
  {
   "cell_type": "code",
   "execution_count": null,
   "id": "acf7f80c-3cbe-4032-8de9-9b22fcd9004c",
   "metadata": {},
   "outputs": [],
   "source": [
    "rg = RegionGrow3D(\n",
    "    images=img, \n",
    "    masks=mask,\n",
    "    upper_threshold=255,\n",
    "    lower_threshold=0,\n",
    "    neighbor_mode=\"26n\"\n",
    ")"
   ]
  },
  {
   "cell_type": "code",
   "execution_count": null,
   "id": "f97b6c51-19b4-45c0-8ab3-73fe2988552e",
   "metadata": {},
   "outputs": [],
   "source": [
    "rg.main(seeds, update=True)"
   ]
  },
  {
   "cell_type": "code",
   "execution_count": null,
   "id": "a6988a7f-9e42-4546-a15a-162cd6e39eed",
   "metadata": {},
   "outputs": [],
   "source": []
  },
  {
   "cell_type": "code",
   "execution_count": null,
   "id": "105c9493-27fb-416a-8f11-dd5d9f4b23e0",
   "metadata": {},
   "outputs": [],
   "source": []
  }
 ],
 "metadata": {
  "kernelspec": {
   "display_name": "Python 3 (ipykernel)",
   "language": "python",
   "name": "python3"
  },
  "language_info": {
   "codemirror_mode": {
    "name": "ipython",
    "version": 3
   },
   "file_extension": ".py",
   "mimetype": "text/x-python",
   "name": "python",
   "nbconvert_exporter": "python",
   "pygments_lexer": "ipython3",
   "version": "3.11.6"
  }
 },
 "nbformat": 4,
 "nbformat_minor": 5
}
